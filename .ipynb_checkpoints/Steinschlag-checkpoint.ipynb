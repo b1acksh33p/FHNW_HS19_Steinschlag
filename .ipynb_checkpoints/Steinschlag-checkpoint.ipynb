{
 "cells": [
  {
   "cell_type": "code",
   "execution_count": 1,
   "metadata": {
    "pycharm": {
     "is_executing": false
    }
   },
   "outputs": [
    {
     "ename": "ModuleNotFoundError",
     "evalue": "No module named 'pandas'",
     "output_type": "error",
     "traceback": [
      "\u001b[1;31m---------------------------------------------------------------------------\u001b[0m",
      "\u001b[1;31mModuleNotFoundError\u001b[0m                       Traceback (most recent call last)",
      "\u001b[1;32m<ipython-input-1-556cba191ffa>\u001b[0m in \u001b[0;36m<module>\u001b[1;34m\u001b[0m\n\u001b[1;32m----> 1\u001b[1;33m \u001b[1;32mimport\u001b[0m \u001b[0mpandas\u001b[0m \u001b[1;32mas\u001b[0m \u001b[0mpd\u001b[0m\u001b[1;33m\u001b[0m\u001b[1;33m\u001b[0m\u001b[0m\n\u001b[0m\u001b[0;32m      2\u001b[0m \u001b[1;32mimport\u001b[0m \u001b[0mnumpy\u001b[0m \u001b[1;32mas\u001b[0m \u001b[0mnp\u001b[0m\u001b[1;33m\u001b[0m\u001b[1;33m\u001b[0m\u001b[0m\n\u001b[0;32m      3\u001b[0m \u001b[1;32mimport\u001b[0m \u001b[0mseaborn\u001b[0m \u001b[1;32mas\u001b[0m \u001b[0msns\u001b[0m\u001b[1;33m\u001b[0m\u001b[1;33m\u001b[0m\u001b[0m\n\u001b[0;32m      4\u001b[0m \u001b[1;32mimport\u001b[0m \u001b[0mmatplotlib\u001b[0m\u001b[1;33m.\u001b[0m\u001b[0mpyplot\u001b[0m \u001b[1;32mas\u001b[0m \u001b[0mplt\u001b[0m\u001b[1;33m\u001b[0m\u001b[1;33m\u001b[0m\u001b[0m\n\u001b[0;32m      5\u001b[0m \u001b[1;32mimport\u001b[0m \u001b[0mcsv\u001b[0m\u001b[1;33m\u001b[0m\u001b[1;33m\u001b[0m\u001b[0m\n",
      "\u001b[1;31mModuleNotFoundError\u001b[0m: No module named 'pandas'"
     ]
    }
   ],
   "source": [
    "import pandas as pd\n",
    "import numpy as np\n",
    "import seaborn as sns\n",
    "import matplotlib.pyplot as plt\n",
    "import csv\n",
    "import datetime as dt\n",
    "from datetime import time\n",
    "from datetime import datetime"
   ]
  },
  {
   "cell_type": "code",
   "execution_count": 3,
   "metadata": {},
   "outputs": [],
   "source": [
    "#Datan säubern und in eine einheitliche Form bringen"
   ]
  },
  {
   "cell_type": "code",
   "execution_count": 4,
   "metadata": {},
   "outputs": [],
   "source": [
    "# Daten laden\n",
    "\n",
    "raw_data_1 = pd.read_csv(\"out_1.csv\")\n",
    "raw_data_2 = pd.read_csv(\"out_2.csv\")"
   ]
  },
  {
   "cell_type": "code",
   "execution_count": 5,
   "metadata": {},
   "outputs": [],
   "source": [
    "# Alle Zeilen löschen die in ALLEN Zellen keine Werte haben\n",
    "\n",
    "data_1_no_rows = raw_data_1.dropna(how='all')\n",
    "data_2_no_rows = raw_data_2.dropna(how='all')"
   ]
  },
  {
   "cell_type": "code",
   "execution_count": 6,
   "metadata": {},
   "outputs": [],
   "source": [
    "# Alle Kolonen löschen die NA Werte enthalten\n",
    "\n",
    "data_1_no_na = data_1_no_rows.dropna(axis= 'columns')\n",
    "data_2_no_na = data_2_no_rows.dropna(axis= 'columns')"
   ]
  },
  {
   "cell_type": "code",
   "execution_count": 7,
   "metadata": {},
   "outputs": [
    {
     "data": {
      "text/plain": [
       "Datum                    0\n",
       "Uhrzeit                  0\n",
       "Masse [kg]               0\n",
       "Geschwindigkeit [m/s]    0\n",
       "dtype: int64"
      ]
     },
     "execution_count": 7,
     "metadata": {},
     "output_type": "execute_result"
    }
   ],
   "source": [
    "# Überprüfen wie viele \"NA\" Werte noch vorhanden sind\n",
    "data_1_no_na.isna().sum()"
   ]
  },
  {
   "cell_type": "code",
   "execution_count": 8,
   "metadata": {},
   "outputs": [
    {
     "data": {
      "text/plain": [
       "Date       0\n",
       "Uhrzeit    0\n",
       "m [kg]     0\n",
       "v [m/s]    0\n",
       "dtype: int64"
      ]
     },
     "execution_count": 8,
     "metadata": {},
     "output_type": "execute_result"
    }
   ],
   "source": [
    "# Überprüfen wie viele \"NA\" Werte noch vorhanden sind\n",
    "data_2_no_na.isna().sum()"
   ]
  },
  {
   "cell_type": "code",
   "execution_count": 9,
   "metadata": {},
   "outputs": [],
   "source": [
    "#Um eine Vergleichbarkeit von Daten herstellen zu können sollte die Benennung der Zellen die selbe sein\n",
    "\n",
    "data_stelle_1= data_1_no_na.rename(columns= {'Datum':'Date',\n",
    "                                             'Uhrzeit': 'Time',\n",
    "                                             'Masse [kg]' : 'Masse in kg' ,\n",
    "                                             'Geschwindigkeit [m/s]' : 'Speed in m/s' \n",
    "                                            })"
   ]
  },
  {
   "cell_type": "code",
   "execution_count": 10,
   "metadata": {},
   "outputs": [],
   "source": [
    "data_stelle_2= data_2_no_na.rename(columns= {'Uhrzeit': 'Time',\n",
    "                                             'm [kg]' : 'Masse in kg' ,\n",
    "                                             'v [m/s]' : 'Speed in m/s' \n",
    "                                            })"
   ]
  },
  {
   "cell_type": "code",
   "execution_count": 11,
   "metadata": {},
   "outputs": [],
   "source": [
    "# Für die Berechnung der unabhägigen Wahrscheinlichkeiten werden die beiden Datensätze zusammengefasst\n",
    "frames = [data_stelle_1, data_stelle_2]\n",
    "all_data_clean = pd.concat(frames)"
   ]
  },
  {
   "cell_type": "code",
   "execution_count": 16,
   "metadata": {},
   "outputs": [],
   "source": [
    "# Berechnung der kinetischen Energie und Hinzufügen dieser an die existierende Daten\n",
    "# E = m * v^2 * 0.5\n",
    "# m = Masse in kg\n",
    "# v = Speed in m/s\n",
    "data_stelle_1['E in kJ'] = (data_stelle_1['Masse in kg'] * data_stelle_1['Speed in m/s']) * 0.5 / 1000\n",
    "data_stelle_2['E in kJ'] = (data_stelle_2['Masse in kg'] * data_stelle_2['Speed in m/s']) * 0.5 / 1000\n",
    "all_data_clean['E in kJ'] = (all_data_clean['Masse in kg'] * all_data_clean['Speed in m/s']) * 0.5 / 1000"
   ]
  },
  {
   "cell_type": "code",
   "execution_count": 17,
   "metadata": {},
   "outputs": [
    {
     "data": {
      "text/plain": [
       "Text(0, 0.5, 'Geschwindigkei in m/s')"
      ]
     },
     "execution_count": 17,
     "metadata": {},
     "output_type": "execute_result"
    },
    {
     "data": {
      "image/png": "[encoded data removed]",
      "text/plain": [
       "<Figure size 640x640 with 1 Axes>"
      ]
     },
     "metadata": {
      "needs_background": "light"
     },
     "output_type": "display_data"
    }
   ],
   "source": [
    "plt.figure(figsize=(8, 8), dpi=80)\n",
    "plt.scatter(data_stelle_1['Masse in kg'], data_stelle_1['Speed in m/s'])\n",
    "\n",
    "plt.title(\"Verteilung der Masse und der Geschwindigkeiten der Steinschläge - Stelle 1\")\n",
    "plt.xlabel(\"Masse in kg\")\n",
    "plt.ylabel(\"Geschwindigkei in m/s\")"
   ]
  },
  {
   "cell_type": "code",
   "execution_count": 18,
   "metadata": {},
   "outputs": [
    {
     "data": {
      "text/plain": [
       "Text(0, 0.5, 'Geschwindigkei in m/s')"
      ]
     },
     "execution_count": 18,
     "metadata": {},
     "output_type": "execute_result"
    },
    {
     "data": {
      "image/png": "[encoded data removed]",
      "text/plain": [
       "<Figure size 640x640 with 1 Axes>"
      ]
     },
     "metadata": {
      "needs_background": "light"
     },
     "output_type": "display_data"
    }
   ],
   "source": [
    "plt.figure(figsize=(8, 8), dpi=80)\n",
    "plt.scatter(data_stelle_2['Masse in kg'], data_stelle_2['Speed in m/s'])\n",
    "\n",
    "plt.title(\"Verteilung der Masse und der Geschwindigkeiten der Steinschläge - Stelle 2\")\n",
    "plt.xlabel(\"Masse in kg\")\n",
    "plt.ylabel(\"Geschwindigkei in m/s\")"
   ]
  },
  {
   "cell_type": "code",
   "execution_count": 19,
   "metadata": {},
   "outputs": [
    {
     "data": {
      "text/plain": [
       "Text(0, 0.5, 'Geschwindigkei in m/s')"
      ]
     },
     "execution_count": 19,
     "metadata": {},
     "output_type": "execute_result"
    },
    {
     "data": {
      "image/png": "[encoded data removed]",
      "text/plain": [
       "<Figure size 640x640 with 1 Axes>"
      ]
     },
     "metadata": {
      "needs_background": "light"
     },
     "output_type": "display_data"
    }
   ],
   "source": [
    "plt.figure(figsize=(8, 8), dpi=80)\n",
    "plt.scatter(all_data_clean['Masse in kg'], all_data_clean['Speed in m/s'])\n",
    "\n",
    "plt.title(\"Verteilung der Masse und der Geschwindigkeiten der Steinschläge - Beide Stellen\")\n",
    "plt.xlabel(\"Masse in kg\")\n",
    "plt.ylabel(\"Geschwindigkei in m/s\")"
   ]
  },
  {
   "cell_type": "code",
   "execution_count": 21,
   "metadata": {},
   "outputs": [
    {
     "data": {
      "text/plain": [
       "Text(0, 0.5, 'Häufigkeit')"
      ]
     },
     "execution_count": 21,
     "metadata": {},
     "output_type": "execute_result"
    },
    {
     "data": {
      "image/png": "[encoded data removed]",
      "text/plain": [
       "<Figure size 864x576 with 1 Axes>"
      ]
     },
     "metadata": {
      "needs_background": "light"
     },
     "output_type": "display_data"
    }
   ],
   "source": [
    "data_stelle_1['E in kJ'].hist(bins=30, figsize = (12,8))\n",
    "plt.title(\"Verteilung der kinetischen Energie der Steinschläge - Ablösestelle 1\")\n",
    "plt.xlabel(\"kinetische Energie in\")\n",
    "plt.ylabel(\"Häufigkeit\")"
   ]
  },
  {
   "cell_type": "code",
   "execution_count": 22,
   "metadata": {},
   "outputs": [
    {
     "data": {
      "text/plain": [
       "Text(0, 0.5, 'Häufigkeit')"
      ]
     },
     "execution_count": 22,
     "metadata": {},
     "output_type": "execute_result"
    },
    {
     "data": {
      "image/png": "[encoded data removed]",
      "text/plain": [
       "<Figure size 864x576 with 1 Axes>"
      ]
     },
     "metadata": {
      "needs_background": "light"
     },
     "output_type": "display_data"
    }
   ],
   "source": [
    "data_stelle_2['E in kJ'].hist(bins=30, figsize = (12,8))\n",
    "plt.title(\"Verteilung der kinetischen Energie der Steinschläge - Ablösestelle 2\")\n",
    "plt.xlabel(\"kinetische Energie\")\n",
    "plt.ylabel(\"Häufigkeit\")"
   ]
  },
  {
   "cell_type": "code",
   "execution_count": 23,
   "metadata": {},
   "outputs": [
    {
     "data": {
      "text/plain": [
       "count    68.000000\n",
       "mean      2.736066\n",
       "std       3.232967\n",
       "min       0.052800\n",
       "25%       0.910200\n",
       "50%       1.599350\n",
       "75%       2.669363\n",
       "max      15.808000\n",
       "Name: E in kJ, dtype: float64"
      ]
     },
     "execution_count": 23,
     "metadata": {},
     "output_type": "execute_result"
    }
   ],
   "source": [
    "# Statisische Merkmale kinetische Energie\n",
    "data_stelle_1['E in kJ'].describe()"
   ]
  },
  {
   "cell_type": "code",
   "execution_count": 24,
   "metadata": {},
   "outputs": [
    {
     "data": {
      "text/plain": [
       "count    32.000000\n",
       "mean      1.865972\n",
       "std       2.110540\n",
       "min       0.000000\n",
       "25%       0.726862\n",
       "50%       1.039400\n",
       "75%       1.992000\n",
       "max       8.952300\n",
       "Name: E in kJ, dtype: float64"
      ]
     },
     "execution_count": 24,
     "metadata": {},
     "output_type": "execute_result"
    }
   ],
   "source": [
    "data_stelle_2['E in kJ'].describe()"
   ]
  },
  {
   "cell_type": "code",
   "execution_count": 25,
   "metadata": {},
   "outputs": [
    {
     "data": {
      "text/plain": [
       "count    100.000000\n",
       "mean       2.457636\n",
       "std        2.938509\n",
       "min        0.000000\n",
       "25%        0.854950\n",
       "50%        1.398550\n",
       "75%        2.468050\n",
       "max       15.808000\n",
       "Name: E in kJ, dtype: float64"
      ]
     },
     "execution_count": 25,
     "metadata": {},
     "output_type": "execute_result"
    }
   ],
   "source": [
    "all_data_clean['E in kJ'].describe()"
   ]
  },
  {
   "cell_type": "code",
   "execution_count": 26,
   "metadata": {},
   "outputs": [],
   "source": [
    "# Nach diesen zwei Auswertungen sind folgende Erkentnisse zu sehen:\n",
    "# 1. Die kinetische Energie ist abhängig von der Stelle an der sich der Felsen löst\n",
    "# 2. Die meisten Steinschläge haben eine Ballung der Häufung im unteren Bereich der kinetischen Energie"
   ]
  },
  {
   "cell_type": "code",
   "execution_count": 27,
   "metadata": {},
   "outputs": [
    {
     "name": "stdout",
     "output_type": "stream",
     "text": [
      "<class 'pandas.core.frame.DataFrame'>\n",
      "Int64Index: 68 entries, 0 to 67\n",
      "Data columns (total 5 columns):\n",
      "Date            68 non-null object\n",
      "Time            68 non-null object\n",
      "Masse in kg     68 non-null float64\n",
      "Speed in m/s    68 non-null float64\n",
      "E in kJ         68 non-null float64\n",
      "dtypes: float64(3), object(2)\n",
      "memory usage: 3.2+ KB\n"
     ]
    }
   ],
   "source": [
    "# Wenn nun das Format der einzelnen Zellen betrachtet wird, wird ersichtlich, dass die Zeit nicht als Zeit formatiert ist\n",
    "data_stelle_1.info()"
   ]
  },
  {
   "cell_type": "code",
   "execution_count": 28,
   "metadata": {},
   "outputs": [],
   "source": [
    "# Kovenrtierung der \"Time\" Spalte in Zeitformat\n",
    "data_stelle_1 ['Zeitfenster'] = pd.to_datetime (data_stelle_1['Time']).dt.hour\n",
    "data_stelle_2 ['Zeitfenster'] = pd.to_datetime (data_stelle_2['Time']).dt.hour\n",
    "all_data_clean ['Zeitfenster'] = pd.to_datetime (all_data_clean['Time']).dt.hour"
   ]
  },
  {
   "cell_type": "code",
   "execution_count": 29,
   "metadata": {},
   "outputs": [
    {
     "name": "stdout",
     "output_type": "stream",
     "text": [
      "<class 'pandas.core.frame.DataFrame'>\n",
      "Int64Index: 68 entries, 0 to 67\n",
      "Data columns (total 6 columns):\n",
      "Date            68 non-null object\n",
      "Time            68 non-null object\n",
      "Masse in kg     68 non-null float64\n",
      "Speed in m/s    68 non-null float64\n",
      "E in kJ         68 non-null float64\n",
      "Zeitfenster     68 non-null int64\n",
      "dtypes: float64(3), int64(1), object(2)\n",
      "memory usage: 3.7+ KB\n"
     ]
    }
   ],
   "source": [
    "# Nach der Transformation wurde die Spalte 'Time' in ein datetime object umgewandlet. \n",
    "# Bei der Umwandlung selber wurde das heutige Datum hinzugefügt\n",
    "# In dieser Arbeit ergaben sich grössere Schwierigkeiten mit der Transformation des Datetime Objekts\n",
    "data_stelle_1.info()"
   ]
  },
  {
   "cell_type": "code",
   "execution_count": 30,
   "metadata": {},
   "outputs": [
    {
     "name": "stdout",
     "output_type": "stream",
     "text": [
      "<class 'pandas.core.frame.DataFrame'>\n",
      "Int64Index: 32 entries, 0 to 31\n",
      "Data columns (total 6 columns):\n",
      "Date            32 non-null object\n",
      "Time            32 non-null object\n",
      "Masse in kg     32 non-null float64\n",
      "Speed in m/s    32 non-null float64\n",
      "E in kJ         32 non-null float64\n",
      "Zeitfenster     32 non-null int64\n",
      "dtypes: float64(3), int64(1), object(2)\n",
      "memory usage: 1.8+ KB\n"
     ]
    }
   ],
   "source": [
    "data_stelle_2.info()"
   ]
  },
  {
   "cell_type": "code",
   "execution_count": 31,
   "metadata": {
    "scrolled": false
   },
   "outputs": [
    {
     "data": {
      "text/plain": [
       "Text(0, 0.5, 'Häufigkeit')"
      ]
     },
     "execution_count": 31,
     "metadata": {},
     "output_type": "execute_result"
    },
    {
     "data": {
      "image/png": "[encoded data removed]",
      "text/plain": [
       "<Figure size 864x576 with 1 Axes>"
      ]
     },
     "metadata": {
      "needs_background": "light"
     },
     "output_type": "display_data"
    }
   ],
   "source": [
    "data_stelle_1['Zeitfenster'].hist(bins=24, figsize=(12,8))\n",
    "plt.title(\"Verteilung der Steinschläge auf die Zeit - Ablösestelle 1 \")\n",
    "plt.xlabel(\"Uhrzeit - Zeinfenster\")\n",
    "plt.ylabel(\"Häufigkeit\")"
   ]
  },
  {
   "cell_type": "code",
   "execution_count": 32,
   "metadata": {},
   "outputs": [
    {
     "data": {
      "text/plain": [
       "Text(0, 0.5, 'Häufigkeit')"
      ]
     },
     "execution_count": 32,
     "metadata": {},
     "output_type": "execute_result"
    },
    {
     "data": {
      "image/png": "[encoded data removed]",
      "text/plain": [
       "<Figure size 864x576 with 1 Axes>"
      ]
     },
     "metadata": {
      "needs_background": "light"
     },
     "output_type": "display_data"
    }
   ],
   "source": [
    "data_stelle_2['Zeitfenster'].hist(bins=24, figsize=(12,8))\n",
    "plt.title(\"Verteilung der Steinschläge auf die Zeit - Ablösestelle 2 \")\n",
    "plt.xlabel(\"Uhrzeit - Zeinfenster\")\n",
    "plt.ylabel(\"Häufigkeit\")"
   ]
  },
  {
   "cell_type": "code",
   "execution_count": 33,
   "metadata": {},
   "outputs": [
    {
     "data": {
      "text/plain": [
       "Text(0, 0.5, 'Häufigkeit')"
      ]
     },
     "execution_count": 33,
     "metadata": {},
     "output_type": "execute_result"
    },
    {
     "data": {
      "image/png": "[encoded data removed]",
      "text/plain": [
       "<Figure size 864x576 with 1 Axes>"
      ]
     },
     "metadata": {
      "needs_background": "light"
     },
     "output_type": "display_data"
    }
   ],
   "source": [
    "all_data_clean['Zeitfenster'].hist(bins=24, figsize=(12,8))\n",
    "plt.title(\"Verteilung der Steinschläge auf die Zeit - Alle Ablösestellen\")\n",
    "plt.xlabel(\"Uhrzeit - Zeinfenster\")\n",
    "plt.ylabel(\"Häufigkeit\")"
   ]
  },
  {
   "cell_type": "code",
   "execution_count": 34,
   "metadata": {},
   "outputs": [
    {
     "name": "stdout",
     "output_type": "stream",
     "text": [
      "2160\n"
     ]
    }
   ],
   "source": [
    "# Berechnung der Wahrscheinlichkeiten einer Ablösung in einem bestimmten Zeitfenster\n",
    "# Der Ereignisraum der Ablösungen sind alle möglichen Zeitfenster in den 3 Monaten = E\n",
    "\n",
    "# Die Mächtigkeit von E = Tage im Monat (Januar + Februar + März) * 24\n",
    "E = (31 + 28 + 31)*24\n",
    "print (E)\n"
   ]
  },
  {
   "cell_type": "code",
   "execution_count": 35,
   "metadata": {},
   "outputs": [
    {
     "name": "stdout",
     "output_type": "stream",
     "text": [
      "          Date   Time  Masse in kg  Speed in m/s  E in kJ  Zeitfenster\n",
      "29  2019-02-08  12:00        308.0           9.0    1.386           12\n",
      "62  2019-03-17  12:00        422.0          10.0    2.110           12\n"
     ]
    }
   ],
   "source": [
    "# An wie vielen der möglichen Zeitfenster gab es eine Ablösung? \n",
    "# Es ist nötig herauszufinden an welchem Zeitfesnteres mehrere Ablösungen gab\n",
    "\n",
    "doppelte_einträge_1 = data_stelle_1[data_stelle_1.duplicated(['Date', 'Time'])]\n",
    "print (doppelte_einträge_1, sep='\\n')"
   ]
  },
  {
   "cell_type": "code",
   "execution_count": 36,
   "metadata": {},
   "outputs": [
    {
     "name": "stdout",
     "output_type": "stream",
     "text": [
      "Empty DataFrame\n",
      "Columns: [Date, Time, Masse in kg, Speed in m/s, E in kJ, Zeitfenster]\n",
      "Index: []\n"
     ]
    }
   ],
   "source": [
    "doppelte_einträge_2 = data_stelle_2[data_stelle_2.duplicated(['Date', 'Time'])]\n",
    "print (doppelte_einträge_2, sep='\\n')"
   ]
  },
  {
   "cell_type": "code",
   "execution_count": 37,
   "metadata": {},
   "outputs": [
    {
     "name": "stdout",
     "output_type": "stream",
     "text": [
      "Wahscheinlichkeit einer Ablösung in der Stelle 1 = 0.030555555555555555\n",
      "Wahscheinlichkeit einer Ablösung in der Stelle 2 = 0.014814814814814815\n"
     ]
    }
   ],
   "source": [
    "# Die Erkentniss aus den obigen Analysen zeigt, dass bei der Ablösestelle 1, \n",
    "# an zwei Zeitfenstern zwei Steine sich abgelöst haben. \n",
    "# An der Ablösestelle 2 gibt es keine solchen doppelten Zeitfenster\n",
    "\n",
    "# Die Mächtigkeit der Ablösendenzeitfenster = Anzahl Beobachtungen - Anzahl doppelte Beobachtungen\n",
    "\n",
    "# Mächtigkeit Ablösezeintefester 1 = 68 - 2 = 66\n",
    "# Mächtigkeit Ablösezeintefester 2 = 32 - 0 = 32\n",
    "\n",
    "# Erwartungswert, dass in einem Zeitfenster ein Stein sich löst = |Ablösezeitfenster| / |E|\n",
    "\n",
    "Wahrscheinlichkeit_Ablösung_Zeitfenster_1 = 66 / 2160\n",
    "print(\"Wahscheinlichkeit einer Ablösung in der Stelle 1 = \" +str(Wahrscheinlichkeit_Ablösung_Zeitfenster_1))\n",
    "Wahrscheinlichkeit_Ablösung_Zeitfenster_2 = 32 / 2160\n",
    "print(\"Wahscheinlichkeit einer Ablösung in der Stelle 2 = \" +str(Wahrscheinlichkeit_Ablösung_Zeitfenster_2))"
   ]
  },
  {
   "cell_type": "code",
   "execution_count": 94,
   "metadata": {},
   "outputs": [],
   "source": [
    "# Zählen der Ablösungen pro Zeitfenster\n",
    "\n",
    "Ablösungen = pd.pivot_table(all_data_clean, values = ['Date'], index=['Zeitfenster'],  aggfunc = 'count')"
   ]
  },
  {
   "cell_type": "code",
   "execution_count": 99,
   "metadata": {},
   "outputs": [],
   "source": [
    "Ablösungen ['P(Zeintfenster)'] = Ablösungen.Date.apply(lambda x: x/100/2160)"
   ]
  },
  {
   "cell_type": "code",
   "execution_count": 100,
   "metadata": {},
   "outputs": [
    {
     "data": {
      "text/html": [
       "<div>\n",
       "<style scoped>\n",
       "    .dataframe tbody tr th:only-of-type {\n",
       "        vertical-align: middle;\n",
       "    }\n",
       "\n",
       "    .dataframe tbody tr th {\n",
       "        vertical-align: top;\n",
       "    }\n",
       "\n",
       "    .dataframe thead th {\n",
       "        text-align: right;\n",
       "    }\n",
       "</style>\n",
       "<table border=\"1\" class=\"dataframe\">\n",
       "  <thead>\n",
       "    <tr style=\"text-align: right;\">\n",
       "      <th></th>\n",
       "      <th>Date</th>\n",
       "      <th>P(Zeintfenster)</th>\n",
       "    </tr>\n",
       "    <tr>\n",
       "      <th>Zeitfenster</th>\n",
       "      <th></th>\n",
       "      <th></th>\n",
       "    </tr>\n",
       "  </thead>\n",
       "  <tbody>\n",
       "    <tr>\n",
       "      <th>0</th>\n",
       "      <td>2</td>\n",
       "      <td>0.000009</td>\n",
       "    </tr>\n",
       "    <tr>\n",
       "      <th>1</th>\n",
       "      <td>2</td>\n",
       "      <td>0.000009</td>\n",
       "    </tr>\n",
       "    <tr>\n",
       "      <th>2</th>\n",
       "      <td>3</td>\n",
       "      <td>0.000014</td>\n",
       "    </tr>\n",
       "    <tr>\n",
       "      <th>3</th>\n",
       "      <td>4</td>\n",
       "      <td>0.000019</td>\n",
       "    </tr>\n",
       "    <tr>\n",
       "      <th>4</th>\n",
       "      <td>4</td>\n",
       "      <td>0.000019</td>\n",
       "    </tr>\n",
       "    <tr>\n",
       "      <th>5</th>\n",
       "      <td>3</td>\n",
       "      <td>0.000014</td>\n",
       "    </tr>\n",
       "    <tr>\n",
       "      <th>6</th>\n",
       "      <td>4</td>\n",
       "      <td>0.000019</td>\n",
       "    </tr>\n",
       "    <tr>\n",
       "      <th>7</th>\n",
       "      <td>1</td>\n",
       "      <td>0.000005</td>\n",
       "    </tr>\n",
       "    <tr>\n",
       "      <th>8</th>\n",
       "      <td>3</td>\n",
       "      <td>0.000014</td>\n",
       "    </tr>\n",
       "    <tr>\n",
       "      <th>9</th>\n",
       "      <td>4</td>\n",
       "      <td>0.000019</td>\n",
       "    </tr>\n",
       "    <tr>\n",
       "      <th>10</th>\n",
       "      <td>6</td>\n",
       "      <td>0.000028</td>\n",
       "    </tr>\n",
       "    <tr>\n",
       "      <th>11</th>\n",
       "      <td>3</td>\n",
       "      <td>0.000014</td>\n",
       "    </tr>\n",
       "    <tr>\n",
       "      <th>12</th>\n",
       "      <td>9</td>\n",
       "      <td>0.000042</td>\n",
       "    </tr>\n",
       "    <tr>\n",
       "      <th>13</th>\n",
       "      <td>4</td>\n",
       "      <td>0.000019</td>\n",
       "    </tr>\n",
       "    <tr>\n",
       "      <th>14</th>\n",
       "      <td>8</td>\n",
       "      <td>0.000037</td>\n",
       "    </tr>\n",
       "    <tr>\n",
       "      <th>15</th>\n",
       "      <td>2</td>\n",
       "      <td>0.000009</td>\n",
       "    </tr>\n",
       "    <tr>\n",
       "      <th>16</th>\n",
       "      <td>7</td>\n",
       "      <td>0.000032</td>\n",
       "    </tr>\n",
       "    <tr>\n",
       "      <th>17</th>\n",
       "      <td>3</td>\n",
       "      <td>0.000014</td>\n",
       "    </tr>\n",
       "    <tr>\n",
       "      <th>18</th>\n",
       "      <td>7</td>\n",
       "      <td>0.000032</td>\n",
       "    </tr>\n",
       "    <tr>\n",
       "      <th>19</th>\n",
       "      <td>3</td>\n",
       "      <td>0.000014</td>\n",
       "    </tr>\n",
       "    <tr>\n",
       "      <th>20</th>\n",
       "      <td>5</td>\n",
       "      <td>0.000023</td>\n",
       "    </tr>\n",
       "    <tr>\n",
       "      <th>21</th>\n",
       "      <td>6</td>\n",
       "      <td>0.000028</td>\n",
       "    </tr>\n",
       "    <tr>\n",
       "      <th>22</th>\n",
       "      <td>2</td>\n",
       "      <td>0.000009</td>\n",
       "    </tr>\n",
       "    <tr>\n",
       "      <th>23</th>\n",
       "      <td>5</td>\n",
       "      <td>0.000023</td>\n",
       "    </tr>\n",
       "  </tbody>\n",
       "</table>\n",
       "</div>"
      ],
      "text/plain": [
       "             Date  P(Zeintfenster)\n",
       "Zeitfenster                       \n",
       "0               2         0.000009\n",
       "1               2         0.000009\n",
       "2               3         0.000014\n",
       "3               4         0.000019\n",
       "4               4         0.000019\n",
       "5               3         0.000014\n",
       "6               4         0.000019\n",
       "7               1         0.000005\n",
       "8               3         0.000014\n",
       "9               4         0.000019\n",
       "10              6         0.000028\n",
       "11              3         0.000014\n",
       "12              9         0.000042\n",
       "13              4         0.000019\n",
       "14              8         0.000037\n",
       "15              2         0.000009\n",
       "16              7         0.000032\n",
       "17              3         0.000014\n",
       "18              7         0.000032\n",
       "19              3         0.000014\n",
       "20              5         0.000023\n",
       "21              6         0.000028\n",
       "22              2         0.000009\n",
       "23              5         0.000023"
      ]
     },
     "execution_count": 100,
     "metadata": {},
     "output_type": "execute_result"
    }
   ],
   "source": [
    "Ablösungen"
   ]
  },
  {
   "cell_type": "code",
   "execution_count": null,
   "metadata": {},
   "outputs": [],
   "source": []
  }
 ],
 "metadata": {
  "kernelspec": {
   "display_name": "Python 3",
   "language": "python",
   "name": "python3"
  },
  "language_info": {
   "codemirror_mode": {
    "name": "ipython",
    "version": 3
   },
   "file_extension": ".py",
   "mimetype": "text/x-python",
   "name": "python",
   "nbconvert_exporter": "python",
   "pygments_lexer": "ipython3",
   "version": "3.7.5"
  },
  "pycharm": {
   "stem_cell": {
    "cell_type": "raw",
    "metadata": {
     "collapsed": false
    },
    "source": [
     "# coding=utf-8#%%\n",
     "\n",
     "#Annahmen\n",
     "# Die Ablösungszonen befinden sich an zwei verschiedenen Stellen, das Auffangnetz jedoch kann beide Ablösungsstellen abdecken\n",
     "\n",
     "# Die Betrachtungen wird auf 24 Zeitfenster aufgeteilt die Verteilung innerhalb des Stundenblocks wird nicht betrachtet,\n",
     "# keine Daten dafür vorhanden sind (Minutendaten)\n",
     "\n",
     "# Die kinetische Energie der Steinschläge ist Abhängig von der Ablösestelle\n",
     "\n",
     "# Der Zeitpunkt der Ablösung ist unabhängig von der Ablösestelle\n",
     "\n",
     "# Die Verteilung des Verkehrs ist nicht konstant, sondern geht davon aus,\n",
     "# dass die Verkehrsströme am Abend und Morgen höher sind (Berufsverkehr)\n",
     "\n"
    ]
   }
  }
 },
 "nbformat": 4,
 "nbformat_minor": 2
}
