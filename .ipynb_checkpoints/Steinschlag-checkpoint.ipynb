{
 "cells": [
  {
   "cell_type": "markdown",
   "metadata": {},
   "source": [
    "## Berechnung eines Steinschlags an der Kantonsstrasse in Fiersch (Kt. GR) \n",
    "   In der folgenden Berechnung wird anhand der Daten der letzten drei Monate die Wahrscheinlichkeit \n",
    "   berechnet für einen tödlichen Steinschlag und basierend auf den Erkentnissen der Berechnungen ob die Strassen gesperrt werden muss oder nicht.\n",
    "   Wird die Strasse gesperrt wird untersucht ob diese den ganzen Tag gesperrt bleibt oder nur für eine gewisse Zeit am Tag\n",
    "\n",
    "### Annahmen:\n",
    "1. Die Ablösungszonen 1 und 2 befinden sich an zwei verschiedenen Stellen\n",
    "2. Die Steine aus den beiden Ablösungszonen werden mit dem gleichen Netz aufgefangen\n",
    "3. Die Wahrscheinlichkeiten werden pro Stundenfenster berechnet und nicht pro Minute\n",
    "4. TBD Verkehr\n",
    "\n",
    "### Berechnungsmodel:\n",
    "# TBD\n"
   ]
  },
  {
   "cell_type": "code",
   "execution_count": 137,
   "metadata": {
    "pycharm": {
     "is_executing": false
    }
   },
   "outputs": [],
   "source": [
    "import pandas as pd\n",
    "import matplotlib.pyplot as plt\n",
    "import scipy.stats as stats\n",
    "from scipy.stats import norm\n",
    "import datetime\n",
    "from scipy.stats import lognorm\n"
   ]
  },
  {
   "cell_type": "markdown",
   "metadata": {
    "pycharm": {
     "name": "#%% md\n"
    }
   },
   "source": [
    "## 1. Daten einlesen, säubern und in eine einheitliche Form bringen."
   ]
  },
  {
   "cell_type": "code",
   "execution_count": 138,
   "metadata": {
    "pycharm": {
     "is_executing": false
    }
   },
   "outputs": [],
   "source": [
    "# Daten laden\n",
    "\n",
    "raw_data_1 = pd.read_csv(\"out_1.csv\")\n",
    "raw_data_2 = pd.read_csv(\"out_2.csv\")"
   ]
  },
  {
   "cell_type": "code",
   "execution_count": 139,
   "metadata": {
    "pycharm": {
     "is_executing": false,
     "name": "#%%\n"
    }
   },
   "outputs": [
    {
     "data": {
      "text/plain": [
       "Datum                    11\n",
       "Uhrzeit                  11\n",
       "Masse [kg]               11\n",
       "Geschwindigkeit [m/s]    11\n",
       "Unnamed: 4               79\n",
       "                         ..\n",
       "Unnamed: 72              79\n",
       "Unnamed: 73              79\n",
       "Unnamed: 74              79\n",
       "Unnamed: 75              79\n",
       "Unnamed: 76              79\n",
       "Length: 77, dtype: int64"
      ]
     },
     "execution_count": 139,
     "metadata": {},
     "output_type": "execute_result"
    }
   ],
   "source": [
    "# Überprüfen wie viele \"NA\" Werte noch vorhanden sind\n",
    "raw_data_1.isna().sum()"
   ]
  },
  {
   "cell_type": "code",
   "execution_count": 140,
   "metadata": {
    "pycharm": {
     "is_executing": false,
     "name": "#%%\n"
    }
   },
   "outputs": [
    {
     "data": {
      "text/plain": [
       "Date            3\n",
       "Uhrzeit         3\n",
       "m [kg]          3\n",
       "v [m/s]         3\n",
       "Unnamed: 4     35\n",
       "Unnamed: 5     35\n",
       "Unnamed: 6     35\n",
       "Unnamed: 7     35\n",
       "Unnamed: 8     35\n",
       "Unnamed: 9     35\n",
       "Unnamed: 10    35\n",
       "Unnamed: 11    35\n",
       "Unnamed: 12    35\n",
       "Unnamed: 13    35\n",
       "Unnamed: 14    35\n",
       "Unnamed: 15    35\n",
       "Unnamed: 16    35\n",
       "Unnamed: 17    35\n",
       "Unnamed: 18    35\n",
       "Unnamed: 19    35\n",
       "Unnamed: 20    35\n",
       "Unnamed: 21    35\n",
       "Unnamed: 22    35\n",
       "Unnamed: 23    35\n",
       "Unnamed: 24    35\n",
       "Unnamed: 25    35\n",
       "Unnamed: 26    35\n",
       "Unnamed: 27    35\n",
       "Unnamed: 28    35\n",
       "Unnamed: 29    35\n",
       "Unnamed: 30    35\n",
       "dtype: int64"
      ]
     },
     "execution_count": 140,
     "metadata": {},
     "output_type": "execute_result"
    }
   ],
   "source": [
    "raw_data_2.isna().sum()"
   ]
  },
  {
   "cell_type": "code",
   "execution_count": 141,
   "metadata": {
    "pycharm": {
     "is_executing": false
    }
   },
   "outputs": [],
   "source": [
    "# Alle Zeilen löschen die in ALLEN Zellen keine Werte haben\n",
    "\n",
    "data_1_no_rows = raw_data_1.dropna(how='all')\n",
    "data_2_no_rows = raw_data_2.dropna(how='all')\n",
    "\n",
    "# Alle Kolonen löschen die NA Werte enthalten\n",
    "\n",
    "data_1_no_na = data_1_no_rows.dropna(axis= 'columns')\n",
    "data_2_no_na = data_2_no_rows.dropna(axis= 'columns')\n",
    "\n"
   ]
  },
  {
   "cell_type": "code",
   "execution_count": 142,
   "metadata": {
    "pycharm": {
     "is_executing": false
    }
   },
   "outputs": [],
   "source": [
    "#Um eine Vergleichbarkeit von Daten herstellen zu können sollte die Benennung der Zellen die selbe sein\n",
    "\n",
    "data_stelle_1= data_1_no_na.rename(columns= {'Datum':'Date',\n",
    "                                             'Uhrzeit': 'Time',\n",
    "                                             'Masse [kg]' : 'Masse in kg' ,\n",
    "                                             'Geschwindigkeit [m/s]' : 'Speed in m/s' \n",
    "                                            })"
   ]
  },
  {
   "cell_type": "code",
   "execution_count": 143,
   "metadata": {
    "pycharm": {
     "is_executing": false
    }
   },
   "outputs": [],
   "source": [
    "data_stelle_2= data_2_no_na.rename(columns= {'Uhrzeit': 'Time',\n",
    "                                             'm [kg]' : 'Masse in kg' ,\n",
    "                                             'v [m/s]' : 'Speed in m/s' \n",
    "                                            })"
   ]
  },
  {
   "cell_type": "code",
   "execution_count": 144,
   "metadata": {
    "pycharm": {
     "is_executing": false,
     "name": "#%%\n"
    }
   },
   "outputs": [
    {
     "data": {
      "text/plain": [
       "Date            0\n",
       "Time            0\n",
       "Masse in kg     0\n",
       "Speed in m/s    0\n",
       "dtype: int64"
      ]
     },
     "execution_count": 144,
     "metadata": {},
     "output_type": "execute_result"
    }
   ],
   "source": [
    "# Überprüfen wie viele \"NA\" Werte noch vorhanden sind nachdem auch die Anpassung der Benennungen durchgeführt worden ist\n",
    "data_stelle_1.isna().sum()"
   ]
  },
  {
   "cell_type": "code",
   "execution_count": 145,
   "metadata": {
    "pycharm": {
     "is_executing": false,
     "name": "#%%\n"
    }
   },
   "outputs": [
    {
     "data": {
      "text/plain": [
       "Date            0\n",
       "Time            0\n",
       "Masse in kg     0\n",
       "Speed in m/s    0\n",
       "dtype: int64"
      ]
     },
     "execution_count": 145,
     "metadata": {},
     "output_type": "execute_result"
    }
   ],
   "source": [
    "data_stelle_2.isna().sum()"
   ]
  },
  {
   "cell_type": "code",
   "execution_count": 146,
   "metadata": {
    "pycharm": {
     "is_executing": false,
     "name": "#%%\n"
    }
   },
   "outputs": [
    {
     "data": {
      "text/html": [
       "<div>\n",
       "<style scoped>\n",
       "    .dataframe tbody tr th:only-of-type {\n",
       "        vertical-align: middle;\n",
       "    }\n",
       "\n",
       "    .dataframe tbody tr th {\n",
       "        vertical-align: top;\n",
       "    }\n",
       "\n",
       "    .dataframe thead th {\n",
       "        text-align: right;\n",
       "    }\n",
       "</style>\n",
       "<table border=\"1\" class=\"dataframe\">\n",
       "  <thead>\n",
       "    <tr style=\"text-align: right;\">\n",
       "      <th></th>\n",
       "      <th>Masse in kg</th>\n",
       "      <th>Speed in m/s</th>\n",
       "    </tr>\n",
       "    <tr>\n",
       "      <th>Datetime</th>\n",
       "      <th></th>\n",
       "      <th></th>\n",
       "    </tr>\n",
       "  </thead>\n",
       "  <tbody>\n",
       "    <tr>\n",
       "      <th>2019-01-01 09:00:00</th>\n",
       "      <td>38.0</td>\n",
       "      <td>45.4</td>\n",
       "    </tr>\n",
       "    <tr>\n",
       "      <th>2019-01-03 06:00:00</th>\n",
       "      <td>187.0</td>\n",
       "      <td>41.6</td>\n",
       "    </tr>\n",
       "    <tr>\n",
       "      <th>2019-01-04 10:00:00</th>\n",
       "      <td>36.0</td>\n",
       "      <td>44.6</td>\n",
       "    </tr>\n",
       "    <tr>\n",
       "      <th>2019-01-07 14:00:00</th>\n",
       "      <td>6.0</td>\n",
       "      <td>41.2</td>\n",
       "    </tr>\n",
       "    <tr>\n",
       "      <th>2019-01-11 06:00:00</th>\n",
       "      <td>65.0</td>\n",
       "      <td>39.6</td>\n",
       "    </tr>\n",
       "    <tr>\n",
       "      <th>2019-01-11 16:00:00</th>\n",
       "      <td>58.0</td>\n",
       "      <td>33.2</td>\n",
       "    </tr>\n",
       "    <tr>\n",
       "      <th>2019-01-14 11:00:00</th>\n",
       "      <td>365.0</td>\n",
       "      <td>40.2</td>\n",
       "    </tr>\n",
       "    <tr>\n",
       "      <th>2019-01-16 02:00:00</th>\n",
       "      <td>22.0</td>\n",
       "      <td>46.5</td>\n",
       "    </tr>\n",
       "    <tr>\n",
       "      <th>2019-01-18 06:00:00</th>\n",
       "      <td>146.0</td>\n",
       "      <td>36.2</td>\n",
       "    </tr>\n",
       "    <tr>\n",
       "      <th>2019-01-19 17:00:00</th>\n",
       "      <td>29.0</td>\n",
       "      <td>38.3</td>\n",
       "    </tr>\n",
       "    <tr>\n",
       "      <th>2019-01-20 22:00:00</th>\n",
       "      <td>40.0</td>\n",
       "      <td>41.6</td>\n",
       "    </tr>\n",
       "    <tr>\n",
       "      <th>2019-01-21 11:00:00</th>\n",
       "      <td>304.0</td>\n",
       "      <td>36.7</td>\n",
       "    </tr>\n",
       "    <tr>\n",
       "      <th>2019-01-22 21:00:00</th>\n",
       "      <td>33.0</td>\n",
       "      <td>44.1</td>\n",
       "    </tr>\n",
       "    <tr>\n",
       "      <th>2019-01-29 07:00:00</th>\n",
       "      <td>50.0</td>\n",
       "      <td>40.0</td>\n",
       "    </tr>\n",
       "    <tr>\n",
       "      <th>2019-02-06 02:00:00</th>\n",
       "      <td>77.0</td>\n",
       "      <td>38.0</td>\n",
       "    </tr>\n",
       "    <tr>\n",
       "      <th>2019-02-10 20:00:00</th>\n",
       "      <td>76.0</td>\n",
       "      <td>39.2</td>\n",
       "    </tr>\n",
       "    <tr>\n",
       "      <th>2019-02-14 05:00:00</th>\n",
       "      <td>138.0</td>\n",
       "      <td>33.2</td>\n",
       "    </tr>\n",
       "    <tr>\n",
       "      <th>2019-02-15 11:00:00</th>\n",
       "      <td>152.0</td>\n",
       "      <td>24.9</td>\n",
       "    </tr>\n",
       "    <tr>\n",
       "      <th>2019-02-16 18:00:00</th>\n",
       "      <td>241.0</td>\n",
       "      <td>40.6</td>\n",
       "    </tr>\n",
       "    <tr>\n",
       "      <th>2019-02-25 14:00:00</th>\n",
       "      <td>97.0</td>\n",
       "      <td>30.0</td>\n",
       "    </tr>\n",
       "    <tr>\n",
       "      <th>2019-02-28 05:00:00</th>\n",
       "      <td>37.0</td>\n",
       "      <td>32.2</td>\n",
       "    </tr>\n",
       "    <tr>\n",
       "      <th>2019-02-28 12:00:00</th>\n",
       "      <td>64.0</td>\n",
       "      <td>34.3</td>\n",
       "    </tr>\n",
       "    <tr>\n",
       "      <th>2019-03-07 21:00:00</th>\n",
       "      <td>55.0</td>\n",
       "      <td>31.7</td>\n",
       "    </tr>\n",
       "    <tr>\n",
       "      <th>2019-03-10 16:00:00</th>\n",
       "      <td>0.0</td>\n",
       "      <td>32.3</td>\n",
       "    </tr>\n",
       "    <tr>\n",
       "      <th>2019-03-10 23:00:00</th>\n",
       "      <td>45.0</td>\n",
       "      <td>32.2</td>\n",
       "    </tr>\n",
       "    <tr>\n",
       "      <th>2019-03-11 18:00:00</th>\n",
       "      <td>406.0</td>\n",
       "      <td>44.1</td>\n",
       "    </tr>\n",
       "    <tr>\n",
       "      <th>2019-03-17 09:00:00</th>\n",
       "      <td>58.0</td>\n",
       "      <td>33.6</td>\n",
       "    </tr>\n",
       "    <tr>\n",
       "      <th>2019-03-20 10:00:00</th>\n",
       "      <td>16.0</td>\n",
       "      <td>42.1</td>\n",
       "    </tr>\n",
       "    <tr>\n",
       "      <th>2019-03-21 13:00:00</th>\n",
       "      <td>211.0</td>\n",
       "      <td>29.0</td>\n",
       "    </tr>\n",
       "    <tr>\n",
       "      <th>2019-03-24 16:00:00</th>\n",
       "      <td>3.0</td>\n",
       "      <td>42.3</td>\n",
       "    </tr>\n",
       "    <tr>\n",
       "      <th>2019-03-25 14:00:00</th>\n",
       "      <td>63.0</td>\n",
       "      <td>43.2</td>\n",
       "    </tr>\n",
       "    <tr>\n",
       "      <th>2019-03-28 01:00:00</th>\n",
       "      <td>58.0</td>\n",
       "      <td>37.2</td>\n",
       "    </tr>\n",
       "  </tbody>\n",
       "</table>\n",
       "</div>"
      ],
      "text/plain": [
       "                     Masse in kg  Speed in m/s\n",
       "Datetime                                      \n",
       "2019-01-01 09:00:00         38.0          45.4\n",
       "2019-01-03 06:00:00        187.0          41.6\n",
       "2019-01-04 10:00:00         36.0          44.6\n",
       "2019-01-07 14:00:00          6.0          41.2\n",
       "2019-01-11 06:00:00         65.0          39.6\n",
       "2019-01-11 16:00:00         58.0          33.2\n",
       "2019-01-14 11:00:00        365.0          40.2\n",
       "2019-01-16 02:00:00         22.0          46.5\n",
       "2019-01-18 06:00:00        146.0          36.2\n",
       "2019-01-19 17:00:00         29.0          38.3\n",
       "2019-01-20 22:00:00         40.0          41.6\n",
       "2019-01-21 11:00:00        304.0          36.7\n",
       "2019-01-22 21:00:00         33.0          44.1\n",
       "2019-01-29 07:00:00         50.0          40.0\n",
       "2019-02-06 02:00:00         77.0          38.0\n",
       "2019-02-10 20:00:00         76.0          39.2\n",
       "2019-02-14 05:00:00        138.0          33.2\n",
       "2019-02-15 11:00:00        152.0          24.9\n",
       "2019-02-16 18:00:00        241.0          40.6\n",
       "2019-02-25 14:00:00         97.0          30.0\n",
       "2019-02-28 05:00:00         37.0          32.2\n",
       "2019-02-28 12:00:00         64.0          34.3\n",
       "2019-03-07 21:00:00         55.0          31.7\n",
       "2019-03-10 16:00:00          0.0          32.3\n",
       "2019-03-10 23:00:00         45.0          32.2\n",
       "2019-03-11 18:00:00        406.0          44.1\n",
       "2019-03-17 09:00:00         58.0          33.6\n",
       "2019-03-20 10:00:00         16.0          42.1\n",
       "2019-03-21 13:00:00        211.0          29.0\n",
       "2019-03-24 16:00:00          3.0          42.3\n",
       "2019-03-25 14:00:00         63.0          43.2\n",
       "2019-03-28 01:00:00         58.0          37.2"
      ]
     },
     "execution_count": 146,
     "metadata": {},
     "output_type": "execute_result"
    }
   ],
   "source": [
    "# Zeit und Datum in eine Spalte bringen und in ein Datetime Object transformieren\n",
    "data_stelle_1 ['Datetime'] = pd.to_datetime(data_stelle_1['Date'] + \" \" + data_stelle_1 ['Time'])\n",
    "data_stelle_2 ['Datetime'] = pd.to_datetime(data_stelle_2['Date'] + \" \" + data_stelle_2 ['Time'])\n",
    "\n",
    "# Die beiden Spalten 'Date' und 'Time' werden nicht mehr benötigt und werden gelöscht\n",
    "data_stelle_1 = data_stelle_1.drop('Time', axis=1)\n",
    "data_stelle_1 = data_stelle_1.drop('Date', axis=1)\n",
    "\n",
    "data_stelle_2 = data_stelle_2.drop('Time', axis=1)\n",
    "data_stelle_2 = data_stelle_2.drop('Date', axis=1)\n",
    "\n",
    "# Die Zeit als Index setzen\n",
    "data_stelle_1.set_index('Datetime')\n",
    "data_stelle_2.set_index('Datetime')\n",
    "\n",
    "\n"
   ]
  },
  {
   "cell_type": "markdown",
   "metadata": {},
   "source": [
    "## 2. Hinzufügen und Berechnung von fehlenden Daten, welche abhängig sind von den existierenden"
   ]
  },
  {
   "cell_type": "code",
   "execution_count": 147,
   "metadata": {
    "pycharm": {
     "is_executing": false,
     "name": "#%% \n"
    }
   },
   "outputs": [],
   "source": [
    "#Hinzufügen der Zeitdifferenz zwischen zwei Zeitfenstern\n"
   ]
  },
  {
   "cell_type": "markdown",
   "metadata": {
    "pycharm": {
     "name": "#%% md\n"
    }
   },
   "source": [
    "## 3. Datenanalyse - Welche Verteilung liegt in den einzelnen Datensätzen vor?\n",
    "Vorgehen: Zuerst werden Histogramme der einzelnen Variabeln erstellet und im zweiten Schritt ein QQ Plot.   \n",
    "Um zu überprüfen welche Verteilung den vorhergegangenen Histogrammen zugrunde liegt, \n",
    "werden im nächsten Schritt QQ-Plots erstellt um eine visuelle Überprüfung einer Normalverteilung vorzunehmen."
   ]
  },
  {
   "cell_type": "markdown",
   "metadata": {
    "pycharm": {
     "name": "#%% md\n"
    }
   },
   "source": [
    "#### Masse Ablösestelle 1"
   ]
  },
  {
   "cell_type": "code",
   "execution_count": 148,
   "metadata": {
    "pycharm": {
     "is_executing": false
    }
   },
   "outputs": [
    {
     "data": {
      "text/plain": [
       "count      68.000000\n",
       "mean      628.632353\n",
       "std       695.884703\n",
       "min        12.000000\n",
       "25%       214.750000\n",
       "50%       402.500000\n",
       "75%       773.000000\n",
       "max      3104.000000\n",
       "Name: Masse in kg, dtype: float64"
      ]
     },
     "execution_count": 148,
     "metadata": {},
     "output_type": "execute_result"
    }
   ],
   "source": [
    "# Analyse \n",
    "data_stelle_1['Masse in kg'].describe()"
   ]
  },
  {
   "cell_type": "code",
   "execution_count": 159,
   "metadata": {
    "pycharm": {
     "is_executing": false,
     "name": "#%%\n"
    }
   },
   "outputs": [
    {
     "data": {
      "text/plain": [
       "Text(0.5, 0, 'Masse in kg')"
      ]
     },
     "execution_count": 159,
     "metadata": {},
     "output_type": "execute_result"
    },
    {
     "data": {
      "image/png": "[encoded data removed]",
      "text/plain": [
       "<Figure size 640x640 with 1 Axes>"
      ]
     },
     "metadata": {
      "needs_background": "light"
     },
     "output_type": "display_data"
    }
   ],
   "source": [
    "# Histogramm \n",
    "plt.figure(figsize=(8, 8), dpi=80)\n",
    "plt.hist(data_stelle_1['Masse in kg'], bins = 30)\n",
    "\n",
    "plt.title(\"Histogramm der Masse - Stelle 1\")\n",
    "plt.ylabel(\"Anzahl Ablösungen\")\n",
    "plt.xlabel(\"Masse in kg\")   "
   ]
  },
  {
   "cell_type": "code",
   "execution_count": 150,
   "metadata": {
    "pycharm": {
     "is_executing": false,
     "name": "#%%\n"
    }
   },
   "outputs": [
    {
     "data": {
      "image/png": "[encoded data removed]",
      "text/plain": [
       "<Figure size 432x288 with 1 Axes>"
      ]
     },
     "metadata": {
      "needs_background": "light"
     },
     "output_type": "display_data"
    }
   ],
   "source": [
    "# QQ - Plot\n",
    "stats.probplot(data_stelle_1['Masse in kg'], dist=\"norm\", plot=plt)\n",
    "plt.title(\"Normal Q-Q plot - Masse Stelle 1\")\n",
    "plt.ylabel('Masse Steinschlag Stelle 2')\n",
    "plt.show()"
   ]
  },
  {
   "cell_type": "markdown",
   "metadata": {},
   "source": [
    "#### Masse Ablösestelle 2"
   ]
  },
  {
   "cell_type": "code",
   "execution_count": 151,
   "metadata": {
    "pycharm": {
     "is_executing": false,
     "name": "#%%\n"
    }
   },
   "outputs": [
    {
     "data": {
      "text/plain": [
       "count     32.000000\n",
       "mean      99.250000\n",
       "std      104.072555\n",
       "min        0.000000\n",
       "25%       36.750000\n",
       "50%       58.000000\n",
       "75%      140.000000\n",
       "max      406.000000\n",
       "Name: Masse in kg, dtype: float64"
      ]
     },
     "execution_count": 151,
     "metadata": {},
     "output_type": "execute_result"
    }
   ],
   "source": [
    "# Analyse\n",
    "data_stelle_2['Masse in kg'].describe()"
   ]
  },
  {
   "cell_type": "code",
   "execution_count": 152,
   "metadata": {
    "pycharm": {
     "is_executing": false,
     "name": "#%%\n"
    }
   },
   "outputs": [
    {
     "data": {
      "text/plain": [
       "Text(0.5, 0, 'Masse in kg')"
      ]
     },
     "execution_count": 152,
     "metadata": {},
     "output_type": "execute_result"
    },
    {
     "data": {
      "image/png": "[encoded data removed]",
      "text/plain": [
       "<Figure size 640x640 with 1 Axes>"
      ]
     },
     "metadata": {
      "needs_background": "light"
     },
     "output_type": "display_data"
    }
   ],
   "source": [
    "# Histogramm \n",
    "plt.figure(figsize=(8, 8), dpi=80)\n",
    "plt.hist(data_stelle_2['Masse in kg'], bins = 30)\n",
    "\n",
    "plt.title(\"Histogramm der Masse - Stelle 2\")\n",
    "plt.ylabel(\"Anzahl Ablösungen\")\n",
    "plt.xlabel(\"Masse in kg\")   "
   ]
  },
  {
   "cell_type": "code",
   "execution_count": 153,
   "metadata": {
    "pycharm": {
     "is_executing": false,
     "name": "#%%\n"
    }
   },
   "outputs": [
    {
     "data": {
      "image/png": "[encoded data removed]",
      "text/plain": [
       "<Figure size 432x288 with 1 Axes>"
      ]
     },
     "metadata": {
      "needs_background": "light"
     },
     "output_type": "display_data"
    }
   ],
   "source": [
    "# QQ - Plot\n",
    "stats.probplot(data_stelle_2['Masse in kg'], dist=\"norm\", plot=plt)\n",
    "plt.title(\"Normal Q-Q plot - Masse Stelle 2\")\n",
    "plt.ylabel('Masse Steinschlag Stelle 2')\n",
    "plt.show()"
   ]
  },
  {
   "cell_type": "markdown",
   "metadata": {
    "pycharm": {
     "name": "#%% md\n"
    }
   },
   "source": [
    "#### Geschwindigkeit Ablösestelle 1"
   ]
  },
  {
   "cell_type": "code",
   "execution_count": 154,
   "metadata": {
    "pycharm": {
     "is_executing": false,
     "name": "#%%\n"
    }
   },
   "outputs": [
    {
     "data": {
      "text/plain": [
       "Text(0.5, 0, 'Speed in m/s')"
      ]
     },
     "execution_count": 154,
     "metadata": {},
     "output_type": "execute_result"
    },
    {
     "data": {
      "image/png": "[encoded data removed]",
      "text/plain": [
       "<Figure size 640x640 with 1 Axes>"
      ]
     },
     "metadata": {
      "needs_background": "light"
     },
     "output_type": "display_data"
    }
   ],
   "source": [
    "# Analyse\n",
    "data_stelle_1['Speed in m/s'].describe()\n",
    "\n",
    "# Histogramm \n",
    "plt.figure(figsize=(8, 8), dpi=80)\n",
    "plt.hist(data_stelle_1['Speed in m/s'], bins = 30)\n",
    "\n",
    "plt.title(\"Histogramm der Geschwindigkeit - Stelle 1\")\n",
    "plt.ylabel(\"Anzahl Ablösungen\")\n",
    "plt.xlabel(\"Speed in m/s\")   "
   ]
  },
  {
   "cell_type": "code",
   "execution_count": 155,
   "metadata": {
    "pycharm": {
     "is_executing": false,
     "name": "#%%\n"
    }
   },
   "outputs": [
    {
     "data": {
      "image/png": "[encoded data removed]",
      "text/plain": [
       "<Figure size 432x288 with 1 Axes>"
      ]
     },
     "metadata": {
      "needs_background": "light"
     },
     "output_type": "display_data"
    }
   ],
   "source": [
    "# QQ - Plot\n",
    "stats.probplot(data_stelle_1['Speed in m/s'], dist=\"norm\", plot=plt)\n",
    "plt.title(\"Normal Q-Q plot - Speed in m/s Stelle 1\")\n",
    "plt.ylabel('Speed in m/s - Stelle 1')\n",
    "plt.show()"
   ]
  },
  {
   "cell_type": "markdown",
   "metadata": {
    "pycharm": {
     "name": "#%% md\n"
    }
   },
   "source": [
    "#### Geschwindigkeit Ablösestelle 2"
   ]
  },
  {
   "cell_type": "code",
   "execution_count": 156,
   "metadata": {
    "pycharm": {
     "is_executing": false,
     "name": "#%%\n"
    }
   },
   "outputs": [
    {
     "data": {
      "text/plain": [
       "Text(0.5, 0, 'Speed in m/s')"
      ]
     },
     "execution_count": 156,
     "metadata": {},
     "output_type": "execute_result"
    },
    {
     "data": {
      "image/png": "[encoded data removed]",
      "text/plain": [
       "<Figure size 640x640 with 1 Axes>"
      ]
     },
     "metadata": {
      "needs_background": "light"
     },
     "output_type": "display_data"
    }
   ],
   "source": [
    "# Analyse \n",
    "data_stelle_2['Speed in m/s'].describe()\n",
    "# Histogramm \n",
    "plt.figure(figsize=(8, 8), dpi=80)\n",
    "plt.hist(data_stelle_2['Speed in m/s'], bins = 30)\n",
    "\n",
    "plt.title(\"Histogramm der Geschwindigkeit - Stelle 2\")\n",
    "plt.ylabel(\"Anzahl Ablösungen\")\n",
    "plt.xlabel(\"Speed in m/s\")   "
   ]
  },
  {
   "cell_type": "code",
   "execution_count": 157,
   "metadata": {
    "pycharm": {
     "is_executing": false,
     "name": "#%%\n"
    }
   },
   "outputs": [
    {
     "data": {
      "image/png": "[encoded data removed]",
      "text/plain": [
       "<Figure size 432x288 with 1 Axes>"
      ]
     },
     "metadata": {
      "needs_background": "light"
     },
     "output_type": "display_data"
    }
   ],
   "source": [
    "# QQ - Plot\n",
    "stats.probplot(data_stelle_1['Speed in m/s'], dist=\"norm\", plot=plt)\n",
    "plt.title(\"Normal Q-Q plot - Speed in m/s Stelle 2\")\n",
    "plt.ylabel('Speed in m/s - Stelle 2')\n",
    "plt.show()\n",
    "\n",
    "\n",
    "\n"
   ]
  },
  {
   "cell_type": "markdown",
   "metadata": {
    "pycharm": {
     "name": "#%% md\n"
    }
   },
   "source": [
    "## 3. Wahrscheinlichkeitsfunktionen beschreiben"
   ]
  },
  {
   "cell_type": "code",
   "execution_count": 158,
   "metadata": {
    "pycharm": {
     "is_executing": false,
     "name": "#%%\n"
    }
   },
   "outputs": [
    {
     "data": {
      "text/plain": [
       "0.0023992249426286693"
      ]
     },
     "execution_count": 158,
     "metadata": {},
     "output_type": "execute_result"
    }
   ],
   "source": [
    "norm.pdf (200, 99.25, 104.07)"
   ]
  },
  {
   "cell_type": "markdown",
   "metadata": {
    "pycharm": {
     "name": "#%% md\n"
    }
   },
   "source": [
    "# Break\n",
    "\n"
   ]
  },
  {
   "cell_type": "code",
   "execution_count": 158,
   "metadata": {
    "pycharm": {
     "is_executing": false,
     "name": "#%%\n"
    }
   },
   "outputs": [],
   "source": [
    "\n",
    "\n"
   ]
  }
 ],
 "metadata": {
  "kernelspec": {
   "display_name": "Python 3",
   "language": "python",
   "name": "python3"
  },
  "language_info": {
   "codemirror_mode": {
    "name": "ipython",
    "version": 3
   },
   "file_extension": ".py",
   "mimetype": "text/x-python",
   "name": "python",
   "nbconvert_exporter": "python",
   "pygments_lexer": "ipython3",
   "version": "3.7.5"
  },
  "pycharm": {
   "stem_cell": {
    "cell_type": "raw",
    "metadata": {
     "collapsed": false
    },
    "source": []
   }
  }
 },
 "nbformat": 4,
 "nbformat_minor": 2
}
