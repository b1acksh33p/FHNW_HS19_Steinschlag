{
 "cells": [
  {
   "cell_type": "markdown",
   "metadata": {},
   "source": [
    "## Berechnung eines Steinschlags an der Kantonsstrasse in Schiers (Kt. GR) \n",
    "   In der folgenden Berechnung wird anhand der Daten der letzten drei Monate die Wahrscheinlichkeit \n",
    "   berechnet für einen tödlichen Steinschlag auf der Strasse. Anhand dessen wird ausgesagt \n",
    "   ob die Strasse gesperrt werden muss oder nicht.\n",
    "   Wird die Strasse gesperrt wird untersucht ob diese den ganzen Tag gesperrt bleibt \n",
    "   oder nur für eine gewisse Zeit am Tag\n",
    "\n",
    "### Annahmen:\n",
    "1. Die Ablösungszonen 1 und 2 befinden sich an zwei verschiedenen Stellen\n",
    "2. Die Steine aus den beiden Ablösungszonen werden mit dem gleichen Netz aufgefangen\n",
    "3. Die Wahrscheinlichkeiten werden pro Stundenfenster berechnet und nicht pro Minute\n",
    "4. Die Verteilung des Verkehrs basiert auf den Erkentnissen des Bundesamtes für Statistik\n",
    "5. Steinmassen die nicht möglich sind, werden auf die nächsthöhere Skalierung gerundet (Schätzfehler)\n",
    "6. Die Distanz der Gefahrenzone beträgt 100 m\n",
    "\n",
    "### Berechnungsmodel:\n",
    "Um eine Simulations des Models zu bewerkstelligen müssen die einzelnen Variabeln und deren logische Abhängigkeiten \n",
    "in eine Reihenfolge gebracht werden. Aus dieser Betrachtung sollte sich dann ein Model ergeben welches durch eine \n",
    "Monte Carlo Simulation berechnet werden kann:\n",
    "\n",
    "1. P (kinetische Energie) = Wahrscheinlichkeit Geschwindigkeit des Steins  * Wahrscheinlich Masse des Steins\n",
    "2. P (T bis zum nächsten Abschlag) = Wahrscheinlichkeit des Zeitdeltas\n",
    "3. P (Netz bricht beim ersten Aufprall) = P (kinetische Energie > 1000 kJ)\n",
    "4. P1 (Netz bricht über Zeit) = Wenn Summe Masse der Steine > 2000 kg, dann P (kinetische Energie >= 500 kJ )\n",
    "4. P2 (Netz bricht über Zeit) = Wenn Summe Masse der Steine < 2000 kg, dann P (kinetische Energie >= 1000 kJ )\n",
    "6. Summe (Auto im Zeitfenster) = Summe der Menge der Autos in den Zeitfenstern (Leerung + P (Zeitdelta)  \n",
    "7. Aufenthaltsdauer 1 Autos in Gefahrenzone = Distanz / Geschwindigkeit\n",
    "8. P (Auto wird getroffen) = Verteilung (Minute des Durchbruchs) * Verteilung (Aufenthaltsdauer Fahrzeug) \n",
    "\n",
    "Das Zusammensetzen der einzelnen Wahrscheinlichkeiten wird in einer Monte Carlo Simulation durch Zufallsvariablen \n",
    "simuliert"
   ]
  },
  {
   "cell_type": "code",
   "execution_count": 1,
   "metadata": {
    "pycharm": {
     "is_executing": false
    }
   },
   "outputs": [],
   "source": [
    "import pandas as pd\n",
    "import numpy as np\n",
    "import matplotlib.pyplot as plt\n",
    "import scipy.stats as stats\n",
    "import math"
   ]
  },
  {
   "cell_type": "markdown",
   "metadata": {
    "pycharm": {
     "name": "#%% md\n"
    }
   },
   "source": [
    "## 1. Daten einlesen, säubern und in eine einheitliche Form bringen."
   ]
  },
  {
   "cell_type": "code",
   "execution_count": 2,
   "metadata": {
    "pycharm": {
     "is_executing": false
    }
   },
   "outputs": [],
   "source": [
    "# Daten laden\n",
    "raw_data_1 = pd.read_csv(\"out_1.csv\")\n",
    "raw_data_2 = pd.read_csv(\"out_2.csv\")"
   ]
  },
  {
   "cell_type": "code",
   "execution_count": 3,
   "metadata": {
    "pycharm": {
     "is_executing": false,
     "name": "#%%\n"
    }
   },
   "outputs": [
    {
     "data": {
      "text/plain": "Datum                    11\nUhrzeit                  11\nMasse [kg]               11\nGeschwindigkeit [m/s]    11\nUnnamed: 4               79\n                         ..\nUnnamed: 72              79\nUnnamed: 73              79\nUnnamed: 74              79\nUnnamed: 75              79\nUnnamed: 76              79\nLength: 77, dtype: int64"
     },
     "metadata": {},
     "output_type": "execute_result",
     "execution_count": 3
    }
   ],
   "source": [
    "# Überprüfen wie viele \"NA\" Werte noch vorhanden sind\n",
    "raw_data_1.isna().sum()"
   ]
  },
  {
   "cell_type": "raw",
   "metadata": {
    "pycharm": {
     "is_executing": false,
     "name": "#%%\nraw"
    }
   },
   "source": [
    "_data_2.isna().sum()\n"
   ]
  },
  {
   "cell_type": "code",
   "execution_count": 4,
   "metadata": {
    "pycharm": {
     "is_executing": false
    }
   },
   "outputs": [],
   "source": [
    "# Alle Zeilen löschen die in ALLEN Zellen keine Werte haben\n",
    "data_1_no_rows = raw_data_1.dropna(how='all')\n",
    "data_2_no_rows = raw_data_2.dropna(how='all')\n",
    "\n",
    "# Alle Kolonen löschen die NA Werte enthalten\n",
    "data_1_no_na = data_1_no_rows.dropna(axis= 'columns')\n",
    "data_2_no_na = data_2_no_rows.dropna(axis= 'columns')"
   ]
  },
  {
   "cell_type": "code",
   "execution_count": 5,
   "outputs": [],
   "source": [
    "#Um eine Vergleichbarkeit von Daten herstellen zu können sollte die Benennung der Zellen die selbe sein\n",
    "data_stelle_1= data_1_no_na.rename(columns= {'Datum':'Date',\n",
    "                                             'Uhrzeit': 'Time',\n",
    "                                             'Masse [kg]' : 'Masse in kg' ,\n",
    "                                             'Geschwindigkeit [m/s]' : 'Speed in m/s' \n",
    "                                            })\n",
    "\n",
    "data_stelle_2= data_2_no_na.rename(columns= {'Uhrzeit': 'Time',\n",
    "                                             'm [kg]' : 'Masse in kg' ,\n",
    "                                             'v [m/s]' : 'Speed in m/s' \n",
    "                                            })"
   ],
   "metadata": {
    "collapsed": false,
    "pycharm": {
     "name": "#%%\n",
     "is_executing": false
    }
   }
  },
  {
   "cell_type": "code",
   "execution_count": 6,
   "metadata": {
    "pycharm": {
     "is_executing": false,
     "name": "#%%\n"
    }
   },
   "outputs": [
    {
     "data": {
      "text/plain": "Date            0\nTime            0\nMasse in kg     0\nSpeed in m/s    0\ndtype: int64"
     },
     "metadata": {},
     "output_type": "execute_result",
     "execution_count": 6
    }
   ],
   "source": [
    "# Überprüfen wie viele \"NA\" Werte noch vorhanden sind nachdem auch die Anpassung der Benennungen durchgeführt worden ist\n",
    "data_stelle_1.isna().sum()"
   ]
  },
  {
   "cell_type": "code",
   "execution_count": 7,
   "metadata": {
    "pycharm": {
     "is_executing": false,
     "name": "#%%\n"
    }
   },
   "outputs": [
    {
     "data": {
      "text/plain": "Date            0\nTime            0\nMasse in kg     0\nSpeed in m/s    0\ndtype: int64"
     },
     "metadata": {},
     "output_type": "execute_result",
     "execution_count": 7
    }
   ],
   "source": [
    "data_stelle_2.isna().sum()"
   ]
  },
  {
   "cell_type": "code",
   "execution_count": 8,
   "metadata": {
    "pycharm": {
     "is_executing": false,
     "name": "#%%\n"
    }
   },
   "outputs": [],
   "source": [
    "# Zeit und Datum in eine Spalte bringen und in ein Datetime Object transformieren\n",
    "data_stelle_1 ['Datetime'] = pd.to_datetime(data_stelle_1 ['Date'] + \" \" + data_stelle_1 ['Time'])\n",
    "data_stelle_2 ['Datetime'] = pd.to_datetime(data_stelle_2 ['Date'] + \" \" + data_stelle_2 ['Time'])"
   ]
  },
  {
   "cell_type": "code",
   "execution_count": 9,
   "metadata": {
    "pycharm": {
     "is_executing": false,
     "name": "#%%\n"
    }
   },
   "outputs": [],
   "source": [
    "# Die beiden Spalten 'Date' und 'Time' werden nicht mehr benötigt und werden gelöscht\n",
    "data_stelle_1 = data_stelle_1.drop('Time', axis=1)\n",
    "data_stelle_1 = data_stelle_1.drop('Date', axis=1)\n",
    "\n",
    "data_stelle_2 = data_stelle_2.drop('Time', axis=1)\n",
    "data_stelle_2 = data_stelle_2.drop('Date', axis=1)"
   ]
  },
  {
   "cell_type": "code",
   "execution_count": 10,
   "metadata": {
    "pycharm": {
     "is_executing": false,
     "name": "#%%\n"
    }
   },
   "outputs": [
    {
     "data": {
      "text/plain": "    Masse in kg  Speed in m/s            Datetime\n0         194.0           8.4 2019-01-01 09:00:00\n1         224.0           8.8 2019-01-01 21:00:00\n2        3104.0           9.2 2019-01-02 14:00:00\n3         228.0           8.0 2019-01-04 15:00:00\n4         755.0           7.0 2019-01-05 23:00:00\n..          ...           ...                 ...\n63        167.0           8.9 2019-03-18 16:00:00\n64       2847.0           7.0 2019-03-22 18:00:00\n65         44.0           8.9 2019-03-26 00:00:00\n66         45.0           8.4 2019-03-26 06:00:00\n67        312.0           5.8 2019-03-27 16:00:00\n\n[68 rows x 3 columns]",
      "text/html": "<div>\n<style scoped>\n    .dataframe tbody tr th:only-of-type {\n        vertical-align: middle;\n    }\n\n    .dataframe tbody tr th {\n        vertical-align: top;\n    }\n\n    .dataframe thead th {\n        text-align: right;\n    }\n</style>\n<table border=\"1\" class=\"dataframe\">\n  <thead>\n    <tr style=\"text-align: right;\">\n      <th></th>\n      <th>Masse in kg</th>\n      <th>Speed in m/s</th>\n      <th>Datetime</th>\n    </tr>\n  </thead>\n  <tbody>\n    <tr>\n      <th>0</th>\n      <td>194.0</td>\n      <td>8.4</td>\n      <td>2019-01-01 09:00:00</td>\n    </tr>\n    <tr>\n      <th>1</th>\n      <td>224.0</td>\n      <td>8.8</td>\n      <td>2019-01-01 21:00:00</td>\n    </tr>\n    <tr>\n      <th>2</th>\n      <td>3104.0</td>\n      <td>9.2</td>\n      <td>2019-01-02 14:00:00</td>\n    </tr>\n    <tr>\n      <th>3</th>\n      <td>228.0</td>\n      <td>8.0</td>\n      <td>2019-01-04 15:00:00</td>\n    </tr>\n    <tr>\n      <th>4</th>\n      <td>755.0</td>\n      <td>7.0</td>\n      <td>2019-01-05 23:00:00</td>\n    </tr>\n    <tr>\n      <th>...</th>\n      <td>...</td>\n      <td>...</td>\n      <td>...</td>\n    </tr>\n    <tr>\n      <th>63</th>\n      <td>167.0</td>\n      <td>8.9</td>\n      <td>2019-03-18 16:00:00</td>\n    </tr>\n    <tr>\n      <th>64</th>\n      <td>2847.0</td>\n      <td>7.0</td>\n      <td>2019-03-22 18:00:00</td>\n    </tr>\n    <tr>\n      <th>65</th>\n      <td>44.0</td>\n      <td>8.9</td>\n      <td>2019-03-26 00:00:00</td>\n    </tr>\n    <tr>\n      <th>66</th>\n      <td>45.0</td>\n      <td>8.4</td>\n      <td>2019-03-26 06:00:00</td>\n    </tr>\n    <tr>\n      <th>67</th>\n      <td>312.0</td>\n      <td>5.8</td>\n      <td>2019-03-27 16:00:00</td>\n    </tr>\n  </tbody>\n</table>\n<p>68 rows × 3 columns</p>\n</div>"
     },
     "metadata": {},
     "output_type": "execute_result",
     "execution_count": 10
    }
   ],
   "source": [
    "# Datetime nach Zeit sortieren\n",
    "data_stelle_2.sort_values(by= ['Datetime'])\n",
    "data_stelle_1.sort_values(by= ['Datetime'])\n",
    "   "
   ]
  },
  {
   "cell_type": "markdown",
   "metadata": {},
   "source": [
    "## 2. Hinzufügen und Berechnung von fehlenden Daten"
   ]
  },
  {
   "cell_type": "code",
   "execution_count": 11,
   "metadata": {
    "pycharm": {
     "is_executing": false,
     "name": "#%% \n"
    }
   },
   "outputs": [],
   "source": [
    "# Berechnung der Zeit zwischen den einzelnen Steinschlägen. \n",
    "# Die Anzahl Differenzen beläuft sich auf Anzahl Beobachtungen - 1, da der Startpunkt nicht berücksichtig werden kann\n",
    "\n",
    "# Zeitdifferenzen Abschlagstelle 1\n",
    "t_delta_stelle_1 = []\n",
    "for x in range (len(data_stelle_1['Datetime'])):\n",
    "    try:\n",
    "        delta = int(abs(data_stelle_1 ['Datetime'] [x] - data_stelle_1 ['Datetime'] [x+1]).total_seconds() / 3600)\n",
    "        t_delta_stelle_1.append(delta)   \n",
    "    except:\n",
    "        pass   \n",
    "\n",
    "# Zeitdifferenzen Abschlagstelle 2\n",
    "t_delta_stelle_2 = []\n",
    "for x in range (len(data_stelle_2['Datetime'])):\n",
    "    try:\n",
    "        delta = int(abs(data_stelle_2 ['Datetime'] [x] - data_stelle_2 ['Datetime'] [x+1]).total_seconds() / 3600)\n",
    "        t_delta_stelle_2.append(delta)   \n",
    "    except:\n",
    "        pass   \n",
    "    \n",
    "# Liste in Pandas DataFrame Objekt transformieren\n",
    "t_delta_stelle_1 = pd.DataFrame(t_delta_stelle_1, columns = ['Delta'])\n",
    "t_delta_stelle_2 = pd.DataFrame(t_delta_stelle_2, columns = ['Delta'])"
   ]
  },
  {
   "cell_type": "code",
   "execution_count": 12,
   "outputs": [],
   "source": [
    "# Die Masse der Steine muss immer > 0 sein, da die Masse im vornherein \n",
    "# geschätzt wurde können 0 KG Steine aufgerundet werden \n",
    "data_stelle_2 ['Datetime'] .where(data_stelle_2 ['Masse in kg'] == 0)\n",
    "\n",
    "# Wie zu sehen ist am 2019-03-10 16:00:00 (Zeile 23) ein Stein mit der Masse 0 Kg ins Netz gefallen. Diese Masse wird auf 1 kg angepasst\n",
    "data_stelle_2.at [23, 'Masse in kg'] = 1.0"
   ],
   "metadata": {
    "collapsed": false,
    "pycharm": {
     "name": "#%%\n",
     "is_executing": false
    }
   }
  },
  {
   "cell_type": "code",
   "execution_count": 48,
   "outputs": [
    {
     "data": {
      "text/plain": "    hour  percentile\n0      0    0.694661\n1      1    0.328086\n2      2    0.210446\n3      3    0.194323\n4      4    0.451570\n5      5    1.564517\n6      6    4.248568\n7      7    5.640588\n8      8    5.126819\n9      9    5.531887\n10    10    5.677349\n11    11    6.594687\n12    12    5.950112\n13    13    6.549371\n14    14    6.028164\n15    15    6.420566\n16    16    8.018203\n17    17    8.971603\n18    18    7.203508\n19    19    5.105443\n20    20    3.289322\n21    21    2.589497\n22    22    2.229732\n23    23    1.380980",
      "text/html": "<div>\n<style scoped>\n    .dataframe tbody tr th:only-of-type {\n        vertical-align: middle;\n    }\n\n    .dataframe tbody tr th {\n        vertical-align: top;\n    }\n\n    .dataframe thead th {\n        text-align: right;\n    }\n</style>\n<table border=\"1\" class=\"dataframe\">\n  <thead>\n    <tr style=\"text-align: right;\">\n      <th></th>\n      <th>hour</th>\n      <th>percentile</th>\n    </tr>\n  </thead>\n  <tbody>\n    <tr>\n      <th>0</th>\n      <td>0</td>\n      <td>0.694661</td>\n    </tr>\n    <tr>\n      <th>1</th>\n      <td>1</td>\n      <td>0.328086</td>\n    </tr>\n    <tr>\n      <th>2</th>\n      <td>2</td>\n      <td>0.210446</td>\n    </tr>\n    <tr>\n      <th>3</th>\n      <td>3</td>\n      <td>0.194323</td>\n    </tr>\n    <tr>\n      <th>4</th>\n      <td>4</td>\n      <td>0.451570</td>\n    </tr>\n    <tr>\n      <th>5</th>\n      <td>5</td>\n      <td>1.564517</td>\n    </tr>\n    <tr>\n      <th>6</th>\n      <td>6</td>\n      <td>4.248568</td>\n    </tr>\n    <tr>\n      <th>7</th>\n      <td>7</td>\n      <td>5.640588</td>\n    </tr>\n    <tr>\n      <th>8</th>\n      <td>8</td>\n      <td>5.126819</td>\n    </tr>\n    <tr>\n      <th>9</th>\n      <td>9</td>\n      <td>5.531887</td>\n    </tr>\n    <tr>\n      <th>10</th>\n      <td>10</td>\n      <td>5.677349</td>\n    </tr>\n    <tr>\n      <th>11</th>\n      <td>11</td>\n      <td>6.594687</td>\n    </tr>\n    <tr>\n      <th>12</th>\n      <td>12</td>\n      <td>5.950112</td>\n    </tr>\n    <tr>\n      <th>13</th>\n      <td>13</td>\n      <td>6.549371</td>\n    </tr>\n    <tr>\n      <th>14</th>\n      <td>14</td>\n      <td>6.028164</td>\n    </tr>\n    <tr>\n      <th>15</th>\n      <td>15</td>\n      <td>6.420566</td>\n    </tr>\n    <tr>\n      <th>16</th>\n      <td>16</td>\n      <td>8.018203</td>\n    </tr>\n    <tr>\n      <th>17</th>\n      <td>17</td>\n      <td>8.971603</td>\n    </tr>\n    <tr>\n      <th>18</th>\n      <td>18</td>\n      <td>7.203508</td>\n    </tr>\n    <tr>\n      <th>19</th>\n      <td>19</td>\n      <td>5.105443</td>\n    </tr>\n    <tr>\n      <th>20</th>\n      <td>20</td>\n      <td>3.289322</td>\n    </tr>\n    <tr>\n      <th>21</th>\n      <td>21</td>\n      <td>2.589497</td>\n    </tr>\n    <tr>\n      <th>22</th>\n      <td>22</td>\n      <td>2.229732</td>\n    </tr>\n    <tr>\n      <th>23</th>\n      <td>23</td>\n      <td>1.380980</td>\n    </tr>\n  </tbody>\n</table>\n</div>"
     },
     "metadata": {},
     "output_type": "execute_result",
     "execution_count": 48
    }
   ],
   "source": [
    "#Verteilung des Verkehrs über die Zeit. Dafür werden die Daten des Bundesamts für Statstik herangezogen.\n",
    "#Credit geht hier an Roman Studer, der die Daten vom Bundesamt für Statistik besorgt hat\n",
    "\n",
    "traffic = pd.read_excel(\"traffic.xlsx\")\n",
    "\n",
    "# Normierungfaktors um die percentile auf 1 zu bringen\n",
    "traffic_factor = 1 / (traffic['percentile'].sum() / 100) \n",
    "\n",
    "# Multiplikation der Kolone um die Normierung zu erhalten\n",
    "traffic['percentile'] *= traffic_factor\n"
   ],
   "metadata": {
    "collapsed": false,
    "pycharm": {
     "name": "#%%\n",
     "is_executing": false
    }
   }
  },
  {
   "cell_type": "markdown",
   "metadata": {
    "pycharm": {
     "name": "#%% md\n"
    }
   },
   "source": [
    "## 3. Datenanalyse - Welche Verteilung liegt in den einzelnen Datensätzen vor?\n",
    "Vorgehen: Zuerst werden Histogramme der einzelnen Variabeln erstellet und im zweiten Schritt ein QQ Plot.   \n",
    "Um zu überprüfen welche Verteilung den vorhergegangenen Histogrammen zugrunde liegt, \n",
    "werden im nächsten Schritt QQ-Plots erstellt um eine visuelle Überprüfung einer Normalverteilung vorzunehmen."
   ]
  },
  {
   "cell_type": "markdown",
   "metadata": {
    "pycharm": {
     "name": "#%% md\n"
    }
   },
   "source": [
    "#### Masse Ablösestelle 1"
   ]
  },
  {
   "cell_type": "code",
   "execution_count": null,
   "metadata": {
    "pycharm": {
     "is_executing": false
    }
   },
   "outputs": [],
   "source": [
    "# Analyse \n",
    "data_stelle_1['Masse in kg'].describe()"
   ]
  },
  {
   "cell_type": "code",
   "execution_count": null,
   "metadata": {
    "pycharm": {
     "is_executing": false,
     "name": "#%%\n"
    }
   },
   "outputs": [],
   "source": [
    "# Histogram \n",
    "plt.figure(figsize=(8, 8), dpi=80)\n",
    "plt.hist(data_stelle_1['Masse in kg'], bins = 20)\n",
    "\n",
    "plt.title(\"Histogramm der Masse - Stelle 1\")\n",
    "plt.ylabel(\"Anzahl Ablösungen\")\n",
    "plt.xlabel(\"Masse in kg\")   \n",
    "plt.grid(True)\n",
    "plt.show()"
   ]
  },
  {
   "cell_type": "code",
   "execution_count": null,
   "metadata": {
    "pycharm": {
     "is_executing": false,
     "name": "#%%\n"
    }
   },
   "outputs": [],
   "source": [
    "# QQ - Plot\n",
    "plt.figure(figsize=(8, 8), dpi=80)\n",
    "stats.probplot(data_stelle_1['Masse in kg'], dist=\"norm\", plot=plt)\n",
    "plt.title(\"Normal Q-Q plot - Masse Stelle 1\")\n",
    "plt.grid(True)\n",
    "plt.show()"
   ]
  },
  {
   "cell_type": "markdown",
   "metadata": {},
   "source": [
    "#### Masse Ablösestelle 2"
   ]
  },
  {
   "cell_type": "code",
   "execution_count": null,
   "metadata": {
    "pycharm": {
     "is_executing": false,
     "name": "#%%\n"
    }
   },
   "outputs": [],
   "source": [
    "# Analyse\n",
    "data_stelle_2['Masse in kg'].describe()"
   ]
  },
  {
   "cell_type": "code",
   "execution_count": null,
   "metadata": {
    "pycharm": {
     "is_executing": false,
     "name": "#%%\n"
    }
   },
   "outputs": [],
   "source": [
    "# Histogram \n",
    "plt.figure(figsize=(8, 8), dpi=80)\n",
    "plt.hist(data_stelle_2['Masse in kg'], bins = 15)\n",
    "\n",
    "plt.title(\"Histogramm der Masse - Stelle 2\")\n",
    "plt.ylabel(\"Anzahl Ablösungen\")\n",
    "plt.xlabel(\"Masse in kg\") \n",
    "plt.grid(True)\n",
    "plt.show()"
   ]
  },
  {
   "cell_type": "code",
   "execution_count": null,
   "metadata": {
    "pycharm": {
     "is_executing": false,
     "name": "#%%\n"
    }
   },
   "outputs": [],
   "source": [
    "# QQ - Plot\n",
    "plt.figure(figsize=(8, 8), dpi=80)\n",
    "stats.probplot(data_stelle_2['Masse in kg'], dist=\"norm\", plot=plt)\n",
    "plt.title(\"Normal Q-Q plot - Masse Stelle 2\")\n",
    "plt.grid(True)\n",
    "plt.show()"
   ]
  },
  {
   "cell_type": "markdown",
   "metadata": {
    "pycharm": {
     "name": "#%% md\n"
    }
   },
   "source": [
    "#### Geschwindigkeit Ablösestelle 1"
   ]
  },
  {
   "cell_type": "code",
   "execution_count": null,
   "metadata": {
    "pycharm": {
     "is_executing": false,
     "name": "#%%\n"
    }
   },
   "outputs": [],
   "source": [
    "# Analyse\n",
    "data_stelle_1['Speed in m/s'].describe()"
   ]
  },
  {
   "cell_type": "code",
   "execution_count": null,
   "metadata": {
    "pycharm": {
     "is_executing": false,
     "name": "#%%\n"
    }
   },
   "outputs": [],
   "source": [
    "# Histogram \n",
    "plt.figure(figsize=(8, 8), dpi=80)\n",
    "plt.hist(data_stelle_1['Speed in m/s'], bins = 22)\n",
    "\n",
    "plt.title(\"Histogramm der Geschwindigkeit - Stelle 1\")\n",
    "plt.ylabel(\"Anzahl Ablösungen\")\n",
    "plt.xlabel(\"Speed in m/s\")   \n",
    "plt.grid(True)\n",
    "plt.show()"
   ]
  },
  {
   "cell_type": "code",
   "execution_count": null,
   "metadata": {
    "pycharm": {
     "is_executing": false,
     "name": "#%%\n"
    }
   },
   "outputs": [],
   "source": [
    "# QQ - Plot\n",
    "plt.figure(figsize=(8, 8), dpi=80)\n",
    "stats.probplot(data_stelle_1['Speed in m/s'], dist=\"norm\", plot=plt)\n",
    "plt.title(\"Normal Q-Q plot - Speed in m/s Stelle 1\")\n",
    "plt.grid(True)\n",
    "plt.show()"
   ]
  },
  {
   "cell_type": "markdown",
   "metadata": {
    "pycharm": {
     "name": "#%% md\n"
    }
   },
   "source": [
    "#### Geschwindigkeit Ablösestelle 2"
   ]
  },
  {
   "cell_type": "code",
   "execution_count": null,
   "metadata": {
    "pycharm": {
     "is_executing": false,
     "name": "#%%\n"
    }
   },
   "outputs": [],
   "source": [
    "# Analyse \n",
    "data_stelle_2['Speed in m/s'].describe()"
   ]
  },
  {
   "cell_type": "code",
   "execution_count": null,
   "metadata": {
    "pycharm": {
     "is_executing": false,
     "name": "#%%\n"
    }
   },
   "outputs": [],
   "source": [
    "# Histogram \n",
    "plt.figure(figsize=(8, 8), dpi=80)\n",
    "plt.hist(data_stelle_2['Speed in m/s'], bins = 20)\n",
    "\n",
    "plt.title(\"Histogramm der Geschwindigkeit - Stelle 2\")\n",
    "plt.ylabel(\"Anzahl Ablösungen\")\n",
    "plt.xlabel(\"Speed in m/s\")\n",
    "plt.grid(True)\n",
    "plt.show()"
   ]
  },
  {
   "cell_type": "code",
   "execution_count": null,
   "metadata": {
    "pycharm": {
     "is_executing": false,
     "name": "#%%\n"
    }
   },
   "outputs": [],
   "source": [
    "# QQ - Plot\n",
    "plt.figure(figsize=(8, 8), dpi=80)\n",
    "stats.probplot(data_stelle_1['Speed in m/s'], dist=\"norm\", plot=plt)\n",
    "plt.title(\"Normal Q-Q plot - Speed in m/s Stelle 2\")\n",
    "plt.grid(True)\n",
    "plt.show()"
   ]
  },
  {
   "cell_type": "markdown",
   "metadata": {},
   "source": [
    "#### Zeitdifferenzen Ablösestelle 1"
   ]
  },
  {
   "cell_type": "code",
   "execution_count": null,
   "metadata": {
    "pycharm": {
     "is_executing": false,
     "name": "#%%\n"
    }
   },
   "outputs": [],
   "source": [
    "# Analyse \n",
    "t_delta_stelle_1.describe()"
   ]
  },
  {
   "cell_type": "code",
   "execution_count": null,
   "metadata": {
    "pycharm": {
     "is_executing": false,
     "name": "#%%\n"
    }
   },
   "outputs": [],
   "source": [
    "# Histogram \n",
    "plt.figure(figsize=(8, 8), dpi=80)\n",
    "plt.hist(t_delta_stelle_1 ['Delta'], bins = 50)\n",
    "\n",
    "\n",
    "plt.title(\"Histogramm der Zeitdeltas - Stelle 1\")\n",
    "plt.ylabel(\"Anzahl Ablösungen\")\n",
    "plt.xlabel(\"Zeitdifferenzen\")\n",
    "plt.grid(True)\n",
    "plt.show()"
   ]
  },
  {
   "cell_type": "code",
   "execution_count": null,
   "outputs": [],
   "source": [
    "# QQ - Plot\n",
    "plt.figure(figsize=(8, 8), dpi=80)\n",
    "stats.probplot(t_delta_stelle_1['Delta'], dist=\"norm\", plot=plt)\n",
    "plt.title(\"Normal Q-Q plot - Zeitdelta Stelle 1\")\n",
    "plt.grid(True)\n",
    "plt.show()"
   ],
   "metadata": {
    "collapsed": false,
    "pycharm": {
     "name": "#%%\n",
     "is_executing": false
    }
   }
  },
  {
   "cell_type": "markdown",
   "metadata": {},
   "source": [
    "#### Zeitdifferenzen Ablösestelle 2"
   ]
  },
  {
   "cell_type": "code",
   "execution_count": null,
   "metadata": {
    "pycharm": {
     "is_executing": false,
     "name": "#%%\n"
    }
   },
   "outputs": [],
   "source": [
    "# Analyse \n",
    "t_delta_stelle_2.describe()"
   ]
  },
  {
   "cell_type": "code",
   "execution_count": null,
   "metadata": {
    "pycharm": {
     "is_executing": false,
     "name": "#%%\n"
    }
   },
   "outputs": [],
   "source": [
    "# Histogram\n",
    "plt.figure(figsize=(8, 8), dpi=80)\n",
    "plt.hist(t_delta_stelle_2 ['Delta'], bins = 15)\n",
    "\n",
    "plt.title(\"Histogramm der Zeitdeltas - Stelle 2\")\n",
    "plt.ylabel(\"Anzahl Ablösungen\")\n",
    "plt.xlabel(\"Zeitdifferenzen\")\n",
    "plt.grid(True)\n",
    "plt.show()"
   ]
  },
  {
   "cell_type": "code",
   "execution_count": null,
   "metadata": {
    "pycharm": {
     "is_executing": false,
     "name": "#%%\n"
    }
   },
   "outputs": [],
   "source": [
    "# QQ - Plot\n",
    "plt.figure(figsize=(8, 8), dpi=80)\n",
    "stats.probplot(t_delta_stelle_2['Delta'], dist=\"norm\", plot=plt)\n",
    "plt.title(\"Normal Q-Q plot - Zeitdelta Stelle 2\")\n",
    "plt.grid(True)\n",
    "plt.show()"
   ]
  },
  {
   "cell_type": "markdown",
   "source": [
    "## 5. Distributionen der Variabeln Geschwindigkeit, Masse und Zeitdelta fitten "
   ],
   "metadata": {
    "collapsed": false,
    "pycharm": {
     "name": "#%% md\n"
    }
   }
  },
  {
   "cell_type": "code",
   "execution_count": null,
   "outputs": [],
   "source": [
    "# Geschwindigkeit Stelle 1\n",
    "data_speed_1 = data_stelle_1['Speed in m/s']\n",
    "\n",
    "\n",
    "plt.figure(figsize=(8, 8), dpi=80)\n",
    "plt.grid(True)\n",
    "plt.hist(data_speed_1, bins = 35, density = True)\n",
    "\n",
    "lnspc = np.linspace(data_speed_1.min(), data_speed_1.max(), len(data_speed_1))\n",
    "\n",
    "\n",
    "mu_speed_1, s_speed_1 = stats.norm.fit(data_speed_1) # get mean and standard deviation  \n",
    "pdf_speed_1 = stats.norm.pdf(lnspc, mu_speed_1, s_speed_1) # now get theoretical values in our interval  \n",
    "plt.plot(lnspc, pdf_speed_1, label='Normal Dist') # plot it\n",
    "\n",
    "title = \"Fit results: Distribution = Norm, mu = %.2f,  std = %.2f\" % (mu_speed_1, s_speed_1)\n",
    "plt.title(title)\n",
    "plt.show()"
   ],
   "metadata": {
    "collapsed": false,
    "pycharm": {
     "name": "#%% \n",
     "is_executing": false
    }
   }
  },
  {
   "cell_type": "code",
   "execution_count": null,
   "outputs": [],
   "source": [
    "# Geschwindigkeit Stelle 2\n",
    "data_speed_2 = data_stelle_2['Speed in m/s']\n",
    "\n",
    "plt.figure(figsize=(8, 8), dpi=80)\n",
    "plt.grid(True)\n",
    "plt.hist(data_speed_2, bins = 25, density = True)\n",
    "\n",
    "lnspc = np.linspace(data_speed_2.min(), (data_speed_2.max()+5), len(data_speed_2))\n",
    "\n",
    "\n",
    "mu_speed_2, s_speed_2 = stats.norm.fit(data_speed_2) # get mean and standard deviation  \n",
    "pdf_speed_2 = stats.norm.pdf(lnspc, mu_speed_2, s_speed_2) # now get theoretical values in our interval  \n",
    "plt.plot(lnspc, pdf_speed_2, label='Normal Dist') # plot it\n",
    "\n",
    "title = \"Fit results: Distribution = Norm, mu = %.2f,  std = %.2f\" % (mu_speed_2, s_speed_2)\n",
    "plt.title(title)\n",
    "plt.show()"
   ],
   "metadata": {
    "collapsed": false,
    "pycharm": {
     "name": "#%%\n",
     "is_executing": false
    }
   }
  },
  {
   "cell_type": "code",
   "execution_count": null,
   "outputs": [],
   "source": [
    "# Masse Stelle 1\n",
    "data_masse_1 = data_stelle_1['Masse in kg']\n",
    "\n",
    "# Histogram \n",
    "plt.figure(figsize=(8, 8), dpi=80)\n",
    "plt.grid(True)\n",
    "plt.hist(data_masse_1, bins = 30, density = True)\n",
    "\n",
    "xt = plt.xticks()[0]\n",
    "xmin, xmax = min(xt), max(xt)  \n",
    "lnspc = np.linspace(xmin, xmax, len(data_masse_1))\n",
    "\n",
    "shape_masse_1, loc_masse_1, scale_masse_1 = stats.lognorm.fit(data_masse_1, floc = 0)  # \n",
    "pdf_masse_1 = stats.lognorm.pdf(lnspc, shape_masse_1, loc_masse_1, scale_masse_1)  \n",
    "plt.plot(lnspc, pdf_masse_1)\n",
    "\n",
    "mu_masse_1 = np.log(scale_masse_1)\n",
    "s_masse_1 = shape_masse_1\n",
    "\n",
    "title = \"Fit results: Distribution = LogNorm, shape = %.2f, scale = %.2f, location = %.2f \" % (shape_masse_1, scale_masse_1, loc_masse_1)\n",
    "plt.title(title)\n",
    "plt.show()"
   ],
   "metadata": {
    "collapsed": false,
    "pycharm": {
     "name": "#%%\n",
     "is_executing": false
    }
   }
  },
  {
   "cell_type": "code",
   "execution_count": null,
   "outputs": [],
   "source": [
    "# Masse Stelle 2\n",
    "data_masse_2 = data_stelle_2['Masse in kg']\n",
    "\n",
    "plt.figure(figsize=(8, 8), dpi=80)\n",
    "plt.grid(True)\n",
    "plt.hist(data_masse_2, bins = 30, density = True)\n",
    "\n",
    "xt = plt.xticks()[0]\n",
    "xmin, xmax = min(xt), max(xt)  \n",
    "lnspc = np.linspace(xmin, xmax, len(data_masse_2))\n",
    "\n",
    "shape_masse_2, loc_masse_2, scale_masse_2 = stats.lognorm.fit(data_masse_2, floc = 0)  # \n",
    "pdf_masse_2 = stats.lognorm.pdf(lnspc, shape_masse_2, loc_masse_2, scale_masse_2)  \n",
    "plt.plot(lnspc, pdf_masse_2)\n",
    "\n",
    "mu_masse_2 = np.log(scale_masse_2)\n",
    "s_masse_2 = shape_masse_2\n",
    "\n",
    "title = \"Fit results: Distribution = LogNorm, shape = %.2f, scale = %.2f, location = %.2f \" % (shape_masse_2, scale_masse_2, loc_masse_2)\n",
    "plt.title(title)\n",
    "plt.show()"
   ],
   "metadata": {
    "collapsed": false,
    "pycharm": {
     "name": "#%%\n",
     "is_executing": false
    }
   }
  },
  {
   "cell_type": "code",
   "execution_count": null,
   "outputs": [],
   "source": [
    "# Zeitdelta Stelle 1\n",
    "data_time_1 = t_delta_stelle_1 ['Delta']\n",
    "\n",
    "plt.figure(figsize=(8, 8), dpi=80)\n",
    "plt.grid(True)\n",
    "plt.hist(data_time_1, bins = 30, density = True)\n",
    "\n",
    "xt = plt.xticks()[0]\n",
    "xmin, xmax = min(xt), max(xt)  \n",
    "lnspc = np.linspace(xmin, xmax, len(data_time_1))\n",
    "\n",
    "alpha_t_delta_1, loc_t_delta_1, beta_t_delta_1 = stats.gamma.fit(data_time_1)  \n",
    "pdf_t_delta_1 = stats.gamma.pdf(lnspc, alpha_t_delta_1, loc_t_delta_1, beta_t_delta_1)  \n",
    "plt.plot(lnspc, pdf_t_delta_1)\n",
    "\n",
    "mu_t_delta_1 = alpha_t_delta_1 * beta_t_delta_1\n",
    "s_t_delta_1 = math.sqrt(alpha_t_delta_1 * beta_t_delta_1 * beta_t_delta_1)\n",
    "\n",
    "title = \"Fit results:Distribution = Gamma, mu = %.2f,  std = %.2f, \" % (mu_t_delta_1, s_t_delta_1)\n",
    "plt.title(title)\n",
    "plt.show()"
   ],
   "metadata": {
    "collapsed": false,
    "pycharm": {
     "name": "#%%\n",
     "is_executing": false
    }
   }
  },
  {
   "cell_type": "code",
   "execution_count": null,
   "outputs": [],
   "source": [
    "# Zeitdelta Stelle 2\n",
    "data_time_2 = t_delta_stelle_2 ['Delta']\n",
    "\n",
    "plt.figure(figsize=(8, 8), dpi=80)\n",
    "plt.grid(True)\n",
    "plt.hist(data_time_2, bins = 20, density = True)\n",
    "\n",
    "xt = plt.xticks()[0]\n",
    "xmin, xmax = min(xt), max(xt)  \n",
    "lnspc = np.linspace(xmin, xmax, len(data_time_2))\n",
    "\n",
    "alpha_t_delta_2, loc_t_delta_2, beta_t_delta_2 = stats.gamma.fit(data_time_2)  \n",
    "pdf_t_delta_2 = stats.gamma.pdf(lnspc, alpha_t_delta_2, loc_t_delta_2, beta_t_delta_2)  \n",
    "plt.plot(lnspc, pdf_t_delta_2)\n",
    "\n",
    "mu_t_delta_2 = alpha_t_delta_2 * beta_t_delta_2\n",
    "s_t_delta_2 = math.sqrt(alpha_t_delta_2 * beta_t_delta_2 * beta_t_delta_2)\n",
    "\n",
    "title = \"Fit results: Distribution = Gamma, mu = %.2f,  std = %.2f, \" % (mu_t_delta_1, s_t_delta_1)\n",
    "plt.title(title)\n",
    "plt.show()"
   ],
   "metadata": {
    "collapsed": false,
    "pycharm": {
     "name": "#%%\n",
     "is_executing": false
    }
   }
  },
  {
   "cell_type": "markdown",
   "source": [
    "## Erkentnisse der Verteilungen:\n",
    "\n",
    "1. Geschwindigkeiten: Anhand des QQ Plots ist erkennbar dass sich die \n",
    "Geschwindigkeiten auf der 45 Grad Linie sauber verteilen. Bis auf ein paar Unebenheiten kann dieser Schluss zugelassen.\n",
    "Eine genauere Aussage ist nicht möglich, da der Datensatz zu klein ist.\n",
    "\n",
    "2. Masse: Dadurch, dass eine negative Beobachtung der Masse nicht vorkommen kann, \n",
    "kann im ersten Schritt auf eine lognormierte Verteilung geschlossen werden. \n",
    "Dieser Entschluss kann durch den QQ Plot gestützt werden. \n",
    "Ein gewölbter QQ Plot in einer solchen Form schliesst auf exponentielle Verteilungen zurück.\n",
    "Im anschliessenden Schritt wird eine gefittete LogNorm Verteilung über das Histogram gelegt\n",
    "um eine visuelle Überprüfung durchzuführen. Auch hier ist zu erkennen, \n",
    "dass Histogram und Distribution gut zueinander passen. \n",
    "\n",
    "3. Zeitdelta: Auf den ersten Blick unterscheiden sich die Histogramme und QQ-Plot des Zeitdeltas \n",
    "nicht massiv von denen der Masse. Jedoch ist beim Zeitdelta die Möglichkeit vorhanden, dass dieses 0 beträgt. \n",
    "Da eine lognormal Verteilung 0 Werte nicht verabreiten kann, wird auf eine Gamma Verteilung zurückgegriffen.\n",
    "Bei der visuellen Überprüfung ist zu sehen, dass die Verteilung und das Histogram ziemlich gut zueinander passen.\n",
    "\n",
    "4. Verkehrsaufkommen: In der Verteilung "
   ],
   "metadata": {
    "collapsed": false,
    "pycharm": {
     "name": "#%% md\n"
    }
   }
  },
  {
   "cell_type": "markdown",
   "metadata": {
    "pycharm": {
     "name": "#%% md\n"
    }
   },
   "source": [
    "## 6. Zufalsvariabeln definieren + Monte Carlo berechnen\n",
    "\n",
    "#### Die Motnte Carlo Simulation inkls. Definitionen der Vertielungen sind zu finden in: \n",
    "\n",
    "#### \"Monte_Carlo_Sim.ipynb\"\n",
    "  "
   ]
  },
  {
   "cell_type": "markdown",
   "source": [
    "## 7. Berechnung ob ein Fahrzeug getroffen wird wenn das Netz bricht"
   ],
   "metadata": {
    "collapsed": false,
    "pycharm": {
     "name": "#%% md\n"
    }
   }
  },
  {
   "cell_type": "code",
   "execution_count": 50,
   "outputs": [
    {
     "data": {
      "text/plain": "     Unnamed: 0  Unnamed: 0.1   Hours    Day  Hour of Day      M 1  Speed 1  \\\n0          3479          3479    3474    144           18      0.0     0.00   \n1          3939          3939    3932    163           20      0.0     0.00   \n2         19162         19162   19125    796           21      0.0     0.00   \n3         33692         33692   33621   1400           21      0.0     0.00   \n4         35864         35864   35786   1491            2  21662.6    11.28   \n..          ...           ...     ...    ...          ...      ...      ...   \n110      859347        859347  857435  35726           11      0.0     0.00   \n111      862031        862031  860115  35838            3      0.0     0.00   \n112      863499        863499  861576  35899            0      0.0     0.00   \n113      871887        871887  869945  36247           17      0.0     0.00   \n114      874250        874250  872305  36346            1      0.0     0.00   \n\n        M 2  Speed 2    E in kJ 1    E in kJ 2    Sum M  Breakthrough  \n0    1693.9    42.21     0.000000  1508.997348   1693.9             1  \n1    4740.5    34.96     0.000000  2896.923342   6419.7             1  \n2    2415.6    30.00     0.000000  1087.020000   3418.2             1  \n3    3872.3    31.49     0.000000  1919.925257   3872.3             1  \n4       0.0     0.00  1378.157282     0.000000  21662.6             1  \n..      ...      ...          ...          ...      ...           ...  \n110  1575.1    46.83     0.000000  1727.135661   1575.1             1  \n111   941.1    48.93     0.000000  1126.564883    941.1             1  \n112  1846.5    37.93     0.000000  1328.265834   1846.5             1  \n113   604.9    47.41     0.000000   679.819315   8044.9             1  \n114  1763.8    37.16     0.000000  1217.785373   1763.8             1  \n\n[115 rows x 13 columns]",
      "text/html": "<div>\n<style scoped>\n    .dataframe tbody tr th:only-of-type {\n        vertical-align: middle;\n    }\n\n    .dataframe tbody tr th {\n        vertical-align: top;\n    }\n\n    .dataframe thead th {\n        text-align: right;\n    }\n</style>\n<table border=\"1\" class=\"dataframe\">\n  <thead>\n    <tr style=\"text-align: right;\">\n      <th></th>\n      <th>Unnamed: 0</th>\n      <th>Unnamed: 0.1</th>\n      <th>Hours</th>\n      <th>Day</th>\n      <th>Hour of Day</th>\n      <th>M 1</th>\n      <th>Speed 1</th>\n      <th>M 2</th>\n      <th>Speed 2</th>\n      <th>E in kJ 1</th>\n      <th>E in kJ 2</th>\n      <th>Sum M</th>\n      <th>Breakthrough</th>\n    </tr>\n  </thead>\n  <tbody>\n    <tr>\n      <th>0</th>\n      <td>3479</td>\n      <td>3479</td>\n      <td>3474</td>\n      <td>144</td>\n      <td>18</td>\n      <td>0.0</td>\n      <td>0.00</td>\n      <td>1693.9</td>\n      <td>42.21</td>\n      <td>0.000000</td>\n      <td>1508.997348</td>\n      <td>1693.9</td>\n      <td>1</td>\n    </tr>\n    <tr>\n      <th>1</th>\n      <td>3939</td>\n      <td>3939</td>\n      <td>3932</td>\n      <td>163</td>\n      <td>20</td>\n      <td>0.0</td>\n      <td>0.00</td>\n      <td>4740.5</td>\n      <td>34.96</td>\n      <td>0.000000</td>\n      <td>2896.923342</td>\n      <td>6419.7</td>\n      <td>1</td>\n    </tr>\n    <tr>\n      <th>2</th>\n      <td>19162</td>\n      <td>19162</td>\n      <td>19125</td>\n      <td>796</td>\n      <td>21</td>\n      <td>0.0</td>\n      <td>0.00</td>\n      <td>2415.6</td>\n      <td>30.00</td>\n      <td>0.000000</td>\n      <td>1087.020000</td>\n      <td>3418.2</td>\n      <td>1</td>\n    </tr>\n    <tr>\n      <th>3</th>\n      <td>33692</td>\n      <td>33692</td>\n      <td>33621</td>\n      <td>1400</td>\n      <td>21</td>\n      <td>0.0</td>\n      <td>0.00</td>\n      <td>3872.3</td>\n      <td>31.49</td>\n      <td>0.000000</td>\n      <td>1919.925257</td>\n      <td>3872.3</td>\n      <td>1</td>\n    </tr>\n    <tr>\n      <th>4</th>\n      <td>35864</td>\n      <td>35864</td>\n      <td>35786</td>\n      <td>1491</td>\n      <td>2</td>\n      <td>21662.6</td>\n      <td>11.28</td>\n      <td>0.0</td>\n      <td>0.00</td>\n      <td>1378.157282</td>\n      <td>0.000000</td>\n      <td>21662.6</td>\n      <td>1</td>\n    </tr>\n    <tr>\n      <th>...</th>\n      <td>...</td>\n      <td>...</td>\n      <td>...</td>\n      <td>...</td>\n      <td>...</td>\n      <td>...</td>\n      <td>...</td>\n      <td>...</td>\n      <td>...</td>\n      <td>...</td>\n      <td>...</td>\n      <td>...</td>\n      <td>...</td>\n    </tr>\n    <tr>\n      <th>110</th>\n      <td>859347</td>\n      <td>859347</td>\n      <td>857435</td>\n      <td>35726</td>\n      <td>11</td>\n      <td>0.0</td>\n      <td>0.00</td>\n      <td>1575.1</td>\n      <td>46.83</td>\n      <td>0.000000</td>\n      <td>1727.135661</td>\n      <td>1575.1</td>\n      <td>1</td>\n    </tr>\n    <tr>\n      <th>111</th>\n      <td>862031</td>\n      <td>862031</td>\n      <td>860115</td>\n      <td>35838</td>\n      <td>3</td>\n      <td>0.0</td>\n      <td>0.00</td>\n      <td>941.1</td>\n      <td>48.93</td>\n      <td>0.000000</td>\n      <td>1126.564883</td>\n      <td>941.1</td>\n      <td>1</td>\n    </tr>\n    <tr>\n      <th>112</th>\n      <td>863499</td>\n      <td>863499</td>\n      <td>861576</td>\n      <td>35899</td>\n      <td>0</td>\n      <td>0.0</td>\n      <td>0.00</td>\n      <td>1846.5</td>\n      <td>37.93</td>\n      <td>0.000000</td>\n      <td>1328.265834</td>\n      <td>1846.5</td>\n      <td>1</td>\n    </tr>\n    <tr>\n      <th>113</th>\n      <td>871887</td>\n      <td>871887</td>\n      <td>869945</td>\n      <td>36247</td>\n      <td>17</td>\n      <td>0.0</td>\n      <td>0.00</td>\n      <td>604.9</td>\n      <td>47.41</td>\n      <td>0.000000</td>\n      <td>679.819315</td>\n      <td>8044.9</td>\n      <td>1</td>\n    </tr>\n    <tr>\n      <th>114</th>\n      <td>874250</td>\n      <td>874250</td>\n      <td>872305</td>\n      <td>36346</td>\n      <td>1</td>\n      <td>0.0</td>\n      <td>0.00</td>\n      <td>1763.8</td>\n      <td>37.16</td>\n      <td>0.000000</td>\n      <td>1217.785373</td>\n      <td>1763.8</td>\n      <td>1</td>\n    </tr>\n  </tbody>\n</table>\n<p>115 rows × 13 columns</p>\n</div>"
     },
     "metadata": {},
     "output_type": "execute_result",
     "execution_count": 50
    }
   ],
   "source": [
    "breakthrough = pd.read_excel('breakthrough.xlsx')\n",
    "\n",
    "# Aus \"breakthrough\" brauchen wir nur die Stunde\n",
    "verkehr"
   ],
   "metadata": {
    "collapsed": false,
    "pycharm": {
     "name": "#%%\n",
     "is_executing": false
    }
   }
  }
 ],
 "metadata": {
  "kernelspec": {
   "display_name": "Python 3",
   "language": "python",
   "name": "python3"
  },
  "language_info": {
   "codemirror_mode": {
    "name": "ipython",
    "version": 3
   },
   "file_extension": ".py",
   "mimetype": "text/x-python",
   "name": "python",
   "nbconvert_exporter": "python",
   "pygments_lexer": "ipython3",
   "version": "3.7.5"
  },
  "pycharm": {
   "stem_cell": {
    "cell_type": "raw",
    "source": [],
    "metadata": {
     "collapsed": false
    }
   }
  }
 },
 "nbformat": 4,
 "nbformat_minor": 2
}