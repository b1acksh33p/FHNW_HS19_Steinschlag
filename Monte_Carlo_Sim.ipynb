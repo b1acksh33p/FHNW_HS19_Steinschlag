{
 "cells": [
  {
   "cell_type": "code",
   "execution_count": 23,
   "metadata": {
    "collapsed": true,
    "pycharm": {
     "is_executing": false
    }
   },
   "outputs": [],
   "source": [
    "import pandas as pd\n",
    "import numpy as np\n",
    "import matplotlib.pyplot as plt\n",
    "import scipy.stats as stats\n",
    "import math\n",
    "import datetime"
   ]
  },
  {
   "cell_type": "code",
   "execution_count": 24,
   "outputs": [],
   "source": [
    "mu_masse_1 = 5.944892676091842\n",
    "s_masse_1 = 1.0452954216771342\n",
    "mu_masse_2 = 4.012421689011621\n",
    "s_masse_2 = 1.2811831375376432\n",
    "mu_speed_1 = 8.788235294117646\n",
    "s_speed_1 = 1.9745088303442118\n",
    "mu_speed_2 = 37.790625\n",
    "s_speed_2 = 5.31080027956004\n",
    "alpha_t_delta_1 = 0.7720943018929209\n",
    "beta_t_delta_1 = 32.180388904581854\n",
    "alpha_t_delta_2 = 0.6924339239082432\n",
    "beta_t_delta_2 = 85.33142881264439"
   ],
   "metadata": {
    "collapsed": false,
    "pycharm": {
     "name": "#%%\n",
     "is_executing": false
    }
   }
  },
  {
   "cell_type": "code",
   "execution_count": 25,
   "outputs": [],
   "source": [
    "def random_masse_1():\n",
    "    masse_1 = np.random.lognormal(mu_masse_1, s_masse_1, 1).round(1)\n",
    "    return masse_1\n",
    "\n",
    "def random_masse_2():\n",
    "    masse_2 = np.random.lognormal(mu_masse_2, s_masse_2, 1).round(1)\n",
    "    return masse_2\n",
    "\n",
    "def random_speed_1():\n",
    "    speed_1 = np.random.normal(mu_speed_1, s_speed_1, 1).round(2)\n",
    "    return speed_1\n",
    "\n",
    "def random_speed_2():\n",
    "    speed_2 = np.random.normal(mu_speed_2, s_speed_2, 1).round(2)\n",
    "    return speed_2\n",
    "\n",
    "def random_t_delta_1():\n",
    "    t_delta_1 = int(np.random.gamma(alpha_t_delta_1, beta_t_delta_1, 1).round(0))\n",
    "    return t_delta_1\n",
    "\n",
    "def random_t_delta_2():\n",
    "    t_delta_2 = int(np.random.gamma(alpha_t_delta_2, beta_t_delta_2, 1).round(0))\n",
    "    return t_delta_1"
   ],
   "metadata": {
    "collapsed": false,
    "pycharm": {
     "name": "#%%\n",
     "is_executing": false
    }
   }
  },
  {
   "cell_type": "code",
   "execution_count": 26,
   "outputs": [],
   "source": [
    "results = []\n",
    "double_entries = []\n",
    "\n",
    "\n",
    "\n",
    "amount_of_hours = 200\n",
    "\n",
    "for i in range (0, amount_of_hours, 1):\n",
    "    results.append(i)\n",
    "\n",
    "entries = 5\n",
    "for j in range (0, entries, 1):\n",
    "    double_entries.append(j)\n",
    "    \n",
    "results = pd.DataFrame(results, columns= ['Hours'])\n",
    "double_entries = pd.DataFrame(double_entries, columns= ['Hours'])\n",
    "\n",
    "header = ['Masse 1', 'Speed 1', 'Masse 2', 'Speed 2','Day', 'Energie in kJ 1', 'Energie in kJ 2']\n",
    "\n",
    "for value in header:\n",
    "    results[value] = np.nan\n",
    "    \n",
    "for value in header: \n",
    "    double_entries[value] = np.nan\n",
    "    "
   ],
   "metadata": {
    "collapsed": false,
    "pycharm": {
     "name": "#%%\n",
     "is_executing": false
    }
   }
  },
  {
   "cell_type": "code",
   "execution_count": 27,
   "outputs": [],
   "source": [
    "for value in header:\n",
    "    results[value] = np.nan"
   ],
   "metadata": {
    "collapsed": false,
    "pycharm": {
     "name": "#%%\n",
     "is_executing": false
    }
   }
  },
  {
   "cell_type": "code",
   "execution_count": 28,
   "outputs": [],
   "source": [
    "end = amount_of_hours\n",
    "start = 0\n",
    "i = 0\n",
    "j = 0\n",
    "event_1 = 0\n",
    "event_2 = 0"
   ],
   "metadata": {
    "collapsed": false,
    "pycharm": {
     "name": "#%%\n",
     "is_executing": false
    }
   }
  },
  {
   "cell_type": "code",
   "execution_count": 29,
   "outputs": [
    {
     "name": "stdout",
     "text": [
      "14\n",
      "18\n",
      "28\n",
      "33\n",
      "65\n",
      "78\n",
      "13\n",
      "26\n",
      "39\n",
      "52\n",
      "65\n",
      "78\n"
     ],
     "output_type": "stream"
    },
    {
     "name": "stderr",
     "text": [
      "c:\\users\\m0268176\\appdata\\local\\programs\\python\\python37\\lib\\site-packages\\ipykernel_launcher.py:6: SettingWithCopyWarning: \n",
      "A value is trying to be set on a copy of a slice from a DataFrame\n",
      "\n",
      "See the caveats in the documentation: http://pandas.pydata.org/pandas-docs/stable/user_guide/indexing.html#returning-a-view-versus-a-copy\n",
      "  \n",
      "c:\\users\\m0268176\\appdata\\local\\programs\\python\\python37\\lib\\site-packages\\ipykernel_launcher.py:9: SettingWithCopyWarning: \n",
      "A value is trying to be set on a copy of a slice from a DataFrame\n",
      "\n",
      "See the caveats in the documentation: http://pandas.pydata.org/pandas-docs/stable/user_guide/indexing.html#returning-a-view-versus-a-copy\n",
      "  if __name__ == '__main__':\n",
      "c:\\users\\m0268176\\appdata\\local\\programs\\python\\python37\\lib\\site-packages\\ipykernel_launcher.py:20: SettingWithCopyWarning: \n",
      "A value is trying to be set on a copy of a slice from a DataFrame\n",
      "\n",
      "See the caveats in the documentation: http://pandas.pydata.org/pandas-docs/stable/user_guide/indexing.html#returning-a-view-versus-a-copy\n",
      "c:\\users\\m0268176\\appdata\\local\\programs\\python\\python37\\lib\\site-packages\\ipykernel_launcher.py:23: SettingWithCopyWarning: \n",
      "A value is trying to be set on a copy of a slice from a DataFrame\n",
      "\n",
      "See the caveats in the documentation: http://pandas.pydata.org/pandas-docs/stable/user_guide/indexing.html#returning-a-view-versus-a-copy\n"
     ],
     "output_type": "stream"
    }
   ],
   "source": [
    "while i < end:\n",
    "    t_delta_1 = random_t_delta_1()\n",
    "    event_1 += t_delta_1\n",
    "    \n",
    "    masse_1 = random_masse_1()\n",
    "    results['Masse 1'][event_1] = masse_1\n",
    "    \n",
    "    speed_1 = random_speed_1()\n",
    "    results['Speed 1'][event_1] = speed_1\n",
    "    \n",
    "    print(event_1)\n",
    "    \n",
    "    i += event_1\n",
    "    \n",
    "while j < end:\n",
    "    t_delta_2 = random_t_delta_2()\n",
    "    event_2 += t_delta_2\n",
    "    \n",
    "    masse_2 = random_masse_2()\n",
    "    results['Masse 2'][event_2] = masse_2\n",
    "    \n",
    "    speed_2 = random_speed_2()\n",
    "    results['Speed 2'][event_2] = speed_2\n",
    "    \n",
    "    print(event_2)\n",
    "    \n",
    "    j += event_2"
   ],
   "metadata": {
    "collapsed": false,
    "pycharm": {
     "name": "#%%\n",
     "is_executing": false
    }
   }
  },
  {
   "cell_type": "code",
   "execution_count": 30,
   "outputs": [
    {
     "traceback": [
      "\u001b[1;31m---------------------------------------------------------------------------\u001b[0m",
      "\u001b[1;31mAttributeError\u001b[0m                            Traceback (most recent call last)",
      "\u001b[1;32m<ipython-input-30-ac93f8540a05>\u001b[0m in \u001b[0;36m<module>\u001b[1;34m\u001b[0m\n\u001b[0;32m      1\u001b[0m results['Energie in kJ 1'] = results.apply(\n\u001b[1;32m----> 2\u001b[1;33m     \u001b[1;33m(\u001b[0m\u001b[1;32mlambda\u001b[0m \u001b[0mx\u001b[0m\u001b[1;33m:\u001b[0m \u001b[0mresults\u001b[0m\u001b[1;33m[\u001b[0m\u001b[1;34m'Masse 1'\u001b[0m\u001b[1;33m]\u001b[0m \u001b[1;33m*\u001b[0m \u001b[0mresults\u001b[0m\u001b[1;33m[\u001b[0m\u001b[1;34m'Speed 1'\u001b[0m\u001b[1;33m]\u001b[0m \u001b[1;33m*\u001b[0m \u001b[0mresults\u001b[0m\u001b[1;33m[\u001b[0m\u001b[1;34m'Speed 1'\u001b[0m\u001b[1;33m]\u001b[0m \u001b[1;33m/\u001b[0m \u001b[1;36m2\u001b[0m \u001b[1;33m/\u001b[0m \u001b[1;36m1000\u001b[0m\u001b[1;33m)\u001b[0m\u001b[1;33m.\u001b[0m\u001b[0mround\u001b[0m\u001b[1;33m(\u001b[0m\u001b[1;36m2\u001b[0m\u001b[1;33m)\u001b[0m\u001b[1;33m\u001b[0m\u001b[1;33m\u001b[0m\u001b[0m\n\u001b[0m\u001b[0;32m      3\u001b[0m )\n\u001b[0;32m      4\u001b[0m \u001b[1;33m\u001b[0m\u001b[0m\n\u001b[0;32m      5\u001b[0m results['Day'] = results.apply(\n",
      "\u001b[1;31mAttributeError\u001b[0m: 'function' object has no attribute 'round'"
     ],
     "ename": "AttributeError",
     "evalue": "'function' object has no attribute 'round'",
     "output_type": "error"
    }
   ],
   "source": [
    "results['Energie in kJ 1'] = results.apply(\n",
    "    (lambda x: results['Masse 1'] * results['Speed 1'] * results['Speed 1'] / 2 / 1000).round(2)\n",
    ")\n",
    "\n",
    "results['Day'] = results.apply(\n",
    "    lambda x: results['Hours'] % 24\n",
    ")\n",
    "results.fillna(0)"
   ],
   "metadata": {
    "collapsed": false,
    "pycharm": {
     "name": "#%%\n",
     "is_executing": false
    }
   }
  },
  {
   "cell_type": "code",
   "execution_count": null,
   "outputs": [],
   "source": [
    "pd.set_option('display.max_rows', results.shape[0]+1)\n",
    "results"
   ],
   "metadata": {
    "collapsed": false,
    "pycharm": {
     "name": "#%%\n",
     "is_executing": false
    }
   }
  }
 ],
 "metadata": {
  "kernelspec": {
   "display_name": "Python 3",
   "language": "python",
   "name": "python3"
  },
  "language_info": {
   "codemirror_mode": {
    "name": "ipython",
    "version": 2
   },
   "file_extension": ".py",
   "mimetype": "text/x-python",
   "name": "python",
   "nbconvert_exporter": "python",
   "pygments_lexer": "ipython2",
   "version": "2.7.6"
  },
  "pycharm": {
   "stem_cell": {
    "cell_type": "raw",
    "source": [],
    "metadata": {
     "collapsed": false
    }
   }
  }
 },
 "nbformat": 4,
 "nbformat_minor": 0
}