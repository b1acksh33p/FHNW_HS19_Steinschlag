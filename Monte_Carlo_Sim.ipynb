{
 "cells": [
  {
   "cell_type": "code",
   "execution_count": 80,
   "metadata": {
    "collapsed": true,
    "pycharm": {
     "is_executing": false
    }
   },
   "outputs": [],
   "source": [
    "import pandas as pd\n",
    "import numpy as np\n",
    "import matplotlib.pyplot as plt\n",
    "import scipy.stats as stats\n",
    "import math\n",
    "import datetime"
   ]
  },
  {
   "cell_type": "code",
   "execution_count": 81,
   "outputs": [],
   "source": [
    "mu_masse_1 = 5.944892676091842\n",
    "s_masse_1 = 1.0452954216771342\n",
    "mu_masse_2 = 4.012421689011621\n",
    "s_masse_2 = 1.2811831375376432\n",
    "mu_speed_1 = 8.788235294117646\n",
    "s_speed_1 = 1.9745088303442118\n",
    "mu_speed_2 = 37.790625\n",
    "s_speed_2 = 5.31080027956004\n",
    "alpha_t_delta_1 = 0.7720943018929209\n",
    "beta_t_delta_1 = 32.180388904581854\n",
    "alpha_t_delta_2 = 0.6924339239082432\n",
    "beta_t_delta_2 = 85.33142881264439"
   ],
   "metadata": {
    "collapsed": false,
    "pycharm": {
     "name": "#%%\n",
     "is_executing": false
    }
   }
  },
  {
   "cell_type": "code",
   "execution_count": 82,
   "outputs": [],
   "source": [
    "def random_masse_1():\n",
    "    masse_1 = np.random.lognormal(mu_masse_1, s_masse_1, 1).round(1)\n",
    "    return masse_1\n",
    "\n",
    "def random_masse_2():\n",
    "    masse_2 = np.random.lognormal(mu_masse_2, s_masse_2, 1).round(1)\n",
    "    return masse_2\n",
    "\n",
    "def random_speed_1():\n",
    "    speed_1 = np.random.normal(mu_speed_1, s_speed_1, 1).round(2)\n",
    "    return speed_1\n",
    "\n",
    "def random_speed_2():\n",
    "    speed_2 = np.random.normal(mu_speed_2, s_speed_2, 1).round(2)\n",
    "    return speed_2\n",
    "\n",
    "def random_t_delta_1():\n",
    "    t_delta_1 = int(np.random.gamma(alpha_t_delta_1, beta_t_delta_1, 1).round(0))\n",
    "    return t_delta_1\n",
    "\n",
    "def random_t_delta_2():\n",
    "    t_delta_2 = int(np.random.gamma(alpha_t_delta_2, beta_t_delta_2, 1).round(0))"
   ],
   "metadata": {
    "collapsed": false,
    "pycharm": {
     "name": "#%%\n",
     "is_executing": false
    }
   }
  },
  {
   "cell_type": "code",
   "execution_count": 83,
   "outputs": [],
   "source": [
    "array = []\n",
    "for i in range (0, 48, 1):\n",
    "    array.append(i)\n",
    "\n",
    "header = ['Day', 'Masse 1', 'Speed 1', 'T Delta 1', 'Masse 2', 'Speed 2', 'T Delta 2', 'Kin. Energie']"
   ],
   "metadata": {
    "collapsed": false,
    "pycharm": {
     "name": "#%%\n",
     "is_executing": false
    }
   }
  },
  {
   "cell_type": "code",
   "execution_count": 84,
   "outputs": [
    {
     "data": {
      "text/plain": "   Hours  Day  Masse 1  Speed 1  T Delta 1  Masse 2  Speed 2  T Delta 2  \\\n0      0  NaN      NaN      NaN        NaN      NaN      NaN        NaN   \n1      1  NaN      NaN      NaN        NaN      NaN      NaN        NaN   \n2      2  NaN      NaN      NaN        NaN      NaN      NaN        NaN   \n3      3  NaN      NaN      NaN        NaN      NaN      NaN        NaN   \n4      4  NaN      NaN      NaN        NaN      NaN      NaN        NaN   \n\n   Kin. Energie  \n0           NaN  \n1           NaN  \n2           NaN  \n3           NaN  \n4           NaN  ",
      "text/html": "<div>\n<style scoped>\n    .dataframe tbody tr th:only-of-type {\n        vertical-align: middle;\n    }\n\n    .dataframe tbody tr th {\n        vertical-align: top;\n    }\n\n    .dataframe thead th {\n        text-align: right;\n    }\n</style>\n<table border=\"1\" class=\"dataframe\">\n  <thead>\n    <tr style=\"text-align: right;\">\n      <th></th>\n      <th>Hours</th>\n      <th>Day</th>\n      <th>Masse 1</th>\n      <th>Speed 1</th>\n      <th>T Delta 1</th>\n      <th>Masse 2</th>\n      <th>Speed 2</th>\n      <th>T Delta 2</th>\n      <th>Kin. Energie</th>\n    </tr>\n  </thead>\n  <tbody>\n    <tr>\n      <th>0</th>\n      <td>0</td>\n      <td>NaN</td>\n      <td>NaN</td>\n      <td>NaN</td>\n      <td>NaN</td>\n      <td>NaN</td>\n      <td>NaN</td>\n      <td>NaN</td>\n      <td>NaN</td>\n    </tr>\n    <tr>\n      <th>1</th>\n      <td>1</td>\n      <td>NaN</td>\n      <td>NaN</td>\n      <td>NaN</td>\n      <td>NaN</td>\n      <td>NaN</td>\n      <td>NaN</td>\n      <td>NaN</td>\n      <td>NaN</td>\n    </tr>\n    <tr>\n      <th>2</th>\n      <td>2</td>\n      <td>NaN</td>\n      <td>NaN</td>\n      <td>NaN</td>\n      <td>NaN</td>\n      <td>NaN</td>\n      <td>NaN</td>\n      <td>NaN</td>\n      <td>NaN</td>\n    </tr>\n    <tr>\n      <th>3</th>\n      <td>3</td>\n      <td>NaN</td>\n      <td>NaN</td>\n      <td>NaN</td>\n      <td>NaN</td>\n      <td>NaN</td>\n      <td>NaN</td>\n      <td>NaN</td>\n      <td>NaN</td>\n    </tr>\n    <tr>\n      <th>4</th>\n      <td>4</td>\n      <td>NaN</td>\n      <td>NaN</td>\n      <td>NaN</td>\n      <td>NaN</td>\n      <td>NaN</td>\n      <td>NaN</td>\n      <td>NaN</td>\n      <td>NaN</td>\n    </tr>\n  </tbody>\n</table>\n</div>"
     },
     "metadata": {},
     "output_type": "execute_result",
     "execution_count": 84
    }
   ],
   "source": [
    "results = ()\n",
    "results = pd.DataFrame(array, columns= ['Hours'])\n",
    "\n",
    "for value in header:\n",
    "    results[value] = np.nan\n",
    "\n",
    "results.head()"
   ],
   "metadata": {
    "collapsed": false,
    "pycharm": {
     "name": "#%%\n",
     "is_executing": false
    }
   }
  },
  {
   "cell_type": "code",
   "execution_count": 85,
   "outputs": [],
   "source": [
    "end = results['Hours'].max()\n",
    "start = 0\n",
    "i = 0"
   ],
   "metadata": {
    "collapsed": false,
    "pycharm": {
     "name": "#%%\n",
     "is_executing": false
    }
   }
  },
  {
   "cell_type": "code",
   "execution_count": 86,
   "outputs": [
    {
     "name": "stdout",
     "text": [
      "5\n"
     ],
     "output_type": "stream"
    },
    {
     "name": "stderr",
     "text": [
      "c:\\users\\m0268176\\appdata\\local\\programs\\python\\python37\\lib\\site-packages\\ipykernel_launcher.py:5: SettingWithCopyWarning: \n",
      "A value is trying to be set on a copy of a slice from a DataFrame\n",
      "\n",
      "See the caveats in the documentation: http://pandas.pydata.org/pandas-docs/stable/user_guide/indexing.html#returning-a-view-versus-a-copy\n",
      "  \"\"\"\n"
     ],
     "output_type": "stream"
    }
   ],
   "source": [
    "while i < end:\n",
    "    t_delta_1 = random_t_delta_1()\n",
    "    print (t_delta_1)\n",
    "    event_1 += t_delta_1\n",
    "    results['Masse 1'][event_1] = random_masse_1()\n",
    "    i += event_1"
   ],
   "metadata": {
    "collapsed": false,
    "pycharm": {
     "name": "#%%\n",
     "is_executing": false
    }
   }
  },
  {
   "cell_type": "code",
   "execution_count": 87,
   "outputs": [
    {
     "name": "stdout",
     "text": [
      "    Hours  Day  Masse 1  Speed 1  T Delta 1  Masse 2  Speed 2  T Delta 2  \\\n",
      "0       0  NaN      NaN      NaN        NaN      NaN      NaN        NaN   \n",
      "1       1  NaN      NaN      NaN        NaN      NaN      NaN        NaN   \n",
      "2       2  NaN      NaN      NaN        NaN      NaN      NaN        NaN   \n",
      "3       3  NaN      NaN      NaN        NaN      NaN      NaN        NaN   \n",
      "4       4  NaN      NaN      NaN        NaN      NaN      NaN        NaN   \n",
      "5       5  NaN      NaN      NaN        NaN      NaN      NaN        NaN   \n",
      "6       6  NaN      NaN      NaN        NaN      NaN      NaN        NaN   \n",
      "7       7  NaN      NaN      NaN        NaN      NaN      NaN        NaN   \n",
      "8       8  NaN      NaN      NaN        NaN      NaN      NaN        NaN   \n",
      "9       9  NaN      NaN      NaN        NaN      NaN      NaN        NaN   \n",
      "10     10  NaN      NaN      NaN        NaN      NaN      NaN        NaN   \n",
      "11     11  NaN      NaN      NaN        NaN      NaN      NaN        NaN   \n",
      "12     12  NaN      NaN      NaN        NaN      NaN      NaN        NaN   \n",
      "13     13  NaN      NaN      NaN        NaN      NaN      NaN        NaN   \n",
      "14     14  NaN      NaN      NaN        NaN      NaN      NaN        NaN   \n",
      "15     15  NaN      NaN      NaN        NaN      NaN      NaN        NaN   \n",
      "16     16  NaN      NaN      NaN        NaN      NaN      NaN        NaN   \n",
      "17     17  NaN      NaN      NaN        NaN      NaN      NaN        NaN   \n",
      "18     18  NaN      NaN      NaN        NaN      NaN      NaN        NaN   \n",
      "19     19  NaN      NaN      NaN        NaN      NaN      NaN        NaN   \n",
      "20     20  NaN      NaN      NaN        NaN      NaN      NaN        NaN   \n",
      "21     21  NaN      NaN      NaN        NaN      NaN      NaN        NaN   \n",
      "22     22  NaN      NaN      NaN        NaN      NaN      NaN        NaN   \n",
      "23     23  NaN      NaN      NaN        NaN      NaN      NaN        NaN   \n",
      "24     24  NaN      NaN      NaN        NaN      NaN      NaN        NaN   \n",
      "25     25  NaN      NaN      NaN        NaN      NaN      NaN        NaN   \n",
      "26     26  NaN      NaN      NaN        NaN      NaN      NaN        NaN   \n",
      "27     27  NaN      NaN      NaN        NaN      NaN      NaN        NaN   \n",
      "28     28  NaN      NaN      NaN        NaN      NaN      NaN        NaN   \n",
      "29     29  NaN      NaN      NaN        NaN      NaN      NaN        NaN   \n",
      "30     30  NaN      NaN      NaN        NaN      NaN      NaN        NaN   \n",
      "31     31  NaN      NaN      NaN        NaN      NaN      NaN        NaN   \n",
      "32     32  NaN      NaN      NaN        NaN      NaN      NaN        NaN   \n",
      "33     33  NaN      NaN      NaN        NaN      NaN      NaN        NaN   \n",
      "34     34  NaN      NaN      NaN        NaN      NaN      NaN        NaN   \n",
      "35     35  NaN      NaN      NaN        NaN      NaN      NaN        NaN   \n",
      "36     36  NaN      NaN      NaN        NaN      NaN      NaN        NaN   \n",
      "37     37  NaN      NaN      NaN        NaN      NaN      NaN        NaN   \n",
      "38     38  NaN      NaN      NaN        NaN      NaN      NaN        NaN   \n",
      "39     39  NaN      NaN      NaN        NaN      NaN      NaN        NaN   \n",
      "40     40  NaN      NaN      NaN        NaN      NaN      NaN        NaN   \n",
      "41     41  NaN      NaN      NaN        NaN      NaN      NaN        NaN   \n",
      "42     42  NaN      NaN      NaN        NaN      NaN      NaN        NaN   \n",
      "43     43  NaN      NaN      NaN        NaN      NaN      NaN        NaN   \n",
      "44     44  NaN      NaN      NaN        NaN      NaN      NaN        NaN   \n",
      "45     45  NaN      NaN      NaN        NaN      NaN      NaN        NaN   \n",
      "46     46  NaN      NaN      NaN        NaN      NaN      NaN        NaN   \n",
      "47     47  NaN      NaN      NaN        NaN      NaN      NaN        NaN   \n",
      "\n",
      "    Kin. Energie  \n",
      "0            NaN  \n",
      "1            NaN  \n",
      "2            NaN  \n",
      "3            NaN  \n",
      "4            NaN  \n",
      "5            NaN  \n",
      "6            NaN  \n",
      "7            NaN  \n",
      "8            NaN  \n",
      "9            NaN  \n",
      "10           NaN  \n",
      "11           NaN  \n",
      "12           NaN  \n",
      "13           NaN  \n",
      "14           NaN  \n",
      "15           NaN  \n",
      "16           NaN  \n",
      "17           NaN  \n",
      "18           NaN  \n",
      "19           NaN  \n",
      "20           NaN  \n",
      "21           NaN  \n",
      "22           NaN  \n",
      "23           NaN  \n",
      "24           NaN  \n",
      "25           NaN  \n",
      "26           NaN  \n",
      "27           NaN  \n",
      "28           NaN  \n",
      "29           NaN  \n",
      "30           NaN  \n",
      "31           NaN  \n",
      "32           NaN  \n",
      "33           NaN  \n",
      "34           NaN  \n",
      "35           NaN  \n",
      "36           NaN  \n",
      "37           NaN  \n",
      "38           NaN  \n",
      "39           NaN  \n",
      "40           NaN  \n",
      "41           NaN  \n",
      "42           NaN  \n",
      "43           NaN  \n",
      "44           NaN  \n",
      "45           NaN  \n",
      "46           NaN  \n",
      "47           NaN  \n"
     ],
     "output_type": "stream"
    }
   ],
   "source": [
    "print (results)"
   ],
   "metadata": {
    "collapsed": false,
    "pycharm": {
     "name": "#%%\n",
     "is_executing": false
    }
   }
  },
  {
   "cell_type": "code",
   "execution_count": 88,
   "outputs": [
    {
     "name": "stdout",
     "text": [
      "5\n"
     ],
     "output_type": "stream"
    }
   ],
   "source": [
    "print (t_delta_1)"
   ],
   "metadata": {
    "collapsed": false,
    "pycharm": {
     "name": "#%%\n",
     "is_executing": false
    }
   }
  }
 ],
 "metadata": {
  "kernelspec": {
   "display_name": "Python 3",
   "language": "python",
   "name": "python3"
  },
  "language_info": {
   "codemirror_mode": {
    "name": "ipython",
    "version": 2
   },
   "file_extension": ".py",
   "mimetype": "text/x-python",
   "name": "python",
   "nbconvert_exporter": "python",
   "pygments_lexer": "ipython2",
   "version": "2.7.6"
  },
  "pycharm": {
   "stem_cell": {
    "cell_type": "raw",
    "source": [],
    "metadata": {
     "collapsed": false
    }
   }
  }
 },
 "nbformat": 4,
 "nbformat_minor": 0
}