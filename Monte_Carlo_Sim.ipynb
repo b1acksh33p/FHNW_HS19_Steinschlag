{
 "cells": [
  {
   "cell_type": "code",
   "execution_count": null,
   "outputs": [],
   "source": [
    "import pandas as pd\n",
    "import numpy as np"
   ],
   "metadata": {
    "collapsed": false,
    "pycharm": {
     "name": "#%%\n"
    }
   }
  },
  {
   "cell_type": "code",
   "execution_count": null,
   "outputs": [],
   "source": [
    "# Die einzelnen Faktoren der Verteilungen werden im Copy & Paste Verfahren aus \"Steinschlag.ipynb\" verwendet\n",
    "mu_masse_1 = 5.944892676091842\n",
    "s_masse_1 = 1.0452954216771342\n",
    "mu_masse_2 = 4.012421689011621\n",
    "s_masse_2 = 1.2811831375376432\n",
    "mu_speed_1 = 8.788235294117646\n",
    "s_speed_1 = 1.9745088303442118\n",
    "mu_speed_2 = 37.790625\n",
    "s_speed_2 = 5.31080027956004\n",
    "alpha_t_delta_1 = 0.7720943018929209\n",
    "beta_t_delta_1 = 32.180388904581854\n",
    "alpha_t_delta_2 = 0.6924339239082432\n",
    "beta_t_delta_2 = 85.33142881264439"
   ],
   "metadata": {
    "collapsed": false,
    "pycharm": {
     "name": "#%%\n"
    }
   }
  },
  {
   "cell_type": "code",
   "execution_count": null,
   "outputs": [],
   "source": [
    "# Die einzelnen Verteilungsfuktionen basieren auf den Erkentnissen aus \"Steinschlag.ipynb\" und werden hier für die \n",
    "# Monte Carlo Simulation verwendet\n",
    "\n",
    "def random_masse_1():\n",
    "    masse_1 = np.random.lognormal(mu_masse_1, s_masse_1, 1).round(1)\n",
    "    return masse_1\n",
    "\n",
    "def random_masse_2():\n",
    "    masse_2 = np.random.lognormal(mu_masse_2, s_masse_2, 1).round(1)\n",
    "    return masse_2\n",
    "\n",
    "def random_speed_1():\n",
    "    speed_1 = np.random.normal(mu_speed_1, s_speed_1, 1).round(2)\n",
    "    return speed_1\n",
    "\n",
    "def random_speed_2():\n",
    "    speed_2 = np.random.normal(mu_speed_2, s_speed_2, 1).round(2)\n",
    "    return speed_2\n",
    "\n",
    "def random_t_delta_1():\n",
    "    t_delta_1 = int(np.random.gamma(alpha_t_delta_1, beta_t_delta_1, 1).round(0))\n",
    "    return t_delta_1\n",
    "\n",
    "def random_t_delta_2():\n",
    "    t_delta_2 = int(np.random.gamma(alpha_t_delta_2, beta_t_delta_2, 1).round(0))\n",
    "    return t_delta_2\n",
    "    "
   ],
   "metadata": {
    "collapsed": false,
    "pycharm": {
     "name": "#%%\n"
    }
   }
  },
  {
   "cell_type": "code",
   "execution_count": null,
   "outputs": [],
   "source": [
    "# Kreieren von Leeren Listen um die Resultate zu sammeln\n",
    "results = []\n",
    "double_entries = []\n",
    "\n",
    "# Definition der Betrachtungsdauer für die Monte Carlo\n",
    "# 100 Jahre * 365 Tage * 24 Stunden = 876'000 Stunden\n",
    "\n",
    "amount_of_hours = 876000\n",
    "\n",
    "# Kreiere eine Liste um die die Resultate darin abzufüllen\n",
    "for i in range (0, amount_of_hours, 1):\n",
    "    results.append(i)\n",
    "\n",
    "for i in range (0, amount_of_hours, 1):\n",
    "    double_entries.append(i)\n",
    "    \n",
    "# Transformation in ein Pandas DataFrame Object    \n",
    "results = pd.DataFrame(results, columns= ['Hours'])\n",
    "double_entries = pd.DataFrame(double_entries, columns= ['Hours'])\n",
    "\n",
    "# Definition der benötigten Spalten\n",
    "header = ['Day', 'Hour of Day', 'M 1', 'Speed 1', 'M 2', 'Speed 2', 'E in kJ 1', 'E in kJ 2', 'Sum M', 'Breakthrough']\n",
    "\n",
    "# Hinzufügen aller Spalten ins DataFrame Object und befülle mit NaN Werten\n",
    "for value in header:\n",
    "    results[value] = np.nan\n",
    "    \n",
    "for value in header: \n",
    "    double_entries[value] = np.nan"
   ],
   "metadata": {
    "collapsed": false,
    "pycharm": {
     "name": "#%%\n"
    }
   }
  },
  {
   "cell_type": "code",
   "execution_count": null,
   "outputs": [],
   "source": [
    "# Start- und Endpunkt für die Monte Carlo Simulation\n",
    "end = amount_of_hours\n",
    "start = 0\n",
    "\n",
    "# Iterationsschritt für Masse und Geschwindigkeit\n",
    "i = 0\n",
    "j = 0\n",
    "\n",
    "# Fortlaufender Zähler der Zeit des Abschlags\n",
    "event_1 = 0\n",
    "event_2 = 0"
   ],
   "metadata": {
    "collapsed": false,
    "pycharm": {
     "name": "#%%\n"
    }
   }
  },
  {
   "cell_type": "code",
   "execution_count": null,
   "outputs": [],
   "source": [
    "# Berechnungen der Zufallsvariablen in der Monte Carlo Simulation\n",
    "# Im ersten Schritt wird das Zeitdelta berechnet, ist das Zeitdelta > 0 dann wird die Masse und die Geschwindigkeit \n",
    "# als Zufallsvariable berechnet. Dabei wird die Funktion von weiter oben abgerufen. Im letzten Schritt werden Masse \n",
    "# und Geschwindigkeit zum Zeitpunkt \"event_X\" im DataFrame Objekt gespeichert. \n",
    "\n",
    "# Kommt es dazu, dass ein event zur gleichen Zeit zwei Mal vorkomme (2 Abschläge im gleichen Zeitenster, dann wird m \n",
    "# DataFrame \"double_entries\" abgespeichert (Bedingung t_delta = 0)\n",
    "\n",
    "while i < end:\n",
    "    t_delta_1 = random_t_delta_1()\n",
    "    \n",
    "    if t_delta_1 > 0:        \n",
    "        event_1 += t_delta_1\n",
    "        \n",
    "        masse_1 = random_masse_1()\n",
    "        results['M 1'][event_1] = masse_1\n",
    "        \n",
    "        speed_1 = random_speed_1()\n",
    "        results['Speed 1'][event_1] = speed_1\n",
    "        i += t_delta_1\n",
    "        \n",
    "    else: \n",
    "        masse_1 = random_masse_1()\n",
    "        double_entries['M 1'][event_1] = masse_1\n",
    "        \n",
    "        speed_1 = random_speed_1()\n",
    "        double_entries['Speed 1'][event_1] = speed_1\n",
    "        \n",
    "while j < end:\n",
    "    t_delta_2 = random_t_delta_2()\n",
    "    \n",
    "    if t_delta_2 > 0:\n",
    "        event_2 += t_delta_2\n",
    "    \n",
    "        masse_2 = random_masse_2()\n",
    "        results['M 2'][event_2] = masse_2\n",
    "    \n",
    "        speed_2 = random_speed_2()\n",
    "        results['Speed 2'][event_2] = speed_2\n",
    "        j += t_delta_2\n",
    "    \n",
    "    else:\n",
    "        masse_2 = random_masse_2()\n",
    "        double_entries['M 2'][event_2] = masse_2\n",
    "    \n",
    "        speed_2 = random_speed_2()\n",
    "        double_entries['Speed 2'][event_2] = speed_2 "
   ],
   "metadata": {
    "collapsed": false,
    "pycharm": {
     "name": "#%%\n"
    }
   }
  },
  {
   "cell_type": "code",
   "execution_count": null,
   "outputs": [],
   "source": [
    "# Da es wenige Ereignisse gibt die im gleichen Zeitfesnter geschehen, können die überflüssigen Zeilen rausgefiltert \n",
    "# werden\n",
    "\n",
    "filtered_double_entries = double_entries.dropna(thresh = 2)"
   ],
   "metadata": {
    "collapsed": false,
    "pycharm": {
     "name": "#%%\n"
    }
   }
  },
  {
   "cell_type": "code",
   "execution_count": null,
   "outputs": [],
   "source": [
    "# Tabelle zusammenfügen, bereinigen und auffüllen\n",
    "\n",
    "frames = [results, filtered_double_entries]\n",
    "all_data = pd.concat(frames)\n",
    "\n",
    "all_data = all_data.sort_values(by = ['Hours'] )\n",
    "\n",
    "all_data = all_data.fillna(0)\n",
    "\n",
    "all_data = all_data.reset_index(drop = True)"
   ],
   "metadata": {
    "collapsed": false,
    "pycharm": {
     "name": "#%%\n"
    }
   }
  },
  {
   "cell_type": "code",
   "execution_count": null,
   "outputs": [],
   "source": [
    "# Berechnung fehlender Felder\n",
    "\n",
    "# Formel für kinetische Energie verwenden\n",
    "all_data['E in kJ 1'] = all_data.apply(lambda x: all_data['M 1'] * all_data['Speed 1'] * all_data['Speed 1'] / 2 / 1000)\n",
    "all_data['E in kJ 2'] = all_data.apply(lambda x: all_data['M 2'] * all_data['Speed 2'] * all_data['Speed 2'] / 2 / 1000)\n",
    "\n",
    "# Berechnung des Tages um eine bessere Kotrolle im Enddokument vornehmen zu können\n",
    "all_data['Day'] = all_data.apply(lambda x: all_data['Hours'] // 24)\n",
    "\n",
    "# Berechnung der Stunde des Tages um eine bessere Kontrolle im Enddokument vornehmen zu können\n",
    "all_data['Hour of Day'] = all_data.apply(lambda x: all_data['Hours'] % 24)"
   ],
   "metadata": {
    "collapsed": false,
    "pycharm": {
     "name": "#%%\n"
    }
   }
  },
  {
   "cell_type": "code",
   "execution_count": null,
   "outputs": [],
   "source": [
    "# In diesem Schritt werden die Steine alle 24 Stunden geleert. Um dies zu bewerkstelligen, werden zur Stunde 0 die \n",
    "# Summen in den Netzen geleert und ansonsten immer mit dem vorherigen Element gefüllt.\n",
    "\n",
    "INDEX = 0\n",
    "end = all_data['Hours'].iloc[-1]\n",
    "sum_M = 0\n",
    "\n",
    "while INDEX <= end:\n",
    "\n",
    "    modulo = all_data['Hours'][INDEX] % 24\n",
    "\n",
    "    if modulo != 0:\n",
    "        sum_M += all_data['M 1'][INDEX] + all_data['M 2'][INDEX]\n",
    "\n",
    "        all_data['Sum M'][INDEX] = sum_M\n",
    "\n",
    "        INDEX += 1\n",
    "\n",
    "    else:\n",
    "        sum_M = all_data['M 1'][INDEX] + all_data['M 2'][INDEX]\n",
    "        all_data['Sum M'][INDEX] = sum_M\n",
    "        INDEX += 1"
   ],
   "metadata": {
    "collapsed": false,
    "pycharm": {
     "name": "#%%\n"
    }
   }
  },
  {
   "cell_type": "code",
   "execution_count": null,
   "outputs": [],
   "source": [
    "# Im nächsten Schritt wird beurteilt ob der runtergefallne Stein einen Durchbruch im Netz hervorruft. Ist dies der \n",
    "# Fall, dann wird in der Zelle \"Breakthrough\" eine 1 ( = True) geschrieben, ansonsten eine 0 ( = False)\n",
    "\n",
    "INDEX = 0\n",
    "end = all_data['Hours'].iloc[-1]\n",
    "\n",
    "while INDEX < end:\n",
    "    \n",
    "    if all_data['Hour of Day'][INDEX] == 0:\n",
    "        \n",
    "        if (all_data['E in kJ 1'][INDEX] or all_data['E in kJ 2'][INDEX]) >= 1000:\n",
    "            all_data['Breakthrough'][INDEX] = 1\n",
    "            \n",
    "            while True:\n",
    "                INDEX += 1\n",
    "\n",
    "                if all_data['Hour of Day'][INDEX] == 0:\n",
    "                    break\n",
    "        \n",
    "        else:\n",
    "            INDEX += 1\n",
    "       \n",
    "    else:\n",
    "        if all_data['Sum M'][INDEX-1] < 2000:\n",
    "\n",
    "            if (all_data['E in kJ 1'][INDEX] or all_data['E in kJ 2'][INDEX]) >= 1000:\n",
    "                all_data['Breakthrough'][INDEX] = 1\n",
    "                \n",
    "                while True:\n",
    "                    INDEX += 1\n",
    "                    \n",
    "                    if all_data['Hour of Day'][INDEX] == 0:\n",
    "                        break\n",
    "                        \n",
    "            else:\n",
    "                INDEX += 1\n",
    "\n",
    "\n",
    "        elif all_data['Sum M'][INDEX-1] > 2000:\n",
    "\n",
    "            if (all_data['E in kJ 1'][INDEX] or all_data['E in kJ 2'][INDEX]) >= 500:\n",
    "                all_data['Breakthrough'][INDEX] = 1\n",
    "                \n",
    "                while True:\n",
    "                    INDEX += 1\n",
    "                    \n",
    "                    if all_data['Hour of Day'][INDEX] == 0:\n",
    "                        break\n",
    "\n",
    "            else:\n",
    "                INDEX += 1\n",
    "\n",
    "writer = pd.ExcelWriter('output_per_hour.xlsx') \n",
    "all_data.to_excel(writer)\n",
    "writer.save()"
   ],
   "metadata": {
    "collapsed": false,
    "pycharm": {
     "name": "#%%\n"
    }
   }
  },
  {
   "cell_type": "code",
   "execution_count": 23,
   "outputs": [],
   "source": [
    "# Kreiere ein Subset der Breakthroughs und speichere das Dokument um es später wieder verwenden zu können\n",
    "\n",
    "subset = all_data[(all_data['Breakthrough'] > 0)]"
   ],
   "metadata": {
    "collapsed": false,
    "pycharm": {
     "name": "#%%\n",
     "is_executing": false
    }
   }
  },
  {
   "cell_type": "code",
   "execution_count": 25,
   "outputs": [],
   "source": [
    "writer = pd.ExcelWriter('breakthrough.xlsx') \n",
    "subset.to_excel(writer)\n",
    "writer.save()"
   ],
   "metadata": {
    "collapsed": false,
    "pycharm": {
     "name": "#%%\n",
     "is_executing": false
    }
   }
  }
 ],
 "metadata": {
  "kernelspec": {
   "display_name": "Python 3",
   "language": "python",
   "name": "python3"
  },
  "language_info": {
   "codemirror_mode": {
    "name": "ipython",
    "version": 3
   },
   "file_extension": ".py",
   "mimetype": "text/x-python",
   "name": "python",
   "nbconvert_exporter": "python",
   "pygments_lexer": "ipython3",
   "version": "3.7.5"
  },
  "pycharm": {
   "stem_cell": {
    "cell_type": "raw",
    "source": [],
    "metadata": {
     "collapsed": false
    }
   }
  }
 },
 "nbformat": 4,
 "nbformat_minor": 1
}