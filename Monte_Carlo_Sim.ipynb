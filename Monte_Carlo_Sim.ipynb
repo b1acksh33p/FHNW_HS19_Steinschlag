{
 "cells": [
  {
   "cell_type": "code",
   "execution_count": null,
   "metadata": {
    "collapsed": true,
    "pycharm": {
     "is_executing": true
    }
   },
   "outputs": [],
   "source": [
    "import pandas as pd\n",
    "import numpy as np\n"
   ]
  },
  {
   "cell_type": "code",
   "execution_count": null,
   "metadata": {
    "pycharm": {
     "is_executing": true,
     "name": "#%%\n"
    }
   },
   "outputs": [],
   "source": [
    "mu_masse_1 = 5.944892676091842\n",
    "s_masse_1 = 1.0452954216771342\n",
    "mu_masse_2 = 4.012421689011621\n",
    "s_masse_2 = 1.2811831375376432\n",
    "mu_speed_1 = 8.788235294117646\n",
    "s_speed_1 = 1.9745088303442118\n",
    "mu_speed_2 = 37.790625\n",
    "s_speed_2 = 5.31080027956004\n",
    "alpha_t_delta_1 = 0.7720943018929209\n",
    "beta_t_delta_1 = 32.180388904581854\n",
    "alpha_t_delta_2 = 0.6924339239082432\n",
    "beta_t_delta_2 = 85.33142881264439"
   ]
  },
  {
   "cell_type": "code",
   "execution_count": null,
   "metadata": {
    "pycharm": {
     "is_executing": true,
     "name": "#%%\n"
    }
   },
   "outputs": [],
   "source": [
    "def random_masse_1():\n",
    "    masse_1 = np.random.lognormal(mu_masse_1, s_masse_1, 1).round(1)\n",
    "    return masse_1\n",
    "\n",
    "def random_masse_2():\n",
    "    masse_2 = np.random.lognormal(mu_masse_2, s_masse_2, 1).round(1)\n",
    "    return masse_2\n",
    "\n",
    "def random_speed_1():\n",
    "    speed_1 = np.random.normal(mu_speed_1, s_speed_1, 1).round(2)\n",
    "    return speed_1\n",
    "\n",
    "def random_speed_2():\n",
    "    speed_2 = np.random.normal(mu_speed_2, s_speed_2, 1).round(2)\n",
    "    return speed_2\n",
    "\n",
    "def random_t_delta_1():\n",
    "    t_delta_1 = int(np.random.gamma(alpha_t_delta_1, beta_t_delta_1, 1).round(0))\n",
    "    return t_delta_1\n",
    "\n",
    "def random_t_delta_2():\n",
    "    t_delta_2 = int(np.random.gamma(alpha_t_delta_2, beta_t_delta_2, 1).round(0))\n",
    "    return t_delta_2\n",
    "    "
   ]
  },
  {
   "cell_type": "code",
   "execution_count": null,
   "metadata": {
    "pycharm": {
     "is_executing": true,
     "name": "#%%\n"
    }
   },
   "outputs": [],
   "source": [
    "results = []\n",
    "double_entries = []\n",
    "\n",
    "amount_of_hours = 200\n",
    "\n",
    "for i in range (0, amount_of_hours, 1):\n",
    "    results.append(i)\n",
    "\n",
    "for i in range (0, amount_of_hours, 1):\n",
    "    double_entries.append(i)\n",
    "    \n",
    "    \n",
    "results = pd.DataFrame(results, columns= ['Hours'])\n",
    "double_entries = pd.DataFrame(double_entries, columns= ['Hours'])\n",
    "\n",
    "header = ['Day', 'M 1', 'Speed 1', 'M 2', 'Speed 2', 'E in kJ 1', 'E in kJ 2']\n",
    "\n",
    "for value in header:\n",
    "    results[value] = np.nan\n",
    "    \n",
    "for value in header: \n",
    "    double_entries[value] = np.nan\n",
    "    "
   ]
  },
  {
   "cell_type": "code",
   "execution_count": null,
   "metadata": {
    "pycharm": {
     "is_executing": true,
     "name": "#%%\n"
    }
   },
   "outputs": [],
   "source": [
    "for value in header:\n",
    "    results[value] = np.nan"
   ]
  },
  {
   "cell_type": "code",
   "execution_count": null,
   "metadata": {
    "pycharm": {
     "is_executing": true,
     "name": "#%%\n"
    }
   },
   "outputs": [],
   "source": [
    "end = amount_of_hours\n",
    "start = 0\n",
    "\n",
    "i = 0\n",
    "j = 0\n",
    "\n",
    "event_1 = 0\n",
    "event_2 = 0"
   ]
  },
  {
   "cell_type": "code",
   "execution_count": null,
   "metadata": {
    "pycharm": {
     "is_executing": true,
     "name": "#%%\n"
    }
   },
   "outputs": [],
   "source": [
    "while i < end:\n",
    "    t_delta_1 = random_t_delta_1()\n",
    "    if t_delta_1 > 0:        \n",
    "        event_1 += t_delta_1\n",
    "        \n",
    "        masse_1 = random_masse_1()\n",
    "        results['M 1'][event_1] = masse_1\n",
    "        \n",
    "        speed_1 = random_speed_1()\n",
    "        results['Speed 1'][event_1] = speed_1\n",
    "        print(\"i %i\" % event_1)    \n",
    "        i += t_delta_1\n",
    "    else: \n",
    "        masse_1 = random_masse_1()\n",
    "        double_entries['M 1'][event_1] = masse_1\n",
    "        \n",
    "        speed_1 = random_speed_1()\n",
    "        double_entries['Speed 1'][event_1] = speed_1\n",
    "        print(\"double i %i\" % event_1)\n",
    "\n",
    "        \n",
    "while j < end:\n",
    "    t_delta_2 = random_t_delta_2()\n",
    "    if t_delta_2 > 0:\n",
    "        event_2 += t_delta_2\n",
    "    \n",
    "        masse_2 = random_masse_2()\n",
    "        results['M 2'][event_2] = masse_2\n",
    "    \n",
    "        speed_2 = random_speed_2()\n",
    "        results['Speed 2'][event_2] = speed_2\n",
    "        print(\"j %i\" % event_2)\n",
    "    \n",
    "        j += t_delta_2\n",
    "    \n",
    "    else:\n",
    "        masse_2 = random_masse_2()\n",
    "        double_entries['M 2'][event_2] = masse_2\n",
    "    \n",
    "        speed_2 = random_speed_2()\n",
    "        double_entries['Speed 2'][event_2] = speed_2 \n",
    "        print(\"double j %i\" % event_2)"
   ]
  },
  {
   "cell_type": "code",
   "execution_count": null,
   "metadata": {
    "pycharm": {
     "is_executing": true,
     "name": "#%%\n"
    }
   },
   "outputs": [],
   "source": [
    "filtered_double_entries = double_entries.dropna(thresh = 2)\n"
   ]
  },
  {
   "cell_type": "code",
   "execution_count": null,
   "metadata": {
    "pycharm": {
     "is_executing": true,
     "name": "#%%\n"
    }
   },
   "outputs": [],
   "source": [
    "with pd.option_context('display.max_rows', None, 'display.max_columns', None):  # more options can be specified also\n",
    "    print(filtered_double_entries)\n"
   ]
  },
  {
   "cell_type": "code",
   "execution_count": null,
   "metadata": {
    "pycharm": {
     "is_executing": true,
     "name": "#%%\n"
    }
   },
   "outputs": [],
   "source": [
    "# Tabelle zusammenfügen, bereinigen und auffüllen\n",
    "\n",
    "frames = [results, filtered_double_entries]\n",
    "all_data = pd.concat(frames)\n",
    "\n",
    "all_data = all_data.sort_values(by = ['Hours'] )\n",
    "\n",
    "all_data = all_data.fillna(0)\n",
    "\n",
    "all_data = all_data.reset_index(drop = True)"
   ]
  },
  {
   "cell_type": "code",
   "execution_count": null,
   "metadata": {
    "pycharm": {
     "is_executing": true,
     "name": "#%%\n"
    }
   },
   "outputs": [],
   "source": [
    "# Berechnung fehlender Felder\n",
    "\n",
    "all_data['E in kJ 1'] = all_data.apply(\n",
    "    lambda x: all_data['M 1'] * all_data['Speed 1'] * all_data['Speed 1'] / 2 / 1000\n",
    ")\n",
    "\n",
    "all_data['E in kJ 2'] = all_data.apply(\n",
    "    lambda x: all_data['M 2'] * all_data['Speed 2'] * all_data['Speed 2'] / 2 / 1000\n",
    ")\n",
    "\n",
    "all_data['Day'] = all_data.apply(\n",
    "    lambda x: all_data['Hours'] // 24\n",
    ")"
   ]
  },
  {
   "cell_type": "code",
   "execution_count": null,
   "metadata": {
    "pycharm": {
     "is_executing": true,
     "name": "#%%\n"
    }
   },
   "outputs": [],
   "source": [
    "with pd.option_context('display.max_rows', None, 'display.max_columns', None):  # more options can be specified also\n",
    "    print(all_data)\n",
    "    "
   ]
  },
  {
   "cell_type": "markdown",
   "metadata": {
    "pycharm": {
     "is_executing": false,
     "name": "#%% md\n"
    }
   },
   "source": [
    "Ein beauftragtes Ingenieurbüro hat geschätzt, dass die Sicherheitsnetze bis zu \n",
    "einer Aufprallenergie von 1000 kJ sicher sind. Falls bereits ein Stein mit über 2000kg in den \n",
    "Sicherheitsnetzen liegt, beträgt die Aufprallenergie, die von den Sicherheitsnetzen aufgenommen werden kann, \n",
    "nur noch 500 kJ. Steine in den Sicherheitsnetze werden \n",
    "vom Unterhaltsteam entfernt (die Reaktionszeit beträgt 24 Stunden)."
   ]
  },
  {
   "cell_type": "code",
   "execution_count": null,
   "outputs": [],
   "source": [
    "\n",
    "p = all_data.index\n",
    "print (p)"
   ],
   "metadata": {
    "collapsed": false,
    "pycharm": {
     "name": "#%%\n",
     "is_executing": true
    }
   }
  },
  {
   "cell_type": "code",
   "execution_count": null,
   "metadata": {
    "pycharm": {
     "is_executing": true,
     "name": "#%%\n"
    }
   },
   "outputs": [],
   "source": [
    "hour = 0\n",
    "y = all_data['Hours'].iloc[-1]\n",
    "test_x = 30\n",
    "x = 0\n",
    "\n",
    "sum_E_in_2 = 0\n",
    "\n",
    "while hour <= test_x:\n",
    "    print (\"hour %s\" % hour)\n",
    "    sum_M_in_1 = 0\n",
    "    if all_data['Hours'][x] % 24 != 0:\n",
    "        print (\"index hours %i\" % all_data['Hours'][x])\n",
    "        print (x)\n",
    "        sum_M_in_1 += all_data['Masse'][x]\n",
    "        print (sum_M_in_1)\n",
    "        hour += 1\n",
    "        x += 1\n",
    "        \n",
    "exit()        \n",
    "        \n"
   ]
  }
 ],
 "metadata": {
  "kernelspec": {
   "display_name": "Python 3",
   "language": "python",
   "name": "python3"
  },
  "language_info": {
   "codemirror_mode": {
    "name": "ipython",
    "version": 3
   },
   "file_extension": ".py",
   "mimetype": "text/x-python",
   "name": "python",
   "nbconvert_exporter": "python",
   "pygments_lexer": "ipython3",
   "version": "3.7.5"
  },
  "pycharm": {
   "stem_cell": {
    "cell_type": "raw",
    "source": [],
    "metadata": {
     "collapsed": false
    }
   }
  }
 },
 "nbformat": 4,
 "nbformat_minor": 1
}