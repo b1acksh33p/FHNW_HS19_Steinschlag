{
 "cells": [
  {
   "cell_type": "code",
   "execution_count": 524,
   "metadata": {
    "collapsed": true,
    "pycharm": {
     "is_executing": false
    }
   },
   "outputs": [],
   "source": [
    "import pandas as pd\n",
    "import numpy as np\n",
    "import matplotlib.pyplot as plt\n",
    "import scipy.stats as stats\n",
    "import math\n",
    "import datetime"
   ]
  },
  {
   "cell_type": "code",
   "execution_count": 525,
   "outputs": [],
   "source": [
    "mu_masse_1 = 5.944892676091842\n",
    "s_masse_1 = 1.0452954216771342\n",
    "mu_masse_2 = 4.012421689011621\n",
    "s_masse_2 = 1.2811831375376432\n",
    "mu_speed_1 = 8.788235294117646\n",
    "s_speed_1 = 1.9745088303442118\n",
    "mu_speed_2 = 37.790625\n",
    "s_speed_2 = 5.31080027956004\n",
    "alpha_t_delta_1 = 0.7720943018929209\n",
    "beta_t_delta_1 = 32.180388904581854\n",
    "alpha_t_delta_2 = 0.6924339239082432\n",
    "beta_t_delta_2 = 85.33142881264439"
   ],
   "metadata": {
    "collapsed": false,
    "pycharm": {
     "name": "#%%\n",
     "is_executing": false
    }
   }
  },
  {
   "cell_type": "code",
   "execution_count": 526,
   "outputs": [],
   "source": [
    "def random_masse_1():\n",
    "    masse_1 = np.random.lognormal(mu_masse_1, s_masse_1, 1).round(1)\n",
    "    return masse_1\n",
    "\n",
    "def random_masse_2():\n",
    "    masse_2 = np.random.lognormal(mu_masse_2, s_masse_2, 1).round(1)\n",
    "    return masse_2\n",
    "\n",
    "def random_speed_1():\n",
    "    speed_1 = np.random.normal(mu_speed_1, s_speed_1, 1).round(2)\n",
    "    return speed_1\n",
    "\n",
    "def random_speed_2():\n",
    "    speed_2 = np.random.normal(mu_speed_2, s_speed_2, 1).round(2)\n",
    "    return speed_2\n",
    "\n",
    "def random_t_delta_1():\n",
    "    t_delta_1 = np.random.exponential (scale_t_delta_1.round(0)\n",
    "    return t_delta_1\n",
    "\n",
    "def random_t_delta_1():\n",
    "    t_delta_2 = np.random.exponential (scale_t_delta_2).round(0)\n",
    "    return t_delta_1"
   ],
   "metadata": {
    "collapsed": false,
    "pycharm": {
     "name": "#%%\n",
     "is_executing": false
    }
   }
  },
  {
   "cell_type": "code",
   "execution_count": 527,
   "outputs": [],
   "source": [
    "results = []\n",
    "double_entries = []\n",
    "\n",
    "\n",
    "\n",
    "amount_of_hours = 200\n",
    "\n",
    "for i in range (0, amount_of_hours, 1):\n",
    "    results.append(i)\n",
    "\n",
    "for i in range (0, amount_of_hours, 1):\n",
    "    double_entries.append(i)\n",
    "    \n",
    "    \n",
    "results = pd.DataFrame(results, columns= ['Hours'])\n",
    "double_entries = pd.DataFrame(double_entries, columns= ['Hours'])\n",
    "\n",
    "header = ['Day', 'Masse 1', 'Speed 1', 'Masse 2', 'Speed 2', 'Energie in kJ 1', 'Energie in kJ 2']\n",
    "\n",
    "for value in header:\n",
    "    results[value] = np.nan\n",
    "    \n",
    "for value in header: \n",
    "    double_entries[value] = np.nan\n",
    "    "
   ],
   "metadata": {
    "collapsed": false,
    "pycharm": {
     "name": "#%%\n",
     "is_executing": false
    }
   }
  },
  {
   "cell_type": "code",
   "execution_count": 528,
   "outputs": [],
   "source": [
    "for value in header:\n",
    "    results[value] = np.nan"
   ],
   "metadata": {
    "collapsed": false,
    "pycharm": {
     "name": "#%%\n",
     "is_executing": false
    }
   }
  },
  {
   "cell_type": "code",
   "execution_count": 529,
   "outputs": [],
   "source": [
    "end = amount_of_hours\n",
    "start = 0\n",
    "i = 0\n",
    "j = 0\n",
    "event_1 = 0\n",
    "event_2 = 0\n",
    "a = 0"
   ],
   "metadata": {
    "collapsed": false,
    "pycharm": {
     "name": "#%%\n",
     "is_executing": false
    }
   }
  },
  {
   "cell_type": "code",
   "execution_count": 530,
   "outputs": [
    {
     "name": "stdout",
     "text": [
      "i 28\n",
      "i 50\n",
      "i 70\n",
      "i 71\n",
      "j 1\n",
      "j 2\n",
      "j 3\n",
      "j 4\n",
      "j 5\n",
      "j 6\n",
      "j 7\n",
      "j 8\n",
      "j 9\n",
      "j 10\n",
      "j 11\n",
      "j 12\n",
      "j 13\n",
      "j 14\n",
      "j 15\n",
      "j 16\n",
      "j 17\n",
      "j 18\n",
      "j 19\n",
      "j 20\n"
     ],
     "output_type": "stream"
    },
    {
     "name": "stderr",
     "text": [
      "c:\\users\\m0268176\\appdata\\local\\programs\\python\\python37\\lib\\site-packages\\ipykernel_launcher.py:7: SettingWithCopyWarning: \n",
      "A value is trying to be set on a copy of a slice from a DataFrame\n",
      "\n",
      "See the caveats in the documentation: http://pandas.pydata.org/pandas-docs/stable/user_guide/indexing.html#returning-a-view-versus-a-copy\n",
      "  import sys\n",
      "c:\\users\\m0268176\\appdata\\local\\programs\\python\\python37\\lib\\site-packages\\ipykernel_launcher.py:10: SettingWithCopyWarning: \n",
      "A value is trying to be set on a copy of a slice from a DataFrame\n",
      "\n",
      "See the caveats in the documentation: http://pandas.pydata.org/pandas-docs/stable/user_guide/indexing.html#returning-a-view-versus-a-copy\n",
      "  # Remove the CWD from sys.path while we load stuff.\n",
      "c:\\users\\m0268176\\appdata\\local\\programs\\python\\python37\\lib\\site-packages\\ipykernel_launcher.py:29: SettingWithCopyWarning: \n",
      "A value is trying to be set on a copy of a slice from a DataFrame\n",
      "\n",
      "See the caveats in the documentation: http://pandas.pydata.org/pandas-docs/stable/user_guide/indexing.html#returning-a-view-versus-a-copy\n",
      "c:\\users\\m0268176\\appdata\\local\\programs\\python\\python37\\lib\\site-packages\\ipykernel_launcher.py:32: SettingWithCopyWarning: \n",
      "A value is trying to be set on a copy of a slice from a DataFrame\n",
      "\n",
      "See the caveats in the documentation: http://pandas.pydata.org/pandas-docs/stable/user_guide/indexing.html#returning-a-view-versus-a-copy\n"
     ],
     "output_type": "stream"
    }
   ],
   "source": [
    "while i < end:\n",
    "    t_delta_1 = random_t_delta_1()\n",
    "    if t_delta_1 > 0:\n",
    "        event_1 += t_delta_1\n",
    "        \n",
    "        masse_1 = random_masse_1()\n",
    "        results['Masse 1'][event_1] = masse_1\n",
    "        \n",
    "        speed_1 = random_speed_1()\n",
    "        results['Speed 1'][event_1] = speed_1\n",
    "     \n",
    "        print(\"i %i\" % event_1)\n",
    "        i += event_1\n",
    "    else: \n",
    "        masse_1 = random_masse_1()\n",
    "        double_entries['Masse 1'][event_1] = masse_1\n",
    "        \n",
    "        speed_1 = random_speed_1()\n",
    "        double_entries['Speed 1'][event_1] = speed_1\n",
    "        print(\"i %i\" % t_delta_2)\n",
    "\n",
    "        \n",
    "while j < end:\n",
    "    t_delta_2 = random_t_delta_2()\n",
    "    if t_delta_2 > 0:\n",
    "        event_2 += t_delta_2\n",
    "    \n",
    "        masse_2 = random_masse_2()\n",
    "        results['Masse 2'][event_2] = masse_2\n",
    "    \n",
    "        speed_2 = random_speed_2()\n",
    "        results['Speed 2'][event_2] = speed_2\n",
    "    \n",
    "        print(\"j %i\" % event_2)\n",
    "    \n",
    "        j += event_2\n",
    "    \n",
    "    else:\n",
    "        masse_2 = random_masse_2()\n",
    "        double_entries['Masse 2'][event_2] = masse_2\n",
    "    \n",
    "        speed_2 = random_speed_2()\n",
    "        double_entries['Speed 2'][event_2] = speed_2 \n",
    "        print(\"j %i\" % t_delta_2)"
   ],
   "metadata": {
    "collapsed": false,
    "pycharm": {
     "name": "#%%\n",
     "is_executing": false
    }
   }
  },
  {
   "cell_type": "code",
   "execution_count": 531,
   "outputs": [
    {
     "data": {
      "text/plain": "     Hours  Day  Masse 1  Speed 1  Masse 2  Speed 2  Energie in kJ 1  \\\n0        0    0      0.0      0.0      0.0     0.00              0.0   \n1        1    0      0.0      0.0     46.8    28.87              0.0   \n2        2    0      0.0      0.0     41.2    42.04              0.0   \n3        3    0      0.0      0.0      5.6    38.89              0.0   \n4        4    0      0.0      0.0     19.6    43.27              0.0   \n..     ...  ...      ...      ...      ...      ...              ...   \n195    195    8      0.0      0.0      0.0     0.00              0.0   \n196    196    8      0.0      0.0      0.0     0.00              0.0   \n197    197    8      0.0      0.0      0.0     0.00              0.0   \n198    198    8      0.0      0.0      0.0     0.00              0.0   \n199    199    8      0.0      0.0      0.0     0.00              0.0   \n\n     Energie in kJ 2  \n0           0.000000  \n1          19.503359  \n2          36.407649  \n3           4.234810  \n4          18.348470  \n..               ...  \n195         0.000000  \n196         0.000000  \n197         0.000000  \n198         0.000000  \n199         0.000000  \n\n[200 rows x 8 columns]",
      "text/html": "<div>\n<style scoped>\n    .dataframe tbody tr th:only-of-type {\n        vertical-align: middle;\n    }\n\n    .dataframe tbody tr th {\n        vertical-align: top;\n    }\n\n    .dataframe thead th {\n        text-align: right;\n    }\n</style>\n<table border=\"1\" class=\"dataframe\">\n  <thead>\n    <tr style=\"text-align: right;\">\n      <th></th>\n      <th>Hours</th>\n      <th>Day</th>\n      <th>Masse 1</th>\n      <th>Speed 1</th>\n      <th>Masse 2</th>\n      <th>Speed 2</th>\n      <th>Energie in kJ 1</th>\n      <th>Energie in kJ 2</th>\n    </tr>\n  </thead>\n  <tbody>\n    <tr>\n      <th>0</th>\n      <td>0</td>\n      <td>0</td>\n      <td>0.0</td>\n      <td>0.0</td>\n      <td>0.0</td>\n      <td>0.00</td>\n      <td>0.0</td>\n      <td>0.000000</td>\n    </tr>\n    <tr>\n      <th>1</th>\n      <td>1</td>\n      <td>0</td>\n      <td>0.0</td>\n      <td>0.0</td>\n      <td>46.8</td>\n      <td>28.87</td>\n      <td>0.0</td>\n      <td>19.503359</td>\n    </tr>\n    <tr>\n      <th>2</th>\n      <td>2</td>\n      <td>0</td>\n      <td>0.0</td>\n      <td>0.0</td>\n      <td>41.2</td>\n      <td>42.04</td>\n      <td>0.0</td>\n      <td>36.407649</td>\n    </tr>\n    <tr>\n      <th>3</th>\n      <td>3</td>\n      <td>0</td>\n      <td>0.0</td>\n      <td>0.0</td>\n      <td>5.6</td>\n      <td>38.89</td>\n      <td>0.0</td>\n      <td>4.234810</td>\n    </tr>\n    <tr>\n      <th>4</th>\n      <td>4</td>\n      <td>0</td>\n      <td>0.0</td>\n      <td>0.0</td>\n      <td>19.6</td>\n      <td>43.27</td>\n      <td>0.0</td>\n      <td>18.348470</td>\n    </tr>\n    <tr>\n      <th>...</th>\n      <td>...</td>\n      <td>...</td>\n      <td>...</td>\n      <td>...</td>\n      <td>...</td>\n      <td>...</td>\n      <td>...</td>\n      <td>...</td>\n    </tr>\n    <tr>\n      <th>195</th>\n      <td>195</td>\n      <td>8</td>\n      <td>0.0</td>\n      <td>0.0</td>\n      <td>0.0</td>\n      <td>0.00</td>\n      <td>0.0</td>\n      <td>0.000000</td>\n    </tr>\n    <tr>\n      <th>196</th>\n      <td>196</td>\n      <td>8</td>\n      <td>0.0</td>\n      <td>0.0</td>\n      <td>0.0</td>\n      <td>0.00</td>\n      <td>0.0</td>\n      <td>0.000000</td>\n    </tr>\n    <tr>\n      <th>197</th>\n      <td>197</td>\n      <td>8</td>\n      <td>0.0</td>\n      <td>0.0</td>\n      <td>0.0</td>\n      <td>0.00</td>\n      <td>0.0</td>\n      <td>0.000000</td>\n    </tr>\n    <tr>\n      <th>198</th>\n      <td>198</td>\n      <td>8</td>\n      <td>0.0</td>\n      <td>0.0</td>\n      <td>0.0</td>\n      <td>0.00</td>\n      <td>0.0</td>\n      <td>0.000000</td>\n    </tr>\n    <tr>\n      <th>199</th>\n      <td>199</td>\n      <td>8</td>\n      <td>0.0</td>\n      <td>0.0</td>\n      <td>0.0</td>\n      <td>0.00</td>\n      <td>0.0</td>\n      <td>0.000000</td>\n    </tr>\n  </tbody>\n</table>\n<p>200 rows × 8 columns</p>\n</div>"
     },
     "metadata": {},
     "output_type": "execute_result",
     "execution_count": 531
    }
   ],
   "source": [
    "results['Energie in kJ 1'] = results.apply(\n",
    "    lambda x: results['Masse 1'] * results['Speed 1'] * results['Speed 1'] / 2 / 1000\n",
    ")\n",
    "\n",
    "results['Energie in kJ 2'] = results.apply(\n",
    "    lambda x: results['Masse 2'] * results['Speed 2'] * results['Speed 2'] / 2 / 1000\n",
    ")\n",
    "\n",
    "results['Day'] = results.apply(\n",
    "    lambda x: results['Hours'] // 24\n",
    ")\n",
    "\n",
    "results.fillna(0)\n"
   ],
   "metadata": {
    "collapsed": false,
    "pycharm": {
     "name": "#%%\n",
     "is_executing": false
    }
   }
  },
  {
   "cell_type": "code",
   "execution_count": 532,
   "outputs": [
    {
     "data": {
      "text/plain": "     Hours  Day  Masse 1  Speed 1  Masse 2  Speed 2  Energie in kJ 1  \\\n0        0  NaN      NaN      NaN      NaN      NaN              NaN   \n1        1  NaN      NaN      NaN      NaN      NaN              NaN   \n2        2  NaN      NaN      NaN      NaN      NaN              NaN   \n3        3  NaN      NaN      NaN      NaN      NaN              NaN   \n4        4  NaN      NaN      NaN      NaN      NaN              NaN   \n..     ...  ...      ...      ...      ...      ...              ...   \n195    195  NaN      NaN      NaN      NaN      NaN              NaN   \n196    196  NaN      NaN      NaN      NaN      NaN              NaN   \n197    197  NaN      NaN      NaN      NaN      NaN              NaN   \n198    198  NaN      NaN      NaN      NaN      NaN              NaN   \n199    199  NaN      NaN      NaN      NaN      NaN              NaN   \n\n     Energie in kJ 2  \n0                NaN  \n1                NaN  \n2                NaN  \n3                NaN  \n4                NaN  \n..               ...  \n195              NaN  \n196              NaN  \n197              NaN  \n198              NaN  \n199              NaN  \n\n[200 rows x 8 columns]",
      "text/html": "<div>\n<style scoped>\n    .dataframe tbody tr th:only-of-type {\n        vertical-align: middle;\n    }\n\n    .dataframe tbody tr th {\n        vertical-align: top;\n    }\n\n    .dataframe thead th {\n        text-align: right;\n    }\n</style>\n<table border=\"1\" class=\"dataframe\">\n  <thead>\n    <tr style=\"text-align: right;\">\n      <th></th>\n      <th>Hours</th>\n      <th>Day</th>\n      <th>Masse 1</th>\n      <th>Speed 1</th>\n      <th>Masse 2</th>\n      <th>Speed 2</th>\n      <th>Energie in kJ 1</th>\n      <th>Energie in kJ 2</th>\n    </tr>\n  </thead>\n  <tbody>\n    <tr>\n      <th>0</th>\n      <td>0</td>\n      <td>NaN</td>\n      <td>NaN</td>\n      <td>NaN</td>\n      <td>NaN</td>\n      <td>NaN</td>\n      <td>NaN</td>\n      <td>NaN</td>\n    </tr>\n    <tr>\n      <th>1</th>\n      <td>1</td>\n      <td>NaN</td>\n      <td>NaN</td>\n      <td>NaN</td>\n      <td>NaN</td>\n      <td>NaN</td>\n      <td>NaN</td>\n      <td>NaN</td>\n    </tr>\n    <tr>\n      <th>2</th>\n      <td>2</td>\n      <td>NaN</td>\n      <td>NaN</td>\n      <td>NaN</td>\n      <td>NaN</td>\n      <td>NaN</td>\n      <td>NaN</td>\n      <td>NaN</td>\n    </tr>\n    <tr>\n      <th>3</th>\n      <td>3</td>\n      <td>NaN</td>\n      <td>NaN</td>\n      <td>NaN</td>\n      <td>NaN</td>\n      <td>NaN</td>\n      <td>NaN</td>\n      <td>NaN</td>\n    </tr>\n    <tr>\n      <th>4</th>\n      <td>4</td>\n      <td>NaN</td>\n      <td>NaN</td>\n      <td>NaN</td>\n      <td>NaN</td>\n      <td>NaN</td>\n      <td>NaN</td>\n      <td>NaN</td>\n    </tr>\n    <tr>\n      <th>...</th>\n      <td>...</td>\n      <td>...</td>\n      <td>...</td>\n      <td>...</td>\n      <td>...</td>\n      <td>...</td>\n      <td>...</td>\n      <td>...</td>\n    </tr>\n    <tr>\n      <th>195</th>\n      <td>195</td>\n      <td>NaN</td>\n      <td>NaN</td>\n      <td>NaN</td>\n      <td>NaN</td>\n      <td>NaN</td>\n      <td>NaN</td>\n      <td>NaN</td>\n    </tr>\n    <tr>\n      <th>196</th>\n      <td>196</td>\n      <td>NaN</td>\n      <td>NaN</td>\n      <td>NaN</td>\n      <td>NaN</td>\n      <td>NaN</td>\n      <td>NaN</td>\n      <td>NaN</td>\n    </tr>\n    <tr>\n      <th>197</th>\n      <td>197</td>\n      <td>NaN</td>\n      <td>NaN</td>\n      <td>NaN</td>\n      <td>NaN</td>\n      <td>NaN</td>\n      <td>NaN</td>\n      <td>NaN</td>\n    </tr>\n    <tr>\n      <th>198</th>\n      <td>198</td>\n      <td>NaN</td>\n      <td>NaN</td>\n      <td>NaN</td>\n      <td>NaN</td>\n      <td>NaN</td>\n      <td>NaN</td>\n      <td>NaN</td>\n    </tr>\n    <tr>\n      <th>199</th>\n      <td>199</td>\n      <td>NaN</td>\n      <td>NaN</td>\n      <td>NaN</td>\n      <td>NaN</td>\n      <td>NaN</td>\n      <td>NaN</td>\n      <td>NaN</td>\n    </tr>\n  </tbody>\n</table>\n<p>200 rows × 8 columns</p>\n</div>"
     },
     "metadata": {},
     "output_type": "execute_result",
     "execution_count": 532
    }
   ],
   "source": [
    "double_entries\n"
   ],
   "metadata": {
    "collapsed": false,
    "pycharm": {
     "name": "#%%\n",
     "is_executing": false
    }
   }
  }
 ],
 "metadata": {
  "kernelspec": {
   "display_name": "Python 3",
   "language": "python",
   "name": "python3"
  },
  "language_info": {
   "codemirror_mode": {
    "name": "ipython",
    "version": 2
   },
   "file_extension": ".py",
   "mimetype": "text/x-python",
   "name": "python",
   "nbconvert_exporter": "python",
   "pygments_lexer": "ipython2",
   "version": "2.7.6"
  },
  "pycharm": {
   "stem_cell": {
    "cell_type": "raw",
    "source": [],
    "metadata": {
     "collapsed": false
    }
   }
  }
 },
 "nbformat": 4,
 "nbformat_minor": 0
}