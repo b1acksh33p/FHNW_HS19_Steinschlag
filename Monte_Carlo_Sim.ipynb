{
 "cells": [
  {
   "cell_type": "code",
   "execution_count": 4,
   "metadata": {
    "pycharm": {
     "name": "#%%\n"
    }
   },
   "outputs": [],
   "source": [
    "# Kreieren von Leeren Listen um die Resultate zu sammeln\n",
    "results = []\n",
    "double_entries = []\n",
    "\n",
    "# Definition der Betrachtungsdauer für die Monte Carlo\n",
    "# 100 Jahre * 365 Tage * 24 Stunden = 876'000 Stunden\n",
    "\n",
    "amount_of_hours = 876000\n",
    "\n",
    "# Kreiere eine Liste um die die Resultate darin abzufüllen\n",
    "for i in range (0, amount_of_hours, 1):\n",
    "    results.append(i)\n",
    "\n",
    "for i in range (0, amount_of_hours, 1):\n",
    "    double_entries.append(i)\n",
    "    \n",
    "# Transformation in ein Pandas DataFrame Object    \n",
    "results = pd.DataFrame(results, columns= ['Hours'])\n",
    "double_entries = pd.DataFrame(double_entries, columns= ['Hours'])\n",
    "\n",
    "# Definition der benötigten Spalten\n",
    "header = ['Day', 'Hour of Day', 'M 1', 'Speed 1', 'M 2', 'Speed 2', 'E in kJ 1', 'E in kJ 2', 'Sum M', 'Breakthrough']\n",
    "\n",
    "# Hinzufügen aller Spalten ins DataFrame Object und befülle mit NaN Werten\n",
    "for value in header:\n",
    "    results[value] = np.nan\n",
    "    \n",
    "for value in header: \n",
    "    double_entries[value] = np.nan"
   ]
  },
  {
   "cell_type": "code",
   "execution_count": 5,
   "metadata": {
    "pycharm": {
     "name": "#%%\n"
    }
   },
   "outputs": [],
   "source": [
    "# Start- und Endpunkt für die Monte Carlo Simulation\n",
    "end = amount_of_hours\n",
    "start = 0\n",
    "\n",
    "# Iterationsschritt für Masse und Geschwindigkeit\n",
    "i = 0\n",
    "j = 0\n",
    "\n",
    "# Fortlaufender Zähler der Zeit des Abschlags\n",
    "event_1 = 0\n",
    "event_2 = 0"
   ]
  },
  {
   "cell_type": "code",
   "execution_count": 6,
   "metadata": {
    "pycharm": {
     "name": "#%%\n"
    }
   },
   "outputs": [
    {
     "name": "stderr",
     "output_type": "stream",
     "text": [
      "c:\\users\\m0268176\\appdata\\local\\programs\\python\\python37\\lib\\site-packages\\ipykernel_launcher.py:16: SettingWithCopyWarning: \n",
      "A value is trying to be set on a copy of a slice from a DataFrame\n",
      "\n",
      "See the caveats in the documentation: http://pandas.pydata.org/pandas-docs/stable/user_guide/indexing.html#returning-a-view-versus-a-copy\n",
      "  app.launch_new_instance()\n",
      "c:\\users\\m0268176\\appdata\\local\\programs\\python\\python37\\lib\\site-packages\\ipykernel_launcher.py:19: SettingWithCopyWarning: \n",
      "A value is trying to be set on a copy of a slice from a DataFrame\n",
      "\n",
      "See the caveats in the documentation: http://pandas.pydata.org/pandas-docs/stable/user_guide/indexing.html#returning-a-view-versus-a-copy\n",
      "c:\\users\\m0268176\\appdata\\local\\programs\\python\\python37\\lib\\site-packages\\ipykernel_launcher.py:24: SettingWithCopyWarning: \n",
      "A value is trying to be set on a copy of a slice from a DataFrame\n",
      "\n",
      "See the caveats in the documentation: http://pandas.pydata.org/pandas-docs/stable/user_guide/indexing.html#returning-a-view-versus-a-copy\n",
      "c:\\users\\m0268176\\appdata\\local\\programs\\python\\python37\\lib\\site-packages\\ipykernel_launcher.py:27: SettingWithCopyWarning: \n",
      "A value is trying to be set on a copy of a slice from a DataFrame\n",
      "\n",
      "See the caveats in the documentation: http://pandas.pydata.org/pandas-docs/stable/user_guide/indexing.html#returning-a-view-versus-a-copy\n",
      "c:\\users\\m0268176\\appdata\\local\\programs\\python\\python37\\lib\\site-packages\\ipykernel_launcher.py:36: SettingWithCopyWarning: \n",
      "A value is trying to be set on a copy of a slice from a DataFrame\n",
      "\n",
      "See the caveats in the documentation: http://pandas.pydata.org/pandas-docs/stable/user_guide/indexing.html#returning-a-view-versus-a-copy\n",
      "c:\\users\\m0268176\\appdata\\local\\programs\\python\\python37\\lib\\site-packages\\ipykernel_launcher.py:39: SettingWithCopyWarning: \n",
      "A value is trying to be set on a copy of a slice from a DataFrame\n",
      "\n",
      "See the caveats in the documentation: http://pandas.pydata.org/pandas-docs/stable/user_guide/indexing.html#returning-a-view-versus-a-copy\n",
      "c:\\users\\m0268176\\appdata\\local\\programs\\python\\python37\\lib\\site-packages\\ipykernel_launcher.py:44: SettingWithCopyWarning: \n",
      "A value is trying to be set on a copy of a slice from a DataFrame\n",
      "\n",
      "See the caveats in the documentation: http://pandas.pydata.org/pandas-docs/stable/user_guide/indexing.html#returning-a-view-versus-a-copy\n",
      "c:\\users\\m0268176\\appdata\\local\\programs\\python\\python37\\lib\\site-packages\\ipykernel_launcher.py:47: SettingWithCopyWarning: \n",
      "A value is trying to be set on a copy of a slice from a DataFrame\n",
      "\n",
      "See the caveats in the documentation: http://pandas.pydata.org/pandas-docs/stable/user_guide/indexing.html#returning-a-view-versus-a-copy\n"
     ]
    }
   ],
   "source": [
    "# Berechnungen der Zufallsvariablen in der Monte Carlo Simulation\n",
    "# Im ersten Schritt wird das Zeitdelta berechnet, ist das Zeitdelta > 0 dann wird die Masse und die Geschwindigkeit \n",
    "# als Zufallsvariable berechnet. Dabei wird die Funktion von weiter oben abgerufen. Im letzten Schritt werden Masse \n",
    "# und Geschwindigkeit zum Zeitpunkt \"event_X\" im DataFrame Objekt gespeichert. \n",
    "\n",
    "# Kommt es dazu, dass ein event zur gleichen Zeit zwei Mal vorkomme (2 Abschläge im gleichen Zeitenster, dann wird m \n",
    "# DataFrame \"double_entries\" abgespeichert (Bedingung t_delta = 0)\n",
    "\n",
    "while i < end:\n",
    "    t_delta_1 = random_t_delta_1()\n",
    "    \n",
    "    if t_delta_1 > 0:        \n",
    "        event_1 += t_delta_1\n",
    "        \n",
    "        masse_1 = random_masse_1()\n",
    "        results['M 1'][event_1] = masse_1\n",
    "        \n",
    "        speed_1 = random_speed_1()\n",
    "        results['Speed 1'][event_1] = speed_1\n",
    "        i += t_delta_1\n",
    "        \n",
    "    else: \n",
    "        masse_1 = random_masse_1()\n",
    "        double_entries['M 1'][event_1] = masse_1\n",
    "        \n",
    "        speed_1 = random_speed_1()\n",
    "        double_entries['Speed 1'][event_1] = speed_1\n",
    "        \n",
    "while j < end:\n",
    "    t_delta_2 = random_t_delta_2()\n",
    "    \n",
    "    if t_delta_2 > 0:\n",
    "        event_2 += t_delta_2\n",
    "    \n",
    "        masse_2 = random_masse_2()\n",
    "        results['M 2'][event_2] = masse_2\n",
    "    \n",
    "        speed_2 = random_speed_2()\n",
    "        results['Speed 2'][event_2] = speed_2\n",
    "        j += t_delta_2\n",
    "    \n",
    "    else:\n",
    "        masse_2 = random_masse_2()\n",
    "        double_entries['M 2'][event_2] = masse_2\n",
    "    \n",
    "        speed_2 = random_speed_2()\n",
    "        double_entries['Speed 2'][event_2] = speed_2 "
   ]
  },
  {
   "cell_type": "code",
   "execution_count": 7,
   "metadata": {
    "pycharm": {
     "name": "#%%\n"
    }
   },
   "outputs": [],
   "source": [
    "# Da es wenige Ereignisse gibt die im gleichen Zeitfesnter geschehen, können die überflüssigen Zeilen rausgefiltert \n",
    "# werden\n",
    "\n",
    "filtered_double_entries = double_entries.dropna(thresh = 2)"
   ]
  },
  {
   "cell_type": "code",
   "execution_count": 8,
   "metadata": {
    "pycharm": {
     "name": "#%%\n"
    }
   },
   "outputs": [],
   "source": [
    "# Tabelle zusammenfügen, bereinigen und auffüllen\n",
    "\n",
    "frames = [results, filtered_double_entries]\n",
    "all_data = pd.concat(frames)\n",
    "\n",
    "all_data = all_data.sort_values(by = ['Hours'] )\n",
    "\n",
    "all_data = all_data.fillna(0)\n",
    "\n",
    "all_data = all_data.reset_index(drop = True)"
   ]
  },
  {
   "cell_type": "code",
   "execution_count": 9,
   "metadata": {
    "pycharm": {
     "name": "#%%\n"
    }
   },
   "outputs": [],
   "source": [
    "# Berechnung fehlender Felder\n",
    "\n",
    "# Formel für kinetische Energie verwenden\n",
    "all_data['E in kJ 1'] = all_data.apply(lambda x: all_data['M 1'] * all_data['Speed 1'] * all_data['Speed 1'] / 2 / 1000)\n",
    "all_data['E in kJ 2'] = all_data.apply(lambda x: all_data['M 2'] * all_data['Speed 2'] * all_data['Speed 2'] / 2 / 1000)\n",
    "\n",
    "# Berechnung des Tages um eine bessere Kotrolle im Enddokument vornehmen zu können\n",
    "all_data['Day'] = all_data.apply(lambda x: all_data['Hours'] // 24)\n",
    "\n",
    "# Berechnung der Stunde des Tages um eine bessere Kontrolle im Enddokument vornehmen zu können\n",
    "all_data['Hour of Day'] = all_data.apply(lambda x: all_data['Hours'] % 24)"
   ]
  },
  {
   "cell_type": "code",
   "execution_count": 10,
   "metadata": {
    "pycharm": {
     "name": "#%%\n"
    }
   },
   "outputs": [
    {
     "name": "stderr",
     "output_type": "stream",
     "text": [
      "c:\\users\\m0268176\\appdata\\local\\programs\\python\\python37\\lib\\site-packages\\ipykernel_launcher.py:21: SettingWithCopyWarning: \n",
      "A value is trying to be set on a copy of a slice from a DataFrame\n",
      "\n",
      "See the caveats in the documentation: http://pandas.pydata.org/pandas-docs/stable/user_guide/indexing.html#returning-a-view-versus-a-copy\n",
      "c:\\users\\m0268176\\appdata\\local\\programs\\python\\python37\\lib\\site-packages\\ipykernel_launcher.py:15: SettingWithCopyWarning: \n",
      "A value is trying to be set on a copy of a slice from a DataFrame\n",
      "\n",
      "See the caveats in the documentation: http://pandas.pydata.org/pandas-docs/stable/user_guide/indexing.html#returning-a-view-versus-a-copy\n",
      "  from ipykernel import kernelapp as app\n"
     ]
    }
   ],
   "source": [
    "# In diesem Schritt werden die Steine alle 24 Stunden geleert. Um dies zu bewerkstelligen, werden zur Stunde 0 die \n",
    "# Summen in den Netzen geleert und ansonsten immer mit dem vorherigen Element gefüllt.\n",
    "\n",
    "INDEX = 0\n",
    "end = all_data['Hours'].iloc[-1]\n",
    "sum_M = 0\n",
    "\n",
    "while INDEX <= end:\n",
    "\n",
    "    modulo = all_data['Hours'][INDEX] % 24\n",
    "\n",
    "    if modulo != 0:\n",
    "        sum_M += all_data['M 1'][INDEX] + all_data['M 2'][INDEX]\n",
    "\n",
    "        all_data['Sum M'][INDEX] = sum_M\n",
    "\n",
    "        INDEX += 1\n",
    "\n",
    "    else:\n",
    "        sum_M = all_data['M 1'][INDEX] + all_data['M 2'][INDEX]\n",
    "        all_data['Sum M'][INDEX] = sum_M\n",
    "        INDEX += 1"
   ]
  },
  {
   "cell_type": "code",
   "execution_count": 11,
   "metadata": {
    "pycharm": {
     "name": "#%%\n"
    }
   },
   "outputs": [
    {
     "name": "stderr",
     "output_type": "stream",
     "text": [
      "c:\\users\\m0268176\\appdata\\local\\programs\\python\\python37\\lib\\site-packages\\ipykernel_launcher.py:27: SettingWithCopyWarning: \n",
      "A value is trying to be set on a copy of a slice from a DataFrame\n",
      "\n",
      "See the caveats in the documentation: http://pandas.pydata.org/pandas-docs/stable/user_guide/indexing.html#returning-a-view-versus-a-copy\n",
      "c:\\users\\m0268176\\appdata\\local\\programs\\python\\python37\\lib\\site-packages\\ipykernel_launcher.py:42: SettingWithCopyWarning: \n",
      "A value is trying to be set on a copy of a slice from a DataFrame\n",
      "\n",
      "See the caveats in the documentation: http://pandas.pydata.org/pandas-docs/stable/user_guide/indexing.html#returning-a-view-versus-a-copy\n",
      "c:\\users\\m0268176\\appdata\\local\\programs\\python\\python37\\lib\\site-packages\\ipykernel_launcher.py:12: SettingWithCopyWarning: \n",
      "A value is trying to be set on a copy of a slice from a DataFrame\n",
      "\n",
      "See the caveats in the documentation: http://pandas.pydata.org/pandas-docs/stable/user_guide/indexing.html#returning-a-view-versus-a-copy\n",
      "  if sys.path[0] == '':\n"
     ]
    }
   ],
   "source": [
    "# Im nächsten Schritt wird beurteilt ob der runtergefallne Stein einen Durchbruch im Netz hervorruft. Ist dies der \n",
    "# Fall, dann wird in der Zelle \"Breakthrough\" eine 1 ( = True) geschrieben, ansonsten eine 0 ( = False)\n",
    "\n",
    "INDEX = 0\n",
    "end = all_data['Hours'].iloc[-1]\n",
    "\n",
    "while INDEX < end:\n",
    "    \n",
    "    if all_data['Hour of Day'][INDEX] == 0:\n",
    "        \n",
    "        if (all_data['E in kJ 1'][INDEX] or all_data['E in kJ 2'][INDEX]) >= 1000:\n",
    "            all_data['Breakthrough'][INDEX] = 1\n",
    "            \n",
    "            while True:\n",
    "                INDEX += 1\n",
    "\n",
    "                if all_data['Hour of Day'][INDEX] == 0:\n",
    "                    break\n",
    "        \n",
    "        else:\n",
    "            INDEX += 1\n",
    "       \n",
    "    else:\n",
    "        if all_data['Sum M'][INDEX-1] < 2000:\n",
    "\n",
    "            if (all_data['E in kJ 1'][INDEX] or all_data['E in kJ 2'][INDEX]) >= 1000:\n",
    "                all_data['Breakthrough'][INDEX] = 1\n",
    "                \n",
    "                while True:\n",
    "                    INDEX += 1\n",
    "                    \n",
    "                    if all_data['Hour of Day'][INDEX] == 0:\n",
    "                        break\n",
    "                        \n",
    "            else:\n",
    "                INDEX += 1\n",
    "\n",
    "\n",
    "        elif all_data['Sum M'][INDEX-1] > 2000:\n",
    "\n",
    "            if (all_data['E in kJ 1'][INDEX] or all_data['E in kJ 2'][INDEX]) >= 500:\n",
    "                all_data['Breakthrough'][INDEX] = 1\n",
    "                \n",
    "                while True:\n",
    "                    INDEX += 1\n",
    "                    \n",
    "                    if all_data['Hour of Day'][INDEX] == 0:\n",
    "                        break\n",
    "\n",
    "            else:\n",
    "                INDEX += 1\n",
    "\n",
    "writer = pd.ExcelWriter('output_per_hour.xlsx') \n",
    "all_data.to_excel(writer)\n",
    "writer.save()"
   ]
  },
  {
   "cell_type": "code",
   "execution_count": 12,
   "metadata": {
    "pycharm": {
     "is_executing": false,
     "name": "#%%\n"
    }
   },
   "outputs": [],
   "source": [
    "# Kreiere ein Subset der Breakthroughs und speichere das Dokument um es später wieder verwenden zu können\n",
    "\n",
    "subset = all_data[(all_data['Breakthrough'] > 0)]"
   ]
  },
  {
   "cell_type": "code",
   "execution_count": 13,
   "metadata": {
    "pycharm": {
     "is_executing": false,
     "name": "#%%\n"
    }
   },
   "outputs": [],
   "source": [
    "writer = pd.ExcelWriter('breakthrough.xlsx') \n",
    "subset.to_excel(writer)\n",
    "writer.save()"
   ]
  }
 ],
 "metadata": {
  "kernelspec": {
   "display_name": "Python 3",
   "language": "python",
   "name": "python3"
  },
  "language_info": {
   "codemirror_mode": {
    "name": "ipython",
    "version": 3
   },
   "file_extension": ".py",
   "mimetype": "text/x-python",
   "name": "python",
   "nbconvert_exporter": "python",
   "pygments_lexer": "ipython3",
   "version": "3.7.5"
  },
  "pycharm": {
   "stem_cell": {
    "cell_type": "raw",
    "source": [
     "\n",
     "\n",
     "\n",
     "\n",
     "\n",
     "\n",
     "# Kreieren von Leeren Listen um die Resultate zu sammeln\n",
     "results = []\n",
     "double_entries = []\n",
     "\n",
     "# Definition der Betrachtungsdauer für die Monte Carlo\n",
     "# 100 Jahre * 365 Tage * 24 Stunden = 876'000 Stunden\n",
     "\n",
     "amount_of_hours = 876000\n",
     "\n",
     "# Kreiere eine Liste um die die Resultate darin abzufüllen\n",
     "for i in range (0, amount_of_hours, 1):\n",
     "    results.append(i)\n",
     "\n",
     "for i in range (0, amount_of_hours, 1):\n",
     "    double_entries.append(i)\n",
     "    \n",
     "# Transformation in ein Pandas DataFrame Object    \n",
     "results = pd.DataFrame(results, columns= ['Hours'])\n",
     "double_entries = pd.DataFrame(double_entries, columns= ['Hours'])\n",
     "\n",
     "# Definition der benötigten Spalten\n",
     "header = ['Day', 'Hour of Day', 'M 1', 'Speed 1', 'M 2', 'Speed 2', 'E in kJ 1', 'E in kJ 2', 'Sum M', 'Breakthrough']\n",
     "\n",
     "# Hinzufügen aller Spalten ins DataFrame Object und befülle mit NaN Werten\n",
     "for value in header:\n",
     "    results[value] = np.nan\n",
     "    \n",
     "for value in header: \n",
     "    double_entries[value] = np.nan\n",
     "\n",
     "\n"
    ],
    "metadata": {
     "collapsed": false
    }
   }
  }
 },
 "nbformat": 4,
 "nbformat_minor": 1
}